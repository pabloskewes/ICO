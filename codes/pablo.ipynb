{
 "cells": [
  {
   "cell_type": "code",
   "execution_count": 2,
   "id": "6447ef43-491b-4c97-a65b-0ad7534932cc",
   "metadata": {},
   "outputs": [],
   "source": [
    "import pandas as pd\n",
    "import numpy as np"
   ]
  },
  {
   "cell_type": "code",
   "execution_count": 3,
   "id": "147f6320-5c35-4123-9767-0807b1ca1873",
   "metadata": {},
   "outputs": [],
   "source": [
    "from classes_ico import Vehicle, Customer, VRPTW\n",
    "from loading_models import load_solomon\n",
    "from solution import solution_checker"
   ]
  },
  {
   "cell_type": "code",
   "execution_count": 4,
   "id": "d8caaa76-d843-4763-a9a6-af0f76709511",
   "metadata": {},
   "outputs": [],
   "source": [
    "vrptw = load_solomon('R101.csv', nb_cust=25)"
   ]
  },
  {
   "cell_type": "code",
   "execution_count": 7,
   "id": "43130527-2f28-4d80-b378-d511bc1e2b42",
   "metadata": {},
   "outputs": [
    {
     "data": {
      "text/plain": [
       "(26, 26)"
      ]
     },
     "execution_count": 7,
     "metadata": {},
     "output_type": "execute_result"
    }
   ],
   "source": [
    "vrptw.distances.shape"
   ]
  },
  {
   "cell_type": "code",
   "execution_count": null,
   "id": "e19581e6-ff7f-49a4-bbd3-42af3b6adc21",
   "metadata": {},
   "outputs": [],
   "source": []
  },
  {
   "cell_type": "code",
   "execution_count": null,
   "id": "9cb78678-97af-419e-9612-8830eb0e9a6e",
   "metadata": {},
   "outputs": [],
   "source": []
  }
 ],
 "metadata": {
  "kernelspec": {
   "display_name": "Python 3",
   "language": "python",
   "name": "python3"
  },
  "language_info": {
   "codemirror_mode": {
    "name": "ipython",
    "version": 3
   },
   "file_extension": ".py",
   "mimetype": "text/x-python",
   "name": "python",
   "nbconvert_exporter": "python",
   "pygments_lexer": "ipython3",
   "version": "3.8.8"
  }
 },
 "nbformat": 4,
 "nbformat_minor": 5
}
