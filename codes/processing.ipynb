{
 "cells": [
  {
   "cell_type": "markdown",
   "id": "859818a8-cc1a-4f59-9c55-f31c14823d13",
   "metadata": {},
   "source": [
    "# Processing"
   ]
  },
  {
   "cell_type": "code",
   "execution_count": 8,
   "id": "0d3ca734-ae92-45f8-abaa-47578c60a7d6",
   "metadata": {},
   "outputs": [],
   "source": [
    "import numpy as np\n",
    "import pandas as pd\n",
    "import os\n",
    "\n",
    "from classes_ico import Vehicle, Customer, VRPTW\n",
    "import geopy"
   ]
  },
  {
   "cell_type": "markdown",
   "id": "4ae2c53e-7787-4523-a390-a88446ee4424",
   "metadata": {},
   "source": [
    "#### Directories"
   ]
  },
  {
   "cell_type": "code",
   "execution_count": 2,
   "id": "bc0ccd5c-0194-4674-8492-e44439427741",
   "metadata": {},
   "outputs": [],
   "source": [
    "ROOT_DIR = os.path.abspath('..')\n",
    "DATA_DIR = os.path.join(ROOT_DIR, 'data')\n",
    "\n",
    "CUSTOMER_DIR = os.path.join(DATA_DIR, '2_detail_table_customers.xls')\n",
    "VEHICLES_DIR = os.path.join(DATA_DIR, '3_detail_table_vehicles.xls')\n",
    "DEPOTS_DIR = os.path.join(DATA_DIR, '4_detail_table_depots.xls')\n",
    "CONSTRAINTS_DIR = os.path.join(DATA_DIR, '5_detail_table_constraints_sdvrp.xls')\n",
    "DEPOTS_DISTANCES_DIR = os.path.join(DATA_DIR, '6_detail_table_cust_depots_distances.xls')\n",
    "CUSTOMER_DISTANCES_DIR = os.path.join(DATA_DIR, '7_detail_table_cust_cust_distances.xls')"
   ]
  },
  {
   "cell_type": "code",
   "execution_count": 3,
   "id": "d5d80468-9d7a-4030-9258-a55799d209ed",
   "metadata": {},
   "outputs": [],
   "source": [
    "customers = pd.read_excel(CUSTOMER_DIR)\n",
    "vehicles = pd.read_excel(VEHICLES_DIR)\n",
    "depots = pd.read_excel(DEPOTS_DIR)\n",
    "constraints = pd.read_excel(CONSTRAINTS_DIR)\n",
    "depots_dist = pd.read_excel(DEPOTS_DISTANCES_DIR)\n",
    "customers_dist = pd.read_excel(CUSTOMER_DISTANCES_DIR)"
   ]
  },
  {
   "cell_type": "markdown",
   "id": "57a506cf-9055-4d67-a74c-d1d230ef48d8",
   "metadata": {},
   "source": [
    "#### Fonctions load"
   ]
  },
  {
   "cell_type": "code",
   "execution_count": 14,
   "id": "05f3a3d4-c49f-4554-b358-ede1fe57fa4f",
   "metadata": {},
   "outputs": [],
   "source": [
    "def load_vehicle(vehicles, MODE=\"mean\", vehicle_nb=None):\n",
    "    if vehicle_nb:\n",
    "        volume = vehicles[vehicles[\"VEHICLE_CODE\"]==vehicle_nb][\"VEHICLE_TOTAL_VOLUME_M3\"]\n",
    "        weight = vehicles[vehicles[\"VEHICLE_CODE\"]==vehicle_nb][\"VEHICLE_TOTAL_WEIGHT_KG\"]\n",
    "        cost_km = vehicles[vehicles[\"VEHICLE_CODE\"]==vehicle_nb][\"VEHICLE_VARIABLE_COST_KM\"]  \n",
    "    else :\n",
    "        volume = getattr(vehicles[\"VEHICLE_TOTAL_VOLUME_M3\"], MODE)()\n",
    "        weight = getattr(vehicles[\"VEHICLE_TOTAL_WEIGHT_KG\"], MODE)()\n",
    "        cost_km = getattr(vehicles[\"VEHICLE_VARIABLE_COST_KM\"], MODE)()  \n",
    "    vehicle = Vehicle(volume, weight, cost_km)\n",
    "    return vehicle"
   ]
  },
  {
   "cell_type": "code",
   "execution_count": 24,
   "id": "310a5a76-7962-41fc-aa34-333df3637b86",
   "metadata": {},
   "outputs": [],
   "source": [
    "def load_customers(CUSTOMER_DIR):\n",
    "    customers = pd.read_excel(CUSTOMER_DIR)\n",
    "    customers = customers.drop_duplicates(subset=[\"CUSTOMER_CODE\"], keep='first')\n",
    "    id = 0\n",
    "    latitude = depots.loc[0,\"DEPOT_LATITUDE\"]\n",
    "    longitude = depots.loc[0,\"DEPOT_LONGITUDE\"]\n",
    "    time_window = (depots.loc[0,\"DEPOT_AVAILABLE_TIME_FROM_MIN\"], depots.loc[0,\"DEPOT_AVAILABLE_TIME_TO_MIN\"])\n",
    "    request_volume =0\n",
    "    request_weight = 0\n",
    "    time_service = 0\n",
    "    depot = Customer(id, latitude, longitude, time_window, request_volume, request_weight, time_service)\n",
    "    list_customers = [depot]\n",
    "    for i, code in enumerate(customers[\"CUSTOMER_CODE\"]):\n",
    "        id = i\n",
    "        latitude = customers[customers[\"CUSTOMER_CODE\"]==code][\"CUSTOMER_LATITUDE\"]\n",
    "        longitude = customers[customers[\"CUSTOMER_CODE\"]==code][\"CUSTOMER_LONGITUDE\"]\n",
    "        time_window = (customers[customers[\"CUSTOMER_CODE\"]==code][\"CUSTOMER_TIME_WINDOW_FROM_MIN\"], \n",
    "                       customers[customers[\"CUSTOMER_CODE\"]==code][\"CUSTOMER_TIME_WINDOW_TO_MIN\"])\n",
    "        request_volume = customers[customers[\"CUSTOMER_CODE\"]==code][\"TOTAL_VOLUME_M3\"]\n",
    "        request_weight = customers[customers[\"CUSTOMER_CODE\"]==code][\"TOTAL_WEIGHT_KG\"]\n",
    "        time_service = customers[customers[\"CUSTOMER_CODE\"]==code][\"CUSTOMER_DELIVERY_SERVICE_TIME_MIN\"]\n",
    "        customer = Customer(id, latitude, longitude, time_window, request_volume, request_weight, time_service)\n",
    "        list_customers.append(customer)\n",
    "    return list_customers"
   ]
  },
  {
   "cell_type": "code",
   "execution_count": 25,
   "id": "e42998a1-b46b-474c-837d-9adb9f553155",
   "metadata": {},
   "outputs": [
    {
     "ename": "ValueError",
     "evalue": "The truth value of a DataFrame is ambiguous. Use a.empty, a.bool(), a.item(), a.any() or a.all().",
     "output_type": "error",
     "traceback": [
      "\u001b[1;31m---------------------------------------------------------------------------\u001b[0m",
      "\u001b[1;31mValueError\u001b[0m                                Traceback (most recent call last)",
      "\u001b[1;32m<ipython-input-25-a0a27c6cef6b>\u001b[0m in \u001b[0;36m<module>\u001b[1;34m\u001b[0m\n\u001b[1;32m----> 1\u001b[1;33m \u001b[0mprint\u001b[0m\u001b[1;33m(\u001b[0m\u001b[0mlen\u001b[0m\u001b[1;33m(\u001b[0m\u001b[0mload_customers\u001b[0m\u001b[1;33m(\u001b[0m\u001b[0mcustomers\u001b[0m\u001b[1;33m)\u001b[0m\u001b[1;33m)\u001b[0m\u001b[1;33m)\u001b[0m\u001b[1;33m\u001b[0m\u001b[1;33m\u001b[0m\u001b[0m\n\u001b[0m",
      "\u001b[1;32m<ipython-input-24-d02cdece6738>\u001b[0m in \u001b[0;36mload_customers\u001b[1;34m(CUSTOMER_DIR)\u001b[0m\n\u001b[0;32m      1\u001b[0m \u001b[1;32mdef\u001b[0m \u001b[0mload_customers\u001b[0m\u001b[1;33m(\u001b[0m\u001b[0mCUSTOMER_DIR\u001b[0m\u001b[1;33m)\u001b[0m\u001b[1;33m:\u001b[0m\u001b[1;33m\u001b[0m\u001b[1;33m\u001b[0m\u001b[0m\n\u001b[1;32m----> 2\u001b[1;33m     \u001b[0mcustomers\u001b[0m \u001b[1;33m=\u001b[0m \u001b[0mpd\u001b[0m\u001b[1;33m.\u001b[0m\u001b[0mread_excel\u001b[0m\u001b[1;33m(\u001b[0m\u001b[0mCUSTOMER_DIR\u001b[0m\u001b[1;33m)\u001b[0m\u001b[1;33m\u001b[0m\u001b[1;33m\u001b[0m\u001b[0m\n\u001b[0m\u001b[0;32m      3\u001b[0m     \u001b[0mcustomers\u001b[0m \u001b[1;33m=\u001b[0m \u001b[0mcustomers\u001b[0m\u001b[1;33m.\u001b[0m\u001b[0mdrop_duplicates\u001b[0m\u001b[1;33m(\u001b[0m\u001b[0msubset\u001b[0m\u001b[1;33m=\u001b[0m\u001b[1;33m[\u001b[0m\u001b[1;34m\"CUSTOMER_CODE\"\u001b[0m\u001b[1;33m]\u001b[0m\u001b[1;33m,\u001b[0m \u001b[0mkeep\u001b[0m\u001b[1;33m=\u001b[0m\u001b[1;34m'first'\u001b[0m\u001b[1;33m)\u001b[0m\u001b[1;33m\u001b[0m\u001b[1;33m\u001b[0m\u001b[0m\n\u001b[0;32m      4\u001b[0m     \u001b[0mid\u001b[0m \u001b[1;33m=\u001b[0m \u001b[1;36m0\u001b[0m\u001b[1;33m\u001b[0m\u001b[1;33m\u001b[0m\u001b[0m\n\u001b[0;32m      5\u001b[0m     \u001b[0mlatitude\u001b[0m \u001b[1;33m=\u001b[0m \u001b[0mdepots\u001b[0m\u001b[1;33m.\u001b[0m\u001b[0mloc\u001b[0m\u001b[1;33m[\u001b[0m\u001b[1;36m0\u001b[0m\u001b[1;33m,\u001b[0m\u001b[1;34m\"DEPOT_LATITUDE\"\u001b[0m\u001b[1;33m]\u001b[0m\u001b[1;33m\u001b[0m\u001b[1;33m\u001b[0m\u001b[0m\n",
      "\u001b[1;32m~\\anaconda3\\lib\\site-packages\\pandas\\util\\_decorators.py\u001b[0m in \u001b[0;36mwrapper\u001b[1;34m(*args, **kwargs)\u001b[0m\n\u001b[0;32m    297\u001b[0m                 )\n\u001b[0;32m    298\u001b[0m                 \u001b[0mwarnings\u001b[0m\u001b[1;33m.\u001b[0m\u001b[0mwarn\u001b[0m\u001b[1;33m(\u001b[0m\u001b[0mmsg\u001b[0m\u001b[1;33m,\u001b[0m \u001b[0mFutureWarning\u001b[0m\u001b[1;33m,\u001b[0m \u001b[0mstacklevel\u001b[0m\u001b[1;33m=\u001b[0m\u001b[0mstacklevel\u001b[0m\u001b[1;33m)\u001b[0m\u001b[1;33m\u001b[0m\u001b[1;33m\u001b[0m\u001b[0m\n\u001b[1;32m--> 299\u001b[1;33m             \u001b[1;32mreturn\u001b[0m \u001b[0mfunc\u001b[0m\u001b[1;33m(\u001b[0m\u001b[1;33m*\u001b[0m\u001b[0margs\u001b[0m\u001b[1;33m,\u001b[0m \u001b[1;33m**\u001b[0m\u001b[0mkwargs\u001b[0m\u001b[1;33m)\u001b[0m\u001b[1;33m\u001b[0m\u001b[1;33m\u001b[0m\u001b[0m\n\u001b[0m\u001b[0;32m    300\u001b[0m \u001b[1;33m\u001b[0m\u001b[0m\n\u001b[0;32m    301\u001b[0m         \u001b[1;32mreturn\u001b[0m \u001b[0mwrapper\u001b[0m\u001b[1;33m\u001b[0m\u001b[1;33m\u001b[0m\u001b[0m\n",
      "\u001b[1;32m~\\anaconda3\\lib\\site-packages\\pandas\\io\\excel\\_base.py\u001b[0m in \u001b[0;36mread_excel\u001b[1;34m(io, sheet_name, header, names, index_col, usecols, squeeze, dtype, engine, converters, true_values, false_values, skiprows, nrows, na_values, keep_default_na, na_filter, verbose, parse_dates, date_parser, thousands, comment, skipfooter, convert_float, mangle_dupe_cols, storage_options)\u001b[0m\n\u001b[0;32m    334\u001b[0m     \u001b[1;32mif\u001b[0m \u001b[1;32mnot\u001b[0m \u001b[0misinstance\u001b[0m\u001b[1;33m(\u001b[0m\u001b[0mio\u001b[0m\u001b[1;33m,\u001b[0m \u001b[0mExcelFile\u001b[0m\u001b[1;33m)\u001b[0m\u001b[1;33m:\u001b[0m\u001b[1;33m\u001b[0m\u001b[1;33m\u001b[0m\u001b[0m\n\u001b[0;32m    335\u001b[0m         \u001b[0mshould_close\u001b[0m \u001b[1;33m=\u001b[0m \u001b[1;32mTrue\u001b[0m\u001b[1;33m\u001b[0m\u001b[1;33m\u001b[0m\u001b[0m\n\u001b[1;32m--> 336\u001b[1;33m         \u001b[0mio\u001b[0m \u001b[1;33m=\u001b[0m \u001b[0mExcelFile\u001b[0m\u001b[1;33m(\u001b[0m\u001b[0mio\u001b[0m\u001b[1;33m,\u001b[0m \u001b[0mstorage_options\u001b[0m\u001b[1;33m=\u001b[0m\u001b[0mstorage_options\u001b[0m\u001b[1;33m,\u001b[0m \u001b[0mengine\u001b[0m\u001b[1;33m=\u001b[0m\u001b[0mengine\u001b[0m\u001b[1;33m)\u001b[0m\u001b[1;33m\u001b[0m\u001b[1;33m\u001b[0m\u001b[0m\n\u001b[0m\u001b[0;32m    337\u001b[0m     \u001b[1;32melif\u001b[0m \u001b[0mengine\u001b[0m \u001b[1;32mand\u001b[0m \u001b[0mengine\u001b[0m \u001b[1;33m!=\u001b[0m \u001b[0mio\u001b[0m\u001b[1;33m.\u001b[0m\u001b[0mengine\u001b[0m\u001b[1;33m:\u001b[0m\u001b[1;33m\u001b[0m\u001b[1;33m\u001b[0m\u001b[0m\n\u001b[0;32m    338\u001b[0m         raise ValueError(\n",
      "\u001b[1;32m~\\anaconda3\\lib\\site-packages\\pandas\\io\\excel\\_base.py\u001b[0m in \u001b[0;36m__init__\u001b[1;34m(self, path_or_buffer, engine, storage_options)\u001b[0m\n\u001b[0;32m   1069\u001b[0m                 \u001b[0mext\u001b[0m \u001b[1;33m=\u001b[0m \u001b[1;34m\"xls\"\u001b[0m\u001b[1;33m\u001b[0m\u001b[1;33m\u001b[0m\u001b[0m\n\u001b[0;32m   1070\u001b[0m             \u001b[1;32melse\u001b[0m\u001b[1;33m:\u001b[0m\u001b[1;33m\u001b[0m\u001b[1;33m\u001b[0m\u001b[0m\n\u001b[1;32m-> 1071\u001b[1;33m                 ext = inspect_excel_format(\n\u001b[0m\u001b[0;32m   1072\u001b[0m                     \u001b[0mcontent\u001b[0m\u001b[1;33m=\u001b[0m\u001b[0mpath_or_buffer\u001b[0m\u001b[1;33m,\u001b[0m \u001b[0mstorage_options\u001b[0m\u001b[1;33m=\u001b[0m\u001b[0mstorage_options\u001b[0m\u001b[1;33m\u001b[0m\u001b[1;33m\u001b[0m\u001b[0m\n\u001b[0;32m   1073\u001b[0m                 )\n",
      "\u001b[1;32m~\\anaconda3\\lib\\site-packages\\pandas\\io\\excel\\_base.py\u001b[0m in \u001b[0;36minspect_excel_format\u001b[1;34m(path, content, storage_options)\u001b[0m\n\u001b[0;32m    944\u001b[0m         \u001b[0mcontent_or_path\u001b[0m \u001b[1;33m=\u001b[0m \u001b[0mBytesIO\u001b[0m\u001b[1;33m(\u001b[0m\u001b[0mcontent\u001b[0m\u001b[1;33m)\u001b[0m\u001b[1;33m\u001b[0m\u001b[1;33m\u001b[0m\u001b[0m\n\u001b[0;32m    945\u001b[0m     \u001b[1;32melse\u001b[0m\u001b[1;33m:\u001b[0m\u001b[1;33m\u001b[0m\u001b[1;33m\u001b[0m\u001b[0m\n\u001b[1;32m--> 946\u001b[1;33m         \u001b[0mcontent_or_path\u001b[0m \u001b[1;33m=\u001b[0m \u001b[0mcontent\u001b[0m \u001b[1;32mor\u001b[0m \u001b[0mpath\u001b[0m\u001b[1;33m\u001b[0m\u001b[1;33m\u001b[0m\u001b[0m\n\u001b[0m\u001b[0;32m    947\u001b[0m     \u001b[1;32massert\u001b[0m \u001b[0mcontent_or_path\u001b[0m \u001b[1;32mis\u001b[0m \u001b[1;32mnot\u001b[0m \u001b[1;32mNone\u001b[0m\u001b[1;33m\u001b[0m\u001b[1;33m\u001b[0m\u001b[0m\n\u001b[0;32m    948\u001b[0m \u001b[1;33m\u001b[0m\u001b[0m\n",
      "\u001b[1;32m~\\anaconda3\\lib\\site-packages\\pandas\\core\\generic.py\u001b[0m in \u001b[0;36m__nonzero__\u001b[1;34m(self)\u001b[0m\n\u001b[0;32m   1440\u001b[0m     \u001b[1;33m@\u001b[0m\u001b[0mfinal\u001b[0m\u001b[1;33m\u001b[0m\u001b[1;33m\u001b[0m\u001b[0m\n\u001b[0;32m   1441\u001b[0m     \u001b[1;32mdef\u001b[0m \u001b[0m__nonzero__\u001b[0m\u001b[1;33m(\u001b[0m\u001b[0mself\u001b[0m\u001b[1;33m)\u001b[0m\u001b[1;33m:\u001b[0m\u001b[1;33m\u001b[0m\u001b[1;33m\u001b[0m\u001b[0m\n\u001b[1;32m-> 1442\u001b[1;33m         raise ValueError(\n\u001b[0m\u001b[0;32m   1443\u001b[0m             \u001b[1;34mf\"The truth value of a {type(self).__name__} is ambiguous. \"\u001b[0m\u001b[1;33m\u001b[0m\u001b[1;33m\u001b[0m\u001b[0m\n\u001b[0;32m   1444\u001b[0m             \u001b[1;34m\"Use a.empty, a.bool(), a.item(), a.any() or a.all().\"\u001b[0m\u001b[1;33m\u001b[0m\u001b[1;33m\u001b[0m\u001b[0m\n",
      "\u001b[1;31mValueError\u001b[0m: The truth value of a DataFrame is ambiguous. Use a.empty, a.bool(), a.item(), a.any() or a.all()."
     ]
    }
   ],
   "source": [
    "print(len(load_customers(customers)))"
   ]
  },
  {
   "cell_type": "code",
   "execution_count": 21,
   "id": "d8ce1161-98d7-4a73-971a-83d2aca595e0",
   "metadata": {},
   "outputs": [
    {
     "data": {
      "text/plain": [
       "1805      8\n",
       "7634      7\n",
       "921003    7\n",
       "1408      6\n",
       "10825     6\n",
       "         ..\n",
       "1243      1\n",
       "884       1\n",
       "136404    1\n",
       "136403    1\n",
       "136150    1\n",
       "Name: CUSTOMER_CODE, Length: 573, dtype: int64"
      ]
     },
     "execution_count": 21,
     "metadata": {},
     "output_type": "execute_result"
    }
   ],
   "source": [
    "customers[\"CUSTOMER_CODE\"].value_counts()"
   ]
  },
  {
   "cell_type": "code",
   "execution_count": null,
   "id": "8954944c-6ef2-4e02-96f5-75542e2da140",
   "metadata": {},
   "outputs": [],
   "source": []
  }
 ],
 "metadata": {
  "kernelspec": {
   "display_name": "Python 3",
   "language": "python",
   "name": "python3"
  },
  "language_info": {
   "codemirror_mode": {
    "name": "ipython",
    "version": 3
   },
   "file_extension": ".py",
   "mimetype": "text/x-python",
   "name": "python",
   "nbconvert_exporter": "python",
   "pygments_lexer": "ipython3",
   "version": "3.8.8"
  }
 },
 "nbformat": 4,
 "nbformat_minor": 5
}
