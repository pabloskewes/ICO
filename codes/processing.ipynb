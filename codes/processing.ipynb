{
 "cells": [
  {
   "cell_type": "markdown",
   "id": "859818a8-cc1a-4f59-9c55-f31c14823d13",
   "metadata": {},
   "source": [
    "# Processing"
   ]
  },
  {
   "cell_type": "code",
   "execution_count": 29,
   "id": "0d3ca734-ae92-45f8-abaa-47578c60a7d6",
   "metadata": {},
   "outputs": [
    {
     "ename": "ImportError",
     "evalue": "cannot import name 'Customer' from 'classes_ico' (C:\\Users\\M\\OneDrive\\Documents\\G2\\ICO\\Fil Rouge\\ICO\\codes\\classes_ico.py)",
     "output_type": "error",
     "traceback": [
      "\u001b[1;31m---------------------------------------------------------------------------\u001b[0m",
      "\u001b[1;31mImportError\u001b[0m                               Traceback (most recent call last)",
      "\u001b[1;32m<ipython-input-29-ee5b22e8eaa6>\u001b[0m in \u001b[0;36m<module>\u001b[1;34m\u001b[0m\n\u001b[0;32m      3\u001b[0m \u001b[1;32mimport\u001b[0m \u001b[0mos\u001b[0m\u001b[1;33m\u001b[0m\u001b[1;33m\u001b[0m\u001b[0m\n\u001b[0;32m      4\u001b[0m \u001b[1;33m\u001b[0m\u001b[0m\n\u001b[1;32m----> 5\u001b[1;33m \u001b[1;32mfrom\u001b[0m \u001b[0mclasses_ico\u001b[0m \u001b[1;32mimport\u001b[0m \u001b[0mVehicle\u001b[0m\u001b[1;33m,\u001b[0m \u001b[0mCustomer\u001b[0m\u001b[1;33m,\u001b[0m \u001b[0mVRPTW\u001b[0m\u001b[1;33m\u001b[0m\u001b[1;33m\u001b[0m\u001b[0m\n\u001b[0m",
      "\u001b[1;31mImportError\u001b[0m: cannot import name 'Customer' from 'classes_ico' (C:\\Users\\M\\OneDrive\\Documents\\G2\\ICO\\Fil Rouge\\ICO\\codes\\classes_ico.py)"
     ]
    }
   ],
   "source": [
    "import numpy as np\n",
    "import pandas as pd\n",
    "import os\n",
    "\n",
    "from classes_ico import Vehicle, Customer, VRPTW"
   ]
  },
  {
   "cell_type": "markdown",
   "id": "4ae2c53e-7787-4523-a390-a88446ee4424",
   "metadata": {},
   "source": [
    "#### Directories"
   ]
  },
  {
   "cell_type": "code",
   "execution_count": 24,
   "id": "bc0ccd5c-0194-4674-8492-e44439427741",
   "metadata": {},
   "outputs": [],
   "source": [
    "ROOT_DIR = os.path.abspath('..')\n",
    "DATA_DIR = os.path.join(ROOT_DIR, 'data')\n",
    "\n",
    "CUSTOMER_DIR = os.path.join(DATA_DIR, '2_detail_table_customers.xls')\n",
    "VEHICLES_DIR = os.path.join(DATA_DIR, '3_detail_table_vehicles.xls')\n",
    "DEPOTS_DIR = os.path.join(DATA_DIR, '4_detail_table_depots.xls')\n",
    "CONSTRAINTS_DIR = os.path.join(DATA_DIR, '5_detail_table_constraints_sdvrp.xls')\n",
    "DEPOTS_DISTANCES_DIR = os.path.join(DATA_DIR, '6_detail_table_cust_depots_distances.xls')\n",
    "CUSTOMER_DISTANCES_DIR = os.path.join(DATA_DIR, '7_detail_table_cust_cust_distances.xls')"
   ]
  },
  {
   "cell_type": "code",
   "execution_count": 25,
   "id": "d5d80468-9d7a-4030-9258-a55799d209ed",
   "metadata": {},
   "outputs": [],
   "source": [
    "customers = pd.read_excel(CUSTOMER_DIR)\n",
    "vehicles = pd.read_excel(VEHICLES_DIR)\n",
    "depots = pd.read_excel(DEPOTS_DIR)\n",
    "constraints = pd.read_excel(CONSTRAINTS_DIR)\n",
    "depots_dist = pd.read_excel(DEPOTS_DISTANCES_DIR)\n",
    "customers_dist = pd.read_excel(CUSTOMER_DISTANCES_DIR)"
   ]
  },
  {
   "cell_type": "code",
   "execution_count": 21,
   "id": "05f3a3d4-c49f-4554-b358-ede1fe57fa4f",
   "metadata": {},
   "outputs": [],
   "source": [
    "def load_vehicle(vehicles, MODE=\"mean\"):\n",
    "    if MODE == \"mean\":\n",
    "        volume = vehicles[\"VEHICLE_TOTAL_VOLUME_M3\"].mean()\n",
    "        weight = vehicles[\"VEHICLE_TOTAL_WEIGHT_KG\"].mean()\n",
    "        cost_km = vehicles[\"VEHICLE_VARIABLE_COST_KM\"].mean()\n",
    "    if MODE == \"min\":\n",
    "        volume = vehicles[\"VEHICLE_TOTAL_VOLUME_M3\"].min()\n",
    "        weight = vehicles[\"VEHICLE_TOTAL_WEIGHT_KG\"].min()\n",
    "        cost_km = vehicles[\"VEHICLE_VARIABLE_COST_KM\"].min()  \n",
    "    if MODE == \"max\":\n",
    "        volume = vehicles[\"VEHICLE_TOTAL_VOLUME_M3\"].max()\n",
    "        weight = vehicles[\"VEHICLE_TOTAL_WEIGHT_KG\"].max()\n",
    "        cost_km = vehicles[\"VEHICLE_VARIABLE_COST_KM\"].max()\n",
    "    else :\n",
    "        volume = vehicles[vehicles[\"VEHICLE_CODE\"]==MODE][\"VEHICLE_TOTAL_VOLUME_M3\"]\n",
    "        weight = vehicles[vehicles[\"VEHICLE_CODE\"]==MODE][\"VEHICLE_TOTAL_WEIGHT_KG\"]\n",
    "        cost_km = vehicles[vehicles[\"VEHICLE_CODE\"]==MODE][\"VEHICLE_VARIABLE_COST_KM\"]       \n",
    "    vehicle = Vehicle(volume, weight, cost_km)\n",
    "    return vehicle"
   ]
  },
  {
   "cell_type": "code",
   "execution_count": 22,
   "id": "310a5a76-7962-41fc-aa34-333df3637b86",
   "metadata": {},
   "outputs": [
    {
     "ename": "NameError",
     "evalue": "name 'Vehicle' is not defined",
     "output_type": "error",
     "traceback": [
      "\u001b[1;31m---------------------------------------------------------------------------\u001b[0m",
      "\u001b[1;31mNameError\u001b[0m                                 Traceback (most recent call last)",
      "\u001b[1;32m<ipython-input-22-5ec5f77b1f58>\u001b[0m in \u001b[0;36m<module>\u001b[1;34m\u001b[0m\n\u001b[1;32m----> 1\u001b[1;33m \u001b[0mprint\u001b[0m\u001b[1;33m(\u001b[0m\u001b[0mload_vehicle\u001b[0m\u001b[1;33m(\u001b[0m\u001b[0mvehicles\u001b[0m\u001b[1;33m,\u001b[0m\u001b[0mMODE\u001b[0m\u001b[1;33m=\u001b[0m\u001b[1;34m\"J92-T-826\"\u001b[0m\u001b[1;33m)\u001b[0m\u001b[1;33m)\u001b[0m\u001b[1;33m\u001b[0m\u001b[1;33m\u001b[0m\u001b[0m\n\u001b[0m",
      "\u001b[1;32m<ipython-input-21-a847886b443e>\u001b[0m in \u001b[0;36mload_vehicle\u001b[1;34m(vehicles, MODE)\u001b[0m\n\u001b[0;32m     16\u001b[0m         \u001b[0mweight\u001b[0m \u001b[1;33m=\u001b[0m \u001b[0mvehicles\u001b[0m\u001b[1;33m[\u001b[0m\u001b[0mvehicles\u001b[0m\u001b[1;33m[\u001b[0m\u001b[1;34m\"VEHICLE_CODE\"\u001b[0m\u001b[1;33m]\u001b[0m\u001b[1;33m==\u001b[0m\u001b[0mMODE\u001b[0m\u001b[1;33m]\u001b[0m\u001b[1;33m[\u001b[0m\u001b[1;34m\"VEHICLE_TOTAL_WEIGHT_KG\"\u001b[0m\u001b[1;33m]\u001b[0m\u001b[1;33m\u001b[0m\u001b[1;33m\u001b[0m\u001b[0m\n\u001b[0;32m     17\u001b[0m         \u001b[0mcost_km\u001b[0m \u001b[1;33m=\u001b[0m \u001b[0mvehicles\u001b[0m\u001b[1;33m[\u001b[0m\u001b[0mvehicles\u001b[0m\u001b[1;33m[\u001b[0m\u001b[1;34m\"VEHICLE_CODE\"\u001b[0m\u001b[1;33m]\u001b[0m\u001b[1;33m==\u001b[0m\u001b[0mMODE\u001b[0m\u001b[1;33m]\u001b[0m\u001b[1;33m[\u001b[0m\u001b[1;34m\"VEHICLE_VARIABLE_COST_KM\"\u001b[0m\u001b[1;33m]\u001b[0m\u001b[1;33m\u001b[0m\u001b[1;33m\u001b[0m\u001b[0m\n\u001b[1;32m---> 18\u001b[1;33m     \u001b[0mvehicle\u001b[0m \u001b[1;33m=\u001b[0m \u001b[0mVehicle\u001b[0m\u001b[1;33m(\u001b[0m\u001b[0mvolume\u001b[0m\u001b[1;33m,\u001b[0m \u001b[0mweight\u001b[0m\u001b[1;33m,\u001b[0m \u001b[0mcost_km\u001b[0m\u001b[1;33m)\u001b[0m\u001b[1;33m\u001b[0m\u001b[1;33m\u001b[0m\u001b[0m\n\u001b[0m\u001b[0;32m     19\u001b[0m     \u001b[1;32mreturn\u001b[0m \u001b[0mvehicle\u001b[0m\u001b[1;33m\u001b[0m\u001b[1;33m\u001b[0m\u001b[0m\n",
      "\u001b[1;31mNameError\u001b[0m: name 'Vehicle' is not defined"
     ]
    }
   ],
   "source": [
    "print(load_vehicle(vehicles,MODE=\"J92-T-826\"))"
   ]
  },
  {
   "cell_type": "code",
   "execution_count": null,
   "id": "e5c6c3d9-1b50-4c14-8329-60db22090746",
   "metadata": {},
   "outputs": [],
   "source": []
  }
 ],
 "metadata": {
  "kernelspec": {
   "display_name": "Python 3",
   "language": "python",
   "name": "python3"
  },
  "language_info": {
   "codemirror_mode": {
    "name": "ipython",
    "version": 3
   },
   "file_extension": ".py",
   "mimetype": "text/x-python",
   "name": "python",
   "nbconvert_exporter": "python",
   "pygments_lexer": "ipython3",
   "version": "3.8.8"
  }
 },
 "nbformat": 4,
 "nbformat_minor": 5
}
