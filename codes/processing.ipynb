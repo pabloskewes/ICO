{
 "cells": [
  {
   "cell_type": "markdown",
   "id": "859818a8-cc1a-4f59-9c55-f31c14823d13",
   "metadata": {},
   "source": [
    "# Processing"
   ]
  },
  {
   "cell_type": "code",
   "execution_count": 8,
   "id": "0d3ca734-ae92-45f8-abaa-47578c60a7d6",
   "metadata": {},
   "outputs": [],
   "source": [
    "import numpy as np\n",
    "import pandas as pd\n",
    "import os\n",
    "\n",
    "from classes_ico import Vehicle, Customer, VRPTW\n",
    "import geopy"
   ]
  },
  {
   "cell_type": "markdown",
   "id": "4ae2c53e-7787-4523-a390-a88446ee4424",
   "metadata": {},
   "source": [
    "#### Directories"
   ]
  },
  {
   "cell_type": "code",
   "execution_count": 2,
   "id": "bc0ccd5c-0194-4674-8492-e44439427741",
   "metadata": {},
   "outputs": [],
   "source": [
    "ROOT_DIR = os.path.abspath('..')\n",
    "DATA_DIR = os.path.join(ROOT_DIR, 'data')\n",
    "\n",
    "CUSTOMER_DIR = os.path.join(DATA_DIR, '2_detail_table_customers.xls')\n",
    "VEHICLES_DIR = os.path.join(DATA_DIR, '3_detail_table_vehicles.xls')\n",
    "DEPOTS_DIR = os.path.join(DATA_DIR, '4_detail_table_depots.xls')\n",
    "CONSTRAINTS_DIR = os.path.join(DATA_DIR, '5_detail_table_constraints_sdvrp.xls')\n",
    "DEPOTS_DISTANCES_DIR = os.path.join(DATA_DIR, '6_detail_table_cust_depots_distances.xls')\n",
    "CUSTOMER_DISTANCES_DIR = os.path.join(DATA_DIR, '7_detail_table_cust_cust_distances.xls')"
   ]
  },
  {
   "cell_type": "code",
   "execution_count": 3,
   "id": "d5d80468-9d7a-4030-9258-a55799d209ed",
   "metadata": {},
   "outputs": [],
   "source": [
    "customers = pd.read_excel(CUSTOMER_DIR)\n",
    "vehicles = pd.read_excel(VEHICLES_DIR)\n",
    "depots = pd.read_excel(DEPOTS_DIR)\n",
    "constraints = pd.read_excel(CONSTRAINTS_DIR)\n",
    "depots_dist = pd.read_excel(DEPOTS_DISTANCES_DIR)\n",
    "customers_dist = pd.read_excel(CUSTOMER_DISTANCES_DIR)"
   ]
  },
  {
   "cell_type": "markdown",
   "id": "57a506cf-9055-4d67-a74c-d1d230ef48d8",
   "metadata": {},
   "source": [
    "#### Fonctions load"
   ]
  },
  {
   "cell_type": "code",
   "execution_count": 14,
   "id": "05f3a3d4-c49f-4554-b358-ede1fe57fa4f",
   "metadata": {},
   "outputs": [],
   "source": [
    "def load_vehicle(vehicles, MODE=\"mean\", vehicle_nb=None):\n",
    "    if vehicle_nb:\n",
    "        volume = vehicles[vehicles[\"VEHICLE_CODE\"]==vehicle_nb][\"VEHICLE_TOTAL_VOLUME_M3\"]\n",
    "        weight = vehicles[vehicles[\"VEHICLE_CODE\"]==vehicle_nb][\"VEHICLE_TOTAL_WEIGHT_KG\"]\n",
    "        cost_km = vehicles[vehicles[\"VEHICLE_CODE\"]==vehicle_nb][\"VEHICLE_VARIABLE_COST_KM\"]  \n",
    "    else :\n",
    "        volume = getattr(vehicles[\"VEHICLE_TOTAL_VOLUME_M3\"], MODE)()\n",
    "        weight = getattr(vehicles[\"VEHICLE_TOTAL_WEIGHT_KG\"], MODE)()\n",
    "        cost_km = getattr(vehicles[\"VEHICLE_VARIABLE_COST_KM\"], MODE)()  \n",
    "    vehicle = Vehicle(volume, weight, cost_km)\n",
    "    return vehicle"
   ]
  },
  {
   "cell_type": "code",
   "execution_count": 26,
   "id": "310a5a76-7962-41fc-aa34-333df3637b86",
   "metadata": {},
   "outputs": [],
   "source": [
    "def load_customers(customers):\n",
    "    # we supress the lines where the CUSTOMER_CODE repeat itself\n",
    "    customers = customers.drop_duplicates(subset=[\"CUSTOMER_CODE\"], keep='first')\n",
    "    # The first customer of the list is the depot, whose id is 0.\n",
    "    id = 0\n",
    "    latitude = depots.loc[0,\"DEPOT_LATITUDE\"]\n",
    "    longitude = depots.loc[0,\"DEPOT_LONGITUDE\"]\n",
    "    time_window = (depots.loc[0,\"DEPOT_AVAILABLE_TIME_FROM_MIN\"], depots.loc[0,\"DEPOT_AVAILABLE_TIME_TO_MIN\"])\n",
    "    request_volume =0\n",
    "    request_weight = 0\n",
    "    time_service = 0\n",
    "    depot = Customer(id, latitude, longitude, time_window, request_volume, request_weight, time_service)\n",
    "    list_customers = [depot]\n",
    "    # We add every new customer to the list :\n",
    "    for i, code in enumerate(customers[\"CUSTOMER_CODE\"]):\n",
    "        id = i\n",
    "        latitude = customers[customers[\"CUSTOMER_CODE\"]==code][\"CUSTOMER_LATITUDE\"]\n",
    "        longitude = customers[customers[\"CUSTOMER_CODE\"]==code][\"CUSTOMER_LONGITUDE\"]\n",
    "        time_window = (customers[customers[\"CUSTOMER_CODE\"]==code][\"CUSTOMER_TIME_WINDOW_FROM_MIN\"], \n",
    "                       customers[customers[\"CUSTOMER_CODE\"]==code][\"CUSTOMER_TIME_WINDOW_TO_MIN\"])\n",
    "        request_volume = customers[customers[\"CUSTOMER_CODE\"]==code][\"TOTAL_VOLUME_M3\"]\n",
    "        request_weight = customers[customers[\"CUSTOMER_CODE\"]==code][\"TOTAL_WEIGHT_KG\"]\n",
    "        time_service = customers[customers[\"CUSTOMER_CODE\"]==code][\"CUSTOMER_DELIVERY_SERVICE_TIME_MIN\"]\n",
    "        customer = Customer(id, latitude, longitude, time_window, request_volume, request_weight, time_service)\n",
    "        list_customers.append(customer)\n",
    "    return list_customers"
   ]
  },
  {
   "cell_type": "code",
   "execution_count": 27,
   "id": "e42998a1-b46b-474c-837d-9adb9f553155",
   "metadata": {},
   "outputs": [
    {
     "name": "stdout",
     "output_type": "stream",
     "text": [
      "574\n"
     ]
    }
   ],
   "source": [
    "print(len(load_customers(customers)))"
   ]
  },
  {
   "cell_type": "code",
   "execution_count": 21,
   "id": "d8ce1161-98d7-4a73-971a-83d2aca595e0",
   "metadata": {},
   "outputs": [
    {
     "data": {
      "text/plain": [
       "1805      8\n",
       "7634      7\n",
       "921003    7\n",
       "1408      6\n",
       "10825     6\n",
       "         ..\n",
       "1243      1\n",
       "884       1\n",
       "136404    1\n",
       "136403    1\n",
       "136150    1\n",
       "Name: CUSTOMER_CODE, Length: 573, dtype: int64"
      ]
     },
     "execution_count": 21,
     "metadata": {},
     "output_type": "execute_result"
    }
   ],
   "source": [
    "customers[\"CUSTOMER_CODE\"].value_counts()"
   ]
  },
  {
   "cell_type": "code",
   "execution_count": null,
   "id": "8954944c-6ef2-4e02-96f5-75542e2da140",
   "metadata": {},
   "outputs": [],
   "source": []
  }
 ],
 "metadata": {
  "kernelspec": {
   "display_name": "Python 3",
   "language": "python",
   "name": "python3"
  },
  "language_info": {
   "codemirror_mode": {
    "name": "ipython",
    "version": 3
   },
   "file_extension": ".py",
   "mimetype": "text/x-python",
   "name": "python",
   "nbconvert_exporter": "python",
   "pygments_lexer": "ipython3",
   "version": "3.8.8"
  }
 },
 "nbformat": 4,
 "nbformat_minor": 5
}
