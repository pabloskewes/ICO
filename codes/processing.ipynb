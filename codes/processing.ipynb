{
 "cells": [
  {
   "cell_type": "markdown",
   "id": "859818a8-cc1a-4f59-9c55-f31c14823d13",
   "metadata": {},
   "source": [
    "# Processing"
   ]
  },
  {
   "cell_type": "code",
   "execution_count": 8,
   "id": "0d3ca734-ae92-45f8-abaa-47578c60a7d6",
   "metadata": {},
   "outputs": [],
   "source": [
    "import numpy as np\n",
    "import pandas as pd\n",
    "import os\n",
    "\n",
    "from classes_ico import Vehicle, Customer, VRPTW\n",
    "import geopy"
   ]
  },
  {
   "cell_type": "markdown",
   "id": "4ae2c53e-7787-4523-a390-a88446ee4424",
   "metadata": {},
   "source": [
    "#### Directories"
   ]
  },
  {
   "cell_type": "code",
   "execution_count": 2,
   "id": "bc0ccd5c-0194-4674-8492-e44439427741",
   "metadata": {},
   "outputs": [],
   "source": [
    "ROOT_DIR = os.path.abspath('..')\n",
    "DATA_DIR = os.path.join(ROOT_DIR, 'data')\n",
    "\n",
    "CUSTOMER_DIR = os.path.join(DATA_DIR, '2_detail_table_customers.xls')\n",
    "VEHICLES_DIR = os.path.join(DATA_DIR, '3_detail_table_vehicles.xls')\n",
    "DEPOTS_DIR = os.path.join(DATA_DIR, '4_detail_table_depots.xls')\n",
    "CONSTRAINTS_DIR = os.path.join(DATA_DIR, '5_detail_table_constraints_sdvrp.xls')\n",
    "DEPOTS_DISTANCES_DIR = os.path.join(DATA_DIR, '6_detail_table_cust_depots_distances.xls')\n",
    "CUSTOMER_DISTANCES_DIR = os.path.join(DATA_DIR, '7_detail_table_cust_cust_distances.xls')"
   ]
  },
  {
   "cell_type": "code",
   "execution_count": 3,
   "id": "d5d80468-9d7a-4030-9258-a55799d209ed",
   "metadata": {},
   "outputs": [],
   "source": [
    "customers = pd.read_excel(CUSTOMER_DIR)\n",
    "vehicles = pd.read_excel(VEHICLES_DIR)\n",
    "depots = pd.read_excel(DEPOTS_DIR)\n",
    "constraints = pd.read_excel(CONSTRAINTS_DIR)\n",
    "depots_dist = pd.read_excel(DEPOTS_DISTANCES_DIR)\n",
    "customers_dist = pd.read_excel(CUSTOMER_DISTANCES_DIR)"
   ]
  },
  {
   "cell_type": "markdown",
   "id": "57a506cf-9055-4d67-a74c-d1d230ef48d8",
   "metadata": {},
   "source": [
    "#### Fonctions load"
   ]
  },
  {
   "cell_type": "code",
   "execution_count": 4,
   "id": "05f3a3d4-c49f-4554-b358-ede1fe57fa4f",
   "metadata": {},
   "outputs": [],
   "source": [
    "def load_vehicle(vehicles, MODE=\"mean\"):\n",
    "    if MODE == \"mean\":\n",
    "        volume = vehicles[\"VEHICLE_TOTAL_VOLUME_M3\"].mean()\n",
    "        weight = vehicles[\"VEHICLE_TOTAL_WEIGHT_KG\"].mean()\n",
    "        cost_km = vehicles[\"VEHICLE_VARIABLE_COST_KM\"].mean()\n",
    "    if MODE == \"min\":\n",
    "        volume = vehicles[\"VEHICLE_TOTAL_VOLUME_M3\"].min()\n",
    "        weight = vehicles[\"VEHICLE_TOTAL_WEIGHT_KG\"].min()\n",
    "        cost_km = vehicles[\"VEHICLE_VARIABLE_COST_KM\"].min()  \n",
    "    if MODE == \"max\":\n",
    "        volume = vehicles[\"VEHICLE_TOTAL_VOLUME_M3\"].max()\n",
    "        weight = vehicles[\"VEHICLE_TOTAL_WEIGHT_KG\"].max()\n",
    "        cost_km = vehicles[\"VEHICLE_VARIABLE_COST_KM\"].max()\n",
    "    else :\n",
    "        volume = vehicles[vehicles[\"VEHICLE_CODE\"]==MODE][\"VEHICLE_TOTAL_VOLUME_M3\"]\n",
    "        weight = vehicles[vehicles[\"VEHICLE_CODE\"]==MODE][\"VEHICLE_TOTAL_WEIGHT_KG\"]\n",
    "        cost_km = vehicles[vehicles[\"VEHICLE_CODE\"]==MODE][\"VEHICLE_VARIABLE_COST_KM\"]       \n",
    "    vehicle = Vehicle(volume, weight, cost_km)\n",
    "    return vehicle"
   ]
  },
  {
   "cell_type": "code",
   "execution_count": 5,
   "id": "310a5a76-7962-41fc-aa34-333df3637b86",
   "metadata": {},
   "outputs": [],
   "source": [
    "def load_customers(customers):\n",
    "    id = 0\n",
    "    latitude = depots.loc[0,\"DEPOT_LATITUDE\"]\n",
    "    longitude = depots.loc[0,\"DEPOT_LONGITUDE\"]\n",
    "    time_window = (depots.loc[0,\"DEPOT_AVAILABLE_TIME_FROM_MIN\"], depots.loc[0,\"DEPOT_AVAILABLE_TIME_TO_MIN\"])\n",
    "    request_volume =0\n",
    "    request_weight = 0\n",
    "    time_service = 0\n",
    "    depot = Customer(id, latitude, longitude, time_window, request_volume, request_weight, time_service)\n",
    "    list_customers = [depot]\n",
    "    for i, code in enumerate(customers[\"CUSTOMER_CODE\"]):\n",
    "        id = i\n",
    "        latitude = customers[customers[\"CUSTOMER_CODE\"]==code][\"CUSTOMER_LATITUDE\"]\n",
    "        longitude = customers[customers[\"CUSTOMER_CODE\"]==code][\"CUSTOMER_LONGITUDE\"]\n",
    "        time_window = (customers[customers[\"CUSTOMER_CODE\"]==code][\"CUSTOMER_TIME_WINDOW_FROM_MIN\"], \n",
    "                       customers[customers[\"CUSTOMER_CODE\"]==code][\"CUSTOMER_TIME_WINDOW_TO_MIN\"])\n",
    "        request_volume = customers[customers[\"CUSTOMER_CODE\"]==code][\"TOTAL_VOLUME_M3\"]\n",
    "        request_weight = customers[customers[\"CUSTOMER_CODE\"]==code][\"TOTAL_WEIGHT_KG\"]\n",
    "        time_service = customers[customers[\"CUSTOMER_CODE\"]==code][\"CUSTOMER_DELIVERY_SERVICE_TIME_MIN\"]\n",
    "        customer = Customer(id, latitude, longitude, time_window, request_volume, request_weight, time_service)\n",
    "        list_customers.append(customer)\n",
    "    return list_customers"
   ]
  },
  {
   "cell_type": "code",
   "execution_count": 9,
   "id": "e42998a1-b46b-474c-837d-9adb9f553155",
   "metadata": {},
   "outputs": [
    {
     "name": "stdout",
     "output_type": "stream",
     "text": [
      "This customer's id is 0\n"
     ]
    }
   ],
   "source": [
    "print(load_customers(customers)[0])"
   ]
  },
  {
   "cell_type": "code",
   "execution_count": null,
   "id": "d8ce1161-98d7-4a73-971a-83d2aca595e0",
   "metadata": {},
   "outputs": [],
   "source": []
  }
 ],
 "metadata": {
  "kernelspec": {
   "display_name": "Python 3",
   "language": "python",
   "name": "python3"
  },
  "language_info": {
   "codemirror_mode": {
    "name": "ipython",
    "version": 3
   },
   "file_extension": ".py",
   "mimetype": "text/x-python",
   "name": "python",
   "nbconvert_exporter": "python",
   "pygments_lexer": "ipython3",
   "version": "3.8.8"
  }
 },
 "nbformat": 4,
 "nbformat_minor": 5
}
