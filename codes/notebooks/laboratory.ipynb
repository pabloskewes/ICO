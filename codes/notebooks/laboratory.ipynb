{
 "cells": [
  {
   "cell_type": "markdown",
   "id": "b3c000cc-3752-4b5b-a7bc-6e9117c5414e",
   "metadata": {},
   "source": [
    "# RESUME LIVRABLE 1 - ICO\n",
    "### Nicolas ACEVEDO - Marie LENGLET - Pablo SKEWES - Yuzhe YAO"
   ]
  },
  {
   "cell_type": "markdown",
   "id": "dbf4c979-d531-46f1-8c4d-b6567fd6ee03",
   "metadata": {},
   "source": [
    "## Importation des librairies et modules propres."
   ]
  },
  {
   "cell_type": "code",
   "execution_count": 1,
   "id": "6447ef43-491b-4c97-a65b-0ad7534932cc",
   "metadata": {},
   "outputs": [
    {
     "ename": "ImportError",
     "evalue": "cannot import name 'Vehicle' from 'vrptw' (..\\vrptw.py)",
     "output_type": "error",
     "traceback": [
      "\u001b[1;31m---------------------------------------------------------------------------\u001b[0m",
      "\u001b[1;31mImportError\u001b[0m                               Traceback (most recent call last)",
      "\u001b[1;32m<ipython-input-1-d108cfadd14a>\u001b[0m in \u001b[0;36m<module>\u001b[1;34m\u001b[0m\n\u001b[0;32m      5\u001b[0m \u001b[1;32mimport\u001b[0m \u001b[0msys\u001b[0m\u001b[1;33m\u001b[0m\u001b[1;33m\u001b[0m\u001b[0m\n\u001b[0;32m      6\u001b[0m \u001b[0msys\u001b[0m\u001b[1;33m.\u001b[0m\u001b[0mpath\u001b[0m\u001b[1;33m.\u001b[0m\u001b[0mappend\u001b[0m\u001b[1;33m(\u001b[0m\u001b[1;34m\"../\"\u001b[0m\u001b[1;33m)\u001b[0m\u001b[1;33m\u001b[0m\u001b[1;33m\u001b[0m\u001b[0m\n\u001b[1;32m----> 7\u001b[1;33m \u001b[1;32mfrom\u001b[0m \u001b[0mvrptw\u001b[0m \u001b[1;32mimport\u001b[0m \u001b[0mVehicle\u001b[0m\u001b[1;33m,\u001b[0m \u001b[0mCustomer\u001b[0m\u001b[1;33m,\u001b[0m \u001b[0mVRPTW\u001b[0m\u001b[1;33m\u001b[0m\u001b[1;33m\u001b[0m\u001b[0m\n\u001b[0m\u001b[0;32m      8\u001b[0m \u001b[1;32mfrom\u001b[0m \u001b[0mloading_models\u001b[0m \u001b[1;32mimport\u001b[0m \u001b[0mload_solomon\u001b[0m\u001b[1;33m,\u001b[0m \u001b[0mcreate_vrptw\u001b[0m\u001b[1;33m\u001b[0m\u001b[1;33m\u001b[0m\u001b[0m\n\u001b[0;32m      9\u001b[0m \u001b[1;32mfrom\u001b[0m \u001b[0mloading_models\u001b[0m \u001b[1;32mimport\u001b[0m \u001b[0mCUSTOMER_DIR\u001b[0m\u001b[1;33m,\u001b[0m \u001b[0mDEPOTS_DIR\u001b[0m\u001b[1;33m,\u001b[0m \u001b[0mVEHICLES_DIR\u001b[0m\u001b[1;33m,\u001b[0m \u001b[0mDEPOTS_DISTANCES_DIR\u001b[0m\u001b[1;33m,\u001b[0m \u001b[0mCUSTOMER_DISTANCES_DIR\u001b[0m\u001b[1;33m\u001b[0m\u001b[1;33m\u001b[0m\u001b[0m\n",
      "\u001b[1;31mImportError\u001b[0m: cannot import name 'Vehicle' from 'vrptw' (..\\vrptw.py)"
     ]
    }
   ],
   "source": [
    "import pandas as pd\n",
    "import numpy as np\n",
    "from pprint import pprint\n",
    "import matplotlib.pyplot as plt\n",
    "import sys\n",
    "sys.path.append(\"../\") \n",
    "from vrptw import Vehicle, Customer, VRPTW\n",
    "from loading_models import load_solomon, create_vrptw\n",
    "from loading_models import CUSTOMER_DIR, DEPOTS_DIR, VEHICLES_DIR, DEPOTS_DISTANCES_DIR, CUSTOMER_DISTANCES_DIR\n",
    "from solution import solution_checker, list_routes_to_sol, random_solution, generate_cost_function"
   ]
  },
  {
   "cell_type": "markdown",
   "id": "05d7df65-4724-481b-8e66-8c67e6585321",
   "metadata": {},
   "source": [
    "## Instanciation du problème "
   ]
  },
  {
   "cell_type": "markdown",
   "id": "fc7c4485-24a8-4a78-88da-34dc37c701be",
   "metadata": {},
   "source": [
    "On crée une instance simple de VRPTW"
   ]
  },
  {
   "cell_type": "code",
   "execution_count": 4,
   "id": "d8caaa76-d843-4763-a9a6-af0f76709511",
   "metadata": {},
   "outputs": [
    {
     "ename": "TypeError",
     "evalue": "__init__() got an unexpected keyword argument 'id'",
     "output_type": "error",
     "traceback": [
      "\u001b[1;31m---------------------------------------------------------------------------\u001b[0m",
      "\u001b[1;31mTypeError\u001b[0m                                 Traceback (most recent call last)",
      "\u001b[1;32m<ipython-input-4-26ad2da1287b>\u001b[0m in \u001b[0;36m<module>\u001b[1;34m\u001b[0m\n\u001b[1;32m----> 1\u001b[1;33m \u001b[0mvrptw\u001b[0m \u001b[1;33m=\u001b[0m \u001b[0mload_solomon\u001b[0m\u001b[1;33m(\u001b[0m\u001b[1;34m'simple.csv'\u001b[0m\u001b[1;33m,\u001b[0m \u001b[0mnb_cust\u001b[0m\u001b[1;33m=\u001b[0m\u001b[1;36m10\u001b[0m\u001b[1;33m,\u001b[0m \u001b[0mvehicle_speed\u001b[0m\u001b[1;33m=\u001b[0m\u001b[1;36m100\u001b[0m\u001b[1;33m)\u001b[0m\u001b[1;33m\u001b[0m\u001b[1;33m\u001b[0m\u001b[0m\n\u001b[0m",
      "\u001b[1;32m~\\PycharmProjects\\ICO\\FilRouge\\ICO\\codes\\loading_models.py\u001b[0m in \u001b[0;36mload_solomon\u001b[1;34m(filename, nb_cust, vehicle_speed)\u001b[0m\n\u001b[0;32m    138\u001b[0m     \u001b[0mcustomers\u001b[0m \u001b[1;33m=\u001b[0m \u001b[1;33m[\u001b[0m\u001b[1;33m]\u001b[0m\u001b[1;33m\u001b[0m\u001b[1;33m\u001b[0m\u001b[0m\n\u001b[0;32m    139\u001b[0m     \u001b[1;32mfor\u001b[0m \u001b[0mk\u001b[0m \u001b[1;32min\u001b[0m \u001b[0mrange\u001b[0m\u001b[1;33m(\u001b[0m\u001b[0mn\u001b[0m\u001b[1;33m)\u001b[0m\u001b[1;33m:\u001b[0m\u001b[1;33m\u001b[0m\u001b[1;33m\u001b[0m\u001b[0m\n\u001b[1;32m--> 140\u001b[1;33m         cust = Customer(id=k,\n\u001b[0m\u001b[0;32m    141\u001b[0m                         \u001b[0mcode_customer\u001b[0m\u001b[1;33m=\u001b[0m\u001b[0mk\u001b[0m\u001b[1;33m,\u001b[0m\u001b[1;33m\u001b[0m\u001b[1;33m\u001b[0m\u001b[0m\n\u001b[0;32m    142\u001b[0m                         \u001b[0mlatitude\u001b[0m\u001b[1;33m=\u001b[0m\u001b[0mdf\u001b[0m\u001b[1;33m.\u001b[0m\u001b[0mat\u001b[0m\u001b[1;33m[\u001b[0m\u001b[0mk\u001b[0m\u001b[1;33m,\u001b[0m\u001b[1;34m'XCOORD'\u001b[0m\u001b[1;33m]\u001b[0m\u001b[1;33m,\u001b[0m\u001b[1;33m\u001b[0m\u001b[1;33m\u001b[0m\u001b[0m\n",
      "\u001b[1;31mTypeError\u001b[0m: __init__() got an unexpected keyword argument 'id'"
     ]
    }
   ],
   "source": [
    "vrptw = load_solomon('simple.csv', nb_cust=10, vehicle_speed=100)"
   ]
  },
  {
   "cell_type": "markdown",
   "id": "4069688d-a402-4ad7-a8e7-b0151c36df60",
   "metadata": {},
   "source": [
    "On set la fonction de cost au contexte du VRPTW choisit"
   ]
  },
  {
   "cell_type": "code",
   "execution_count": 3,
   "id": "b5b7d04a-5f9c-43c0-8d6a-c1b94c56d9fc",
   "metadata": {},
   "outputs": [],
   "source": [
    "cost = generate_cost_function(vrptw=vrptw, omega=1000, verbose=0)"
   ]
  },
  {
   "cell_type": "markdown",
   "id": "4c801184-be0d-4716-88f0-e6afb53fcc53",
   "metadata": {},
   "source": [
    "On crée 10 solutions random de taille 10 customers"
   ]
  },
  {
   "cell_type": "code",
   "execution_count": 4,
   "id": "43130527-2f28-4d80-b378-d511bc1e2b42",
   "metadata": {
    "tags": []
   },
   "outputs": [
    {
     "name": "stdout",
     "output_type": "stream",
     "text": [
      "Solution generated is not legitimate, a new one will be created.\n",
      "Solution generated is not legitimate, a new one will be created.\n",
      "Solution generated is not legitimate, a new one will be created.\n",
      "Solution generated is not legitimate, a new one will be created.\n",
      "Solution generated is not legitimate, a new one will be created.\n",
      "Solution generated is not legitimate, a new one will be created.\n",
      "Solution generated is not legitimate, a new one will be created.\n",
      "Solution generated is not legitimate, a new one will be created.\n",
      "Solution generated is not legitimate, a new one will be created.\n",
      "Solution generated is not legitimate, a new one will be created.\n"
     ]
    }
   ],
   "source": [
    "solutions = [random_solution(10, force_check_vrptw=vrptw, verbose=1) for _ in range(10)]"
   ]
  },
  {
   "cell_type": "markdown",
   "id": "0c371119-0a2f-4356-824f-a1db860c47ff",
   "metadata": {},
   "source": [
    "On verify q toutes les solutions crées sont en effet des solutions :"
   ]
  },
  {
   "cell_type": "code",
   "execution_count": 12,
   "id": "e19581e6-ff7f-49a4-bbd3-42af3b6adc21",
   "metadata": {},
   "outputs": [
    {
     "data": {
      "text/plain": [
       "True"
      ]
     },
     "execution_count": 12,
     "metadata": {},
     "output_type": "execute_result"
    }
   ],
   "source": [
    "all((solution_checker(vrptw, sol) for sol in solutions))"
   ]
  },
  {
   "cell_type": "markdown",
   "id": "5fd71955-32fb-46e6-89ed-3f38edb0f62b",
   "metadata": {},
   "source": [
    "## Application d'algorithmes heuristiques"
   ]
  },
  {
   "cell_type": "markdown",
   "id": "bf3fb122-dad7-4d17-ba8c-dabfe9494681",
   "metadata": {},
   "source": [
    "### Liste tabou"
   ]
  },
  {
   "cell_type": "markdown",
   "id": "3b454556-b426-40aa-9bdd-72f6d0fb0425",
   "metadata": {},
   "source": [
    "Importation du code"
   ]
  },
  {
   "cell_type": "code",
   "execution_count": 13,
   "id": "2a6c31d6-f705-4cca-ad77-6f100343ed01",
   "metadata": {},
   "outputs": [],
   "source": [
    "from tabou import tabu_method"
   ]
  },
  {
   "cell_type": "markdown",
   "id": "b88e3ca6-5ae2-4a8d-bdcd-80e5112afe5f",
   "metadata": {},
   "source": [
    "Application de la méthode de la liste tabou dans nos 10 solutions."
   ]
  },
  {
   "cell_type": "code",
   "execution_count": 14,
   "id": "d5649981-5125-461e-91dd-46517e783ca9",
   "metadata": {
    "tags": []
   },
   "outputs": [
    {
     "name": "stdout",
     "output_type": "stream",
     "text": [
      "Working on solution 1/10\n",
      "Working on solution 2/10\n",
      "Working on solution 3/10\n",
      "Working on solution 4/10\n",
      "Working on solution 5/10\n",
      "Working on solution 6/10\n",
      "Working on solution 7/10\n",
      "Working on solution 8/10\n",
      "Working on solution 9/10\n",
      "Working on solution 10/10\n"
     ]
    }
   ],
   "source": [
    "tabu_solutions = []\n",
    "for i, solution in enumerate(solutions):\n",
    "    print(f'Working on solution {i+1}/10')\n",
    "    tabu_sol = tabu_method(vrptw, solution)\n",
    "    tabu_solutions.append(tabu_sol)"
   ]
  },
  {
   "cell_type": "markdown",
   "id": "e9683bff-9460-4e86-a451-978d6b11e581",
   "metadata": {},
   "source": [
    "On verify q toutes les solutions crées avec la méthode Tabou sont en effet des solutions :"
   ]
  },
  {
   "cell_type": "code",
   "execution_count": 15,
   "id": "ff0a4b62-de48-479d-8079-66b87d7d1708",
   "metadata": {},
   "outputs": [
    {
     "data": {
      "text/plain": [
       "True"
      ]
     },
     "execution_count": 15,
     "metadata": {},
     "output_type": "execute_result"
    }
   ],
   "source": [
    "all((solution_checker(vrptw, sol) for sol in tabu_solutions))"
   ]
  },
  {
   "cell_type": "code",
   "execution_count": 16,
   "id": "2ade74a1-d20d-48a5-a5e6-68912d6756c3",
   "metadata": {},
   "outputs": [
    {
     "data": {
      "text/html": [
       "<div>\n",
       "<style scoped>\n",
       "    .dataframe tbody tr th:only-of-type {\n",
       "        vertical-align: middle;\n",
       "    }\n",
       "\n",
       "    .dataframe tbody tr th {\n",
       "        vertical-align: top;\n",
       "    }\n",
       "\n",
       "    .dataframe thead th {\n",
       "        text-align: right;\n",
       "    }\n",
       "</style>\n",
       "<table border=\"1\" class=\"dataframe\">\n",
       "  <thead>\n",
       "    <tr style=\"text-align: right;\">\n",
       "      <th></th>\n",
       "      <th>Initial Solution</th>\n",
       "      <th>Solution after Tabou List</th>\n",
       "    </tr>\n",
       "  </thead>\n",
       "  <tbody>\n",
       "    <tr>\n",
       "      <th>0</th>\n",
       "      <td>4613.582192</td>\n",
       "      <td>2076.568542</td>\n",
       "    </tr>\n",
       "    <tr>\n",
       "      <th>1</th>\n",
       "      <td>4438.709948</td>\n",
       "      <td>2076.568542</td>\n",
       "    </tr>\n",
       "    <tr>\n",
       "      <th>2</th>\n",
       "      <td>3429.734936</td>\n",
       "      <td>2076.568542</td>\n",
       "    </tr>\n",
       "    <tr>\n",
       "      <th>3</th>\n",
       "      <td>5634.200849</td>\n",
       "      <td>2084.852814</td>\n",
       "    </tr>\n",
       "    <tr>\n",
       "      <th>4</th>\n",
       "      <td>3429.695754</td>\n",
       "      <td>2076.568542</td>\n",
       "    </tr>\n",
       "    <tr>\n",
       "      <th>5</th>\n",
       "      <td>4359.193353</td>\n",
       "      <td>2076.568542</td>\n",
       "    </tr>\n",
       "    <tr>\n",
       "      <th>6</th>\n",
       "      <td>4424.368625</td>\n",
       "      <td>2076.568542</td>\n",
       "    </tr>\n",
       "    <tr>\n",
       "      <th>7</th>\n",
       "      <td>3409.037743</td>\n",
       "      <td>2048.284271</td>\n",
       "    </tr>\n",
       "    <tr>\n",
       "      <th>8</th>\n",
       "      <td>5643.387868</td>\n",
       "      <td>2048.284271</td>\n",
       "    </tr>\n",
       "    <tr>\n",
       "      <th>9</th>\n",
       "      <td>3330.948781</td>\n",
       "      <td>2048.284271</td>\n",
       "    </tr>\n",
       "  </tbody>\n",
       "</table>\n",
       "</div>"
      ],
      "text/plain": [
       "   Initial Solution  Solution after Tabou List\n",
       "0       4613.582192                2076.568542\n",
       "1       4438.709948                2076.568542\n",
       "2       3429.734936                2076.568542\n",
       "3       5634.200849                2084.852814\n",
       "4       3429.695754                2076.568542\n",
       "5       4359.193353                2076.568542\n",
       "6       4424.368625                2076.568542\n",
       "7       3409.037743                2048.284271\n",
       "8       5643.387868                2048.284271\n",
       "9       3330.948781                2048.284271"
      ]
     },
     "execution_count": 16,
     "metadata": {},
     "output_type": "execute_result"
    }
   ],
   "source": [
    "df = pd.DataFrame({'Initial Solution': map(cost, solutions),\n",
    "                   'Solution after Tabou List': map(cost, tabu_solutions),\n",
    "                  })\n",
    "df"
   ]
  },
  {
   "cell_type": "code",
   "execution_count": 17,
   "id": "637a9f39-e89a-4b1f-898e-264e44b611ce",
   "metadata": {},
   "outputs": [
    {
     "data": {
      "image/png": "[encoded data removed]",
      "text/plain": [
       "<Figure size 432x288 with 1 Axes>"
      ]
     },
     "metadata": {
      "needs_background": "light"
     },
     "output_type": "display_data"
    }
   ],
   "source": [
    "plt.scatter(x=list(range(10)), y=list(map(cost, solutions)), label='Initial Solution',c='turquoise')\n",
    "plt.scatter(x=list(range(10)), y=list(map(cost, tabu_solutions)), label='Tabu List Solution', c='midnightblue')\n",
    "plt.legend()\n",
    "plt.xlabel('# of solution')\n",
    "plt.ylabel('Cost of solution')\n",
    "plt.title('Scatter plot of 10 random solutions of a simple VRPTW instance, compared to 10 results obtained using TabuList');"
   ]
  },
  {
   "cell_type": "markdown",
   "id": "e9d4e717-ed19-4d00-9f33-089b029b8a61",
   "metadata": {},
   "source": [
    "### Recuit Simulé"
   ]
  },
  {
   "cell_type": "markdown",
   "id": "411ec6ae-fde6-4a1d-91c2-f8b93c326c1f",
   "metadata": {},
   "source": [
    "Importation du code"
   ]
  },
  {
   "cell_type": "code",
   "execution_count": 18,
   "id": "ca8c28b6-3455-4176-919d-d4ec08c04db7",
   "metadata": {},
   "outputs": [],
   "source": [
    "from recuit_simule import simulated_annealing"
   ]
  },
  {
   "cell_type": "markdown",
   "id": "3ef770b4-8032-48c0-8aa5-48410f63192d",
   "metadata": {},
   "source": [
    "Application de la méthode de la liste tabou dans nos 10 solutions."
   ]
  },
  {
   "cell_type": "code",
   "execution_count": 19,
   "id": "31a0a504-9cb7-41b3-8f36-eec2a95a7b4a",
   "metadata": {
    "tags": []
   },
   "outputs": [
    {
     "name": "stdout",
     "output_type": "stream",
     "text": [
      "Working on solution 1/10\n",
      "Working on solution 2/10\n",
      "Working on solution 3/10\n",
      "Working on solution 4/10\n",
      "Working on solution 5/10\n",
      "Working on solution 6/10\n",
      "Working on solution 7/10\n",
      "Working on solution 8/10\n",
      "Working on solution 9/10\n",
      "Working on solution 10/10\n"
     ]
    }
   ],
   "source": [
    "rs_solutions = []\n",
    "for i, solution in enumerate(solutions):\n",
    "    print(f'Working on solution {i+1}/10')\n",
    "    rs_sol = simulated_annealing(vrptw, solution, T0=30)\n",
    "    rs_solutions.append(rs_sol)"
   ]
  },
  {
   "cell_type": "markdown",
   "id": "de77d1c2-add9-4f34-a048-b4710e6349a8",
   "metadata": {},
   "source": [
    "On verify q toutes les solutions crées avec la méthode Tabou sont en effet des solutions :"
   ]
  },
  {
   "cell_type": "code",
   "execution_count": 20,
   "id": "408d647e-04de-4619-8cf9-c155e2c5ea44",
   "metadata": {},
   "outputs": [
    {
     "data": {
      "text/plain": [
       "True"
      ]
     },
     "execution_count": 20,
     "metadata": {},
     "output_type": "execute_result"
    }
   ],
   "source": [
    "all((solution_checker(vrptw, sol) for sol in rs_solutions))"
   ]
  },
  {
   "cell_type": "code",
   "execution_count": 21,
   "id": "938ead9b-3d00-4f2b-8616-49e92e1346ab",
   "metadata": {},
   "outputs": [
    {
     "data": {
      "text/html": [
       "<div>\n",
       "<style scoped>\n",
       "    .dataframe tbody tr th:only-of-type {\n",
       "        vertical-align: middle;\n",
       "    }\n",
       "\n",
       "    .dataframe tbody tr th {\n",
       "        vertical-align: top;\n",
       "    }\n",
       "\n",
       "    .dataframe thead th {\n",
       "        text-align: right;\n",
       "    }\n",
       "</style>\n",
       "<table border=\"1\" class=\"dataframe\">\n",
       "  <thead>\n",
       "    <tr style=\"text-align: right;\">\n",
       "      <th></th>\n",
       "      <th>Initial Solution</th>\n",
       "      <th>Solutions after RS</th>\n",
       "    </tr>\n",
       "  </thead>\n",
       "  <tbody>\n",
       "    <tr>\n",
       "      <th>0</th>\n",
       "      <td>4613.582192</td>\n",
       "      <td>2076.568542</td>\n",
       "    </tr>\n",
       "    <tr>\n",
       "      <th>1</th>\n",
       "      <td>4438.709948</td>\n",
       "      <td>2076.568542</td>\n",
       "    </tr>\n",
       "    <tr>\n",
       "      <th>2</th>\n",
       "      <td>3429.734936</td>\n",
       "      <td>2090.710678</td>\n",
       "    </tr>\n",
       "    <tr>\n",
       "      <th>3</th>\n",
       "      <td>5634.200849</td>\n",
       "      <td>2048.284271</td>\n",
       "    </tr>\n",
       "    <tr>\n",
       "      <th>4</th>\n",
       "      <td>3429.695754</td>\n",
       "      <td>2048.284271</td>\n",
       "    </tr>\n",
       "    <tr>\n",
       "      <th>5</th>\n",
       "      <td>4359.193353</td>\n",
       "      <td>2094.049183</td>\n",
       "    </tr>\n",
       "    <tr>\n",
       "      <th>6</th>\n",
       "      <td>4424.368625</td>\n",
       "      <td>2102.462113</td>\n",
       "    </tr>\n",
       "    <tr>\n",
       "      <th>7</th>\n",
       "      <td>3409.037743</td>\n",
       "      <td>2084.852814</td>\n",
       "    </tr>\n",
       "    <tr>\n",
       "      <th>8</th>\n",
       "      <td>5643.387868</td>\n",
       "      <td>2076.568542</td>\n",
       "    </tr>\n",
       "    <tr>\n",
       "      <th>9</th>\n",
       "      <td>3330.948781</td>\n",
       "      <td>2076.568542</td>\n",
       "    </tr>\n",
       "  </tbody>\n",
       "</table>\n",
       "</div>"
      ],
      "text/plain": [
       "   Initial Solution  Solutions after RS\n",
       "0       4613.582192         2076.568542\n",
       "1       4438.709948         2076.568542\n",
       "2       3429.734936         2090.710678\n",
       "3       5634.200849         2048.284271\n",
       "4       3429.695754         2048.284271\n",
       "5       4359.193353         2094.049183\n",
       "6       4424.368625         2102.462113\n",
       "7       3409.037743         2084.852814\n",
       "8       5643.387868         2076.568542\n",
       "9       3330.948781         2076.568542"
      ]
     },
     "execution_count": 21,
     "metadata": {},
     "output_type": "execute_result"
    }
   ],
   "source": [
    "df = pd.DataFrame({'Initial Solution': map(cost, solutions),\n",
    "                  'Solutions after RS': map(cost, rs_solutions)})\n",
    "df"
   ]
  },
  {
   "cell_type": "code",
   "execution_count": 22,
   "id": "9b369a7d-1940-4213-bef2-e71acfb70c35",
   "metadata": {},
   "outputs": [
    {
     "data": {
      "text/plain": [
       "Text(0.5, 1.0, 'Scatter plot of 10 random solutions of a simple VRPTW instance, compared to 10 results obtained using TabuList and RS algorithms')"
      ]
     },
     "execution_count": 22,
     "metadata": {},
     "output_type": "execute_result"
    },
    {
     "data": {
      "image/png": "[encoded data removed]",
      "text/plain": [
       "<Figure size 432x288 with 1 Axes>"
      ]
     },
     "metadata": {
      "needs_background": "light"
     },
     "output_type": "display_data"
    }
   ],
   "source": [
    "plt.scatter(x=list(range(10)), y=list(map(cost, solutions)), label='Initial Solution', c='turquoise')\n",
    "plt.scatter(x=list(range(10)), y=list(map(cost, rs_solutions)), label='RS Solution', c='orange')\n",
    "plt.legend()\n",
    "plt.xlabel('# of solution')\n",
    "plt.ylabel('Cost of solution')\n",
    "plt.title('Scatter plot of 10 random solutions of a simple VRPTW instance, compared to 10 results obtained using TabuList and RS algorithms')"
   ]
  },
  {
   "cell_type": "markdown",
   "id": "fbdecee1",
   "metadata": {},
   "source": [
    "### Algorithme Génetique"
   ]
  },
  {
   "cell_type": "markdown",
   "id": "4f9ef957",
   "metadata": {},
   "source": [
    "import du code"
   ]
  },
  {
   "cell_type": "code",
   "execution_count": 5,
   "id": "3cf67d4c",
   "metadata": {},
   "outputs": [],
   "source": [
    "from algorithme_genetique import*"
   ]
  },
  {
   "cell_type": "code",
   "execution_count": 6,
   "id": "7e3bd3ea",
   "metadata": {},
   "outputs": [],
   "source": [
    "instance =init_vrpga(vrptw)\n",
    "ga_solutions=[]"
   ]
  },
  {
   "cell_type": "code",
   "execution_count": 7,
   "id": "e175fb7d",
   "metadata": {},
   "outputs": [
    {
     "name": "stdout",
     "output_type": "stream",
     "text": [
      "Working on solution 1/10\n",
      "Working on solution 2/10\n",
      "Working on solution 3/10\n",
      "Working on solution 4/10\n",
      "Working on solution 5/10\n",
      "Working on solution 6/10\n",
      "Working on solution 7/10\n",
      "Working on solution 8/10\n",
      "Working on solution 9/10\n",
      "Working on solution 10/10\n"
     ]
    }
   ],
   "source": [
    "for i in range(10):\n",
    "    for j in range(200):\n",
    "        instance.evolution()\n",
    "    print(f\"Working on solution {i+1}/10\")\n",
    "    ga_solutions.append(instance.best_solution)"
   ]
  },
  {
   "cell_type": "code",
   "execution_count": 8,
   "id": "dd347a8b",
   "metadata": {},
   "outputs": [
    {
     "data": {
      "text/plain": [
       "True"
      ]
     },
     "execution_count": 8,
     "metadata": {},
     "output_type": "execute_result"
    }
   ],
   "source": [
    "all((solution_checker(vrptw, sol) for sol in ga_solutions))"
   ]
  },
  {
   "cell_type": "code",
   "execution_count": 9,
   "id": "5be732eb",
   "metadata": {},
   "outputs": [
    {
     "data": {
      "text/html": [
       "<div>\n",
       "<style scoped>\n",
       "    .dataframe tbody tr th:only-of-type {\n",
       "        vertical-align: middle;\n",
       "    }\n",
       "\n",
       "    .dataframe tbody tr th {\n",
       "        vertical-align: top;\n",
       "    }\n",
       "\n",
       "    .dataframe thead th {\n",
       "        text-align: right;\n",
       "    }\n",
       "</style>\n",
       "<table border=\"1\" class=\"dataframe\">\n",
       "  <thead>\n",
       "    <tr style=\"text-align: right;\">\n",
       "      <th></th>\n",
       "      <th>Initial Solution</th>\n",
       "      <th>Solutions after GA</th>\n",
       "    </tr>\n",
       "  </thead>\n",
       "  <tbody>\n",
       "    <tr>\n",
       "      <th>0</th>\n",
       "      <td>4613.582192</td>\n",
       "      <td>3465.163684</td>\n",
       "    </tr>\n",
       "    <tr>\n",
       "      <th>1</th>\n",
       "      <td>4438.709948</td>\n",
       "      <td>3465.163684</td>\n",
       "    </tr>\n",
       "    <tr>\n",
       "      <th>2</th>\n",
       "      <td>3429.734936</td>\n",
       "      <td>1498.026105</td>\n",
       "    </tr>\n",
       "    <tr>\n",
       "      <th>3</th>\n",
       "      <td>5634.200849</td>\n",
       "      <td>1498.026105</td>\n",
       "    </tr>\n",
       "    <tr>\n",
       "      <th>4</th>\n",
       "      <td>3429.695754</td>\n",
       "      <td>1498.026105</td>\n",
       "    </tr>\n",
       "    <tr>\n",
       "      <th>5</th>\n",
       "      <td>4359.193353</td>\n",
       "      <td>1498.026105</td>\n",
       "    </tr>\n",
       "    <tr>\n",
       "      <th>6</th>\n",
       "      <td>4424.368625</td>\n",
       "      <td>1498.026105</td>\n",
       "    </tr>\n",
       "    <tr>\n",
       "      <th>7</th>\n",
       "      <td>3409.037743</td>\n",
       "      <td>1498.026105</td>\n",
       "    </tr>\n",
       "    <tr>\n",
       "      <th>8</th>\n",
       "      <td>5643.387868</td>\n",
       "      <td>1498.026105</td>\n",
       "    </tr>\n",
       "    <tr>\n",
       "      <th>9</th>\n",
       "      <td>3330.948781</td>\n",
       "      <td>1498.026105</td>\n",
       "    </tr>\n",
       "  </tbody>\n",
       "</table>\n",
       "</div>"
      ],
      "text/plain": [
       "   Initial Solution  Solutions after GA\n",
       "0       4613.582192         3465.163684\n",
       "1       4438.709948         3465.163684\n",
       "2       3429.734936         1498.026105\n",
       "3       5634.200849         1498.026105\n",
       "4       3429.695754         1498.026105\n",
       "5       4359.193353         1498.026105\n",
       "6       4424.368625         1498.026105\n",
       "7       3409.037743         1498.026105\n",
       "8       5643.387868         1498.026105\n",
       "9       3330.948781         1498.026105"
      ]
     },
     "execution_count": 9,
     "metadata": {},
     "output_type": "execute_result"
    }
   ],
   "source": [
    "df = pd.DataFrame({'Initial Solution': map(cost, solutions),\n",
    "                  'Solutions after GA': map(cost, ga_solutions)})\n",
    "df"
   ]
  },
  {
   "cell_type": "code",
   "execution_count": 24,
   "id": "a306d6c1",
   "metadata": {},
   "outputs": [
    {
     "name": "stdout",
     "output_type": "stream",
     "text": [
      "[0, 5, 3, 7, 8, 9, 10, 6, 4, 2, 1, 0] 1498.026104710672\n"
     ]
    }
   ],
   "source": [
    "print(ga_solutions[-1],cost(ga_solutions[-1]))"
   ]
  },
  {
   "cell_type": "code",
   "execution_count": 10,
   "id": "937e85f2",
   "metadata": {},
   "outputs": [
    {
     "data": {
      "text/plain": [
       "Text(0.5, 1.0, 'Scatter plot of 10 random solutions of a simple VRPTW instance, compared to 10 results obtained using TabuList and GA algorithms')"
      ]
     },
     "execution_count": 10,
     "metadata": {},
     "output_type": "execute_result"
    },
    {
     "data": {
      "image/png": "[encoded data removed]",
      "text/plain": [
       "<Figure size 432x288 with 1 Axes>"
      ]
     },
     "metadata": {
      "needs_background": "light"
     },
     "output_type": "display_data"
    }
   ],
   "source": [
    "plt.scatter(x=list(range(10)), y=list(map(cost, solutions)), label='Initial Solution', c='turquoise')\n",
    "plt.scatter(x=list(range(10)), y=list(map(cost, ga_solutions)), label='GA Solution', c='lime')\n",
    "plt.legend()\n",
    "plt.xlabel('# of solution')\n",
    "plt.ylabel('Cost of solution')\n",
    "plt.title('Scatter plot of 10 random solutions of a simple VRPTW instance, compared to 10 results obtained using TabuList and GA algorithms')"
   ]
  },
  {
   "cell_type": "markdown",
   "id": "807537bb-d5c1-4dd7-8f0d-5891df16ac3e",
   "metadata": {},
   "source": [
    "## Résultats"
   ]
  },
  {
   "cell_type": "code",
   "execution_count": 25,
   "id": "2110a0da-a069-4cd1-bf40-0036bc4fdd70",
   "metadata": {},
   "outputs": [
    {
     "data": {
      "text/html": [
       "<div>\n",
       "<style scoped>\n",
       "    .dataframe tbody tr th:only-of-type {\n",
       "        vertical-align: middle;\n",
       "    }\n",
       "\n",
       "    .dataframe tbody tr th {\n",
       "        vertical-align: top;\n",
       "    }\n",
       "\n",
       "    .dataframe thead th {\n",
       "        text-align: right;\n",
       "    }\n",
       "</style>\n",
       "<table border=\"1\" class=\"dataframe\">\n",
       "  <thead>\n",
       "    <tr style=\"text-align: right;\">\n",
       "      <th></th>\n",
       "      <th>Initial Solution</th>\n",
       "      <th>Solution after Tabou List</th>\n",
       "      <th>Solutions after RS</th>\n",
       "      <th>Solutions after GA</th>\n",
       "    </tr>\n",
       "  </thead>\n",
       "  <tbody>\n",
       "    <tr>\n",
       "      <th>0</th>\n",
       "      <td>4613.582192</td>\n",
       "      <td>2076.568542</td>\n",
       "      <td>2076.568542</td>\n",
       "      <td>3465.163684</td>\n",
       "    </tr>\n",
       "    <tr>\n",
       "      <th>1</th>\n",
       "      <td>4438.709948</td>\n",
       "      <td>2076.568542</td>\n",
       "      <td>2076.568542</td>\n",
       "      <td>3465.163684</td>\n",
       "    </tr>\n",
       "    <tr>\n",
       "      <th>2</th>\n",
       "      <td>3429.734936</td>\n",
       "      <td>2076.568542</td>\n",
       "      <td>2090.710678</td>\n",
       "      <td>1498.026105</td>\n",
       "    </tr>\n",
       "    <tr>\n",
       "      <th>3</th>\n",
       "      <td>5634.200849</td>\n",
       "      <td>2084.852814</td>\n",
       "      <td>2048.284271</td>\n",
       "      <td>1498.026105</td>\n",
       "    </tr>\n",
       "    <tr>\n",
       "      <th>4</th>\n",
       "      <td>3429.695754</td>\n",
       "      <td>2076.568542</td>\n",
       "      <td>2048.284271</td>\n",
       "      <td>1498.026105</td>\n",
       "    </tr>\n",
       "    <tr>\n",
       "      <th>5</th>\n",
       "      <td>4359.193353</td>\n",
       "      <td>2076.568542</td>\n",
       "      <td>2094.049183</td>\n",
       "      <td>1498.026105</td>\n",
       "    </tr>\n",
       "    <tr>\n",
       "      <th>6</th>\n",
       "      <td>4424.368625</td>\n",
       "      <td>2076.568542</td>\n",
       "      <td>2102.462113</td>\n",
       "      <td>1498.026105</td>\n",
       "    </tr>\n",
       "    <tr>\n",
       "      <th>7</th>\n",
       "      <td>3409.037743</td>\n",
       "      <td>2048.284271</td>\n",
       "      <td>2084.852814</td>\n",
       "      <td>1498.026105</td>\n",
       "    </tr>\n",
       "    <tr>\n",
       "      <th>8</th>\n",
       "      <td>5643.387868</td>\n",
       "      <td>2048.284271</td>\n",
       "      <td>2076.568542</td>\n",
       "      <td>1498.026105</td>\n",
       "    </tr>\n",
       "    <tr>\n",
       "      <th>9</th>\n",
       "      <td>3330.948781</td>\n",
       "      <td>2048.284271</td>\n",
       "      <td>2076.568542</td>\n",
       "      <td>1498.026105</td>\n",
       "    </tr>\n",
       "  </tbody>\n",
       "</table>\n",
       "</div>"
      ],
      "text/plain": [
       "   Initial Solution  Solution after Tabou List  Solutions after RS  \\\n",
       "0       4613.582192                2076.568542         2076.568542   \n",
       "1       4438.709948                2076.568542         2076.568542   \n",
       "2       3429.734936                2076.568542         2090.710678   \n",
       "3       5634.200849                2084.852814         2048.284271   \n",
       "4       3429.695754                2076.568542         2048.284271   \n",
       "5       4359.193353                2076.568542         2094.049183   \n",
       "6       4424.368625                2076.568542         2102.462113   \n",
       "7       3409.037743                2048.284271         2084.852814   \n",
       "8       5643.387868                2048.284271         2076.568542   \n",
       "9       3330.948781                2048.284271         2076.568542   \n",
       "\n",
       "   Solutions after GA  \n",
       "0         3465.163684  \n",
       "1         3465.163684  \n",
       "2         1498.026105  \n",
       "3         1498.026105  \n",
       "4         1498.026105  \n",
       "5         1498.026105  \n",
       "6         1498.026105  \n",
       "7         1498.026105  \n",
       "8         1498.026105  \n",
       "9         1498.026105  "
      ]
     },
     "execution_count": 25,
     "metadata": {},
     "output_type": "execute_result"
    }
   ],
   "source": [
    "df = pd.DataFrame({'Initial Solution': map(cost, solutions),\n",
    "                   'Solution after Tabou List': map(cost, tabu_solutions),\n",
    "                  'Solutions after RS': map(cost, rs_solutions),\n",
    "                  'Solutions after GA':map(cost, ga_solutions)})\n",
    "df"
   ]
  },
  {
   "cell_type": "markdown",
   "id": "ae857848-dc86-4422-a430-6ec2bbcfe964",
   "metadata": {},
   "source": [
    "Nous pouvons voir comment, grâce aux méthodes heuristiques utilisées, un pool initial de solutions peut être considérablement amélioré."
   ]
  },
  {
   "cell_type": "code",
   "execution_count": 26,
   "id": "9b073cfe-a629-4478-a252-d1ca1696c062",
   "metadata": {},
   "outputs": [
    {
     "data": {
      "image/png": "[encoded data removed]",
      "text/plain": [
       "<Figure size 576x648 with 1 Axes>"
      ]
     },
     "metadata": {
      "needs_background": "light"
     },
     "output_type": "display_data"
    }
   ],
   "source": [
    "plt.scatter(x=list(range(10)), y=list(map(cost, solutions)), label='Initial Solution', c='turquoise')\n",
    "plt.scatter(x=list(range(10)), y=list(map(cost, tabu_solutions)), label='Tabu List Solution', c='midnightblue')\n",
    "plt.scatter(x=list(range(10)), y=list(map(cost, rs_solutions)), label='RS Solution', c='orange')\n",
    "plt.scatter(x=list(range(10)), y=list(map(cost, ga_solutions)), label='GA Solution', c='lime')\n",
    "plt.xlabel('# of solution')\n",
    "plt.ylabel('Cost of solution')\n",
    "plt.title('Scatter plot of 10 random solutions of a simple VRPTW instance, compared to 10 results obtained using TabuList and RS algorithms');\n",
    "plt.gcf().set_size_inches(8, 9);"
   ]
  },
  {
   "cell_type": "code",
   "execution_count": null,
   "id": "01a4eaf7-0a91-4b89-a7f9-ce1931e9023a",
   "metadata": {},
   "outputs": [],
   "source": []
  }
 ],
 "metadata": {
  "kernelspec": {
   "display_name": "Python 3",
   "language": "python",
   "name": "python3"
  },
  "language_info": {
   "codemirror_mode": {
    "name": "ipython",
    "version": 3
   },
   "file_extension": ".py",
   "mimetype": "text/x-python",
   "name": "python",
   "nbconvert_exporter": "python",
   "pygments_lexer": "ipython3",
   "version": "3.8.8"
  }
 },
 "nbformat": 4,
 "nbformat_minor": 5
}
