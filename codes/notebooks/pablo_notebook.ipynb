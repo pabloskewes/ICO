{
 "cells": [
  {
   "cell_type": "code",
   "execution_count": 1,
   "id": "29103849-723e-4da1-956e-71dff6172e9d",
   "metadata": {},
   "outputs": [],
   "source": [
    "import random\n",
    "\n",
    "from neighborhood import Neighborhood\n",
    "from loading_models import load_solomon\n",
    "from classes_ico import Vehicle, Customer, VRPTW\n",
    "from solution import solution_checker, list_routes_to_sol, cost, random_solution"
   ]
  },
  {
   "cell_type": "code",
   "execution_count": 2,
   "id": "5b026d53-d32e-468e-a064-c2b6cb235fdf",
   "metadata": {},
   "outputs": [],
   "source": [
    "vrptw = load_solomon('simple.csv', nb_cust=10, vehicle_speed=50)"
   ]
  },
  {
   "cell_type": "code",
   "execution_count": 3,
   "id": "92709441-fccf-417a-a9cb-4cff8f745c49",
   "metadata": {},
   "outputs": [
    {
     "name": "stdout",
     "output_type": "stream",
     "text": [
      "The vehicle is getting to late (895.0843147822461): customers' (5) time window's closed 500\n",
      "Solution generated is not legitimate, a new one will be created.\n",
      "The vehicle gets there after the end of the time window (1009.5280449438104 > 1000)\n",
      "The vehicle is getting to late (661.9473319220206): customers' (5) time window's closed 500\n",
      "The vehicle gets there after the end of the time window (471.0 > 400)\n",
      "The vehicle is getting to late (1194.8536737320524): customers' (7) time window's closed 400\n",
      "The vehicle is getting to late (514.8822509939085): customers' (7) time window's closed 400\n",
      "The vehicle is getting to late (661.9473319220206): customers' (5) time window's closed 500\n",
      "The vehicle is getting to late (926.3086505933868): customers' (5) time window's closed 500\n",
      "The vehicle is getting to late (907.934275860533): customers' (3) time window's closed 500\n",
      "The vehicle is getting to late (889.0): customers' (8) time window's closed 500\n",
      "The vehicle is getting to late (958.2666153055678): customers' (5) time window's closed 500\n",
      "[0, 8, 0, 3, 1, 0, 2, 0, 5, 0, 4, 9, 6, 7, 10]\n"
     ]
    }
   ],
   "source": [
    "r_sol = random_solution(nb_cust=10, verbose=1, force_check_vrptw=vrptw)\n",
    "print(r_sol)"
   ]
  },
  {
   "cell_type": "code",
   "execution_count": 4,
   "id": "24239f46-1f85-42c4-a939-3a577297444e",
   "metadata": {},
   "outputs": [
    {
     "name": "stdout",
     "output_type": "stream",
     "text": [
      "[0, 7, 0, 5, 8, 10, 9, 0, 1, 0, 3, 6, 4, 2, 0]\n"
     ]
    }
   ],
   "source": [
    "print(r_sol)"
   ]
  },
  {
   "cell_type": "code",
   "execution_count": 5,
   "id": "d99fe346-c820-42d9-afc3-536003cd9ad9",
   "metadata": {},
   "outputs": [
    {
     "data": {
      "text/plain": [
       "True"
      ]
     },
     "execution_count": 5,
     "metadata": {},
     "output_type": "execute_result"
    }
   ],
   "source": [
    "solution_checker(vrptw, r_sol)"
   ]
  },
  {
   "cell_type": "code",
   "execution_count": 86,
   "id": "6c3792f3-6716-42ec-9813-5944713a2168",
   "metadata": {},
   "outputs": [
    {
     "data": {
      "text/plain": [
       "{3}"
      ]
     },
     "execution_count": 86,
     "metadata": {},
     "output_type": "execute_result"
    }
   ],
   "source": [
    "{2,3} - {1,2,4}"
   ]
  },
  {
   "cell_type": "code",
   "execution_count": 3,
   "id": "1773f373-d692-4603-87e2-f0bdedad3779",
   "metadata": {},
   "outputs": [
    {
     "name": "stdout",
     "output_type": "stream",
     "text": [
      "[0, 9, 20, 1, 0, 11, 19, 10, 0, 14, 15, 13, 0, 12, 22, 4, 25, 0, 5, 16, 6, 0, 7, 8, 17, 0, 2, 21, 0, 18, 0, 23, 3, 24, 0]\n"
     ]
    }
   ],
   "source": [
    "# sol_pool = [[[0, 9, 20, 1, 0], [0, 11, 19, 10, 0], [0, 14, 15, 13, 0], [0, 12, 22, 4, 25, 0], [0, 5, 16, 6, 0], [0, 7, 8, 17, 0], [0, 2, 21, 0], [0, 18, 0], [0, 23, 3, 24, 0]], [[0, 5, 16, 6, 0], [0, 11, 19, 10, 0], [0, 14, 15, 13, 0], [0, 23, 22, 4, 0], [0, 9, 20, 1, 0], [0, 2, 21, 0], [0, 7, 8, 17, 0], [0, 18, 0], [0, 12, 3, 24, 25, 0]], [[0, 5, 16, 6, 0], [0, 11, 19, 10, 0], [0, 14, 15, 13, 0], [0, 23, 22, 4, 0], [0, 9, 20, 1, 0], [0, 2, 21, 0], [0, 7, 8, 17, 0], [0, 18, 0], [0, 12, 3, 24, 25, 0]], [[0, 5, 16, 6, 0], [0, 12, 9, 10, 0], [0, 14, 15, 13, 0], [0, 23, 3, 4, 0], [0, 2, 21, 22, 24, 25, 0], [0, 7, 8, 17, 0], [0, 18, 0], [0, 11, 19, 20, 1, 0]], [[0, 5, 16, 6, 0], [0, 11, 19, 10, 0], [0, 14, 15, 0], [0, 23, 3, 24, 25, 0], [0, 2, 21, 22, 4, 0], [0, 7, 8, 17, 0], [0, 18, 13, 0], [0, 12, 9, 20, 1, 0]], [[0, 5, 16, 6, 0], [0, 11, 19, 10, 0], [0, 14, 7, 8, 13, 0], [0, 23, 22, 24, 25, 0], [0, 2, 21, 3, 4, 0], [0, 15, 17, 0], [0, 18, 20, 1, 0], [0, 12, 9, 0]], [[0, 5, 1, 9, 20, 0], [0, 11, 19, 10, 0], [0, 14, 15, 13, 0], [0, 23, 22, 0], [0, 18, 6, 0], [0, 7, 8, 17, 0], [0, 2, 21, 0], [0, 16, 4, 25, 0], [0, 12, 3, 24, 0]], [[0, 5, 16, 6, 0], [0, 12, 9, 20, 0], [0, 14, 15, 13, 0], [0, 23, 22, 4, 0], [0, 2, 21, 3, 24, 25, 0], [0, 7, 8, 17, 0], [0, 18, 0], [0, 11, 19, 10, 1, 0]], [[0, 5, 1, 9, 20, 0], [0, 11, 19, 10, 0], [0, 14, 15, 13, 0], [0, 23, 3, 4, 25, 0], [0, 18, 6, 0], [0, 7, 8, 17, 0], [0, 2, 21, 0], [0, 16, 0], [0, 12, 22, 24, 0]], [[0, 5, 18, 6, 0], [0, 11, 19, 10, 0], [0, 14, 15, 13, 0], [0, 2, 21, 3, 4, 0], [0, 23, 22, 24, 25, 0], [0, 7, 8, 17, 0], [0, 16, 0], [0, 12, 9, 20, 1, 0]]]\n",
    "sol_pool = [[]]\n",
    "solutions = [list_routes_to_sol(sol) for sol in sol_pool]\n",
    "sol_test = solutions[0]\n",
    "print(sol_test)"
   ]
  },
  {
   "cell_type": "code",
   "execution_count": 4,
   "id": "5be6fa15-d189-4d11-b955-204e09e37741",
   "metadata": {},
   "outputs": [],
   "source": [
    "# for sol in solutions:\n",
    "#     print(f'Working on solution: {sol}\\n')\n",
    "#     print(solution_checker(vrptw, sol, verbose=1))\n",
    "#     print()"
   ]
  },
  {
   "cell_type": "code",
   "execution_count": 5,
   "id": "8557e0a7-15c3-4d42-ae6c-0968dab9f6e6",
   "metadata": {},
   "outputs": [],
   "source": [
    "N = Neighborhood(vrptw)"
   ]
  },
  {
   "cell_type": "code",
   "execution_count": 19,
   "id": "1145fc19-1ade-4ab7-bac3-9e1c2f1e8732",
   "metadata": {},
   "outputs": [
    {
     "name": "stdout",
     "output_type": "stream",
     "text": [
      "forcing use of working neighborhood function\n",
      "function with code 4 requested but could not be used, random available function will be used instead\n",
      "k took value 0: apply operation named 2-opt\n",
      "[0, 9, 20, 1, 0, 11, 19, 10, 0, 14, 15, 13, 0, 12, 22, 4, 25, 0, 5, 16, 6, 0, 7, 8, 17, 0, 2, 21, 0, 18, 0, 23, 3, 24, 0]\n"
     ]
    }
   ],
   "source": [
    "new_sol = N(sol_test, force_working_functions=True, verbose=1)\n",
    "print(new_sol)"
   ]
  },
  {
   "cell_type": "code",
   "execution_count": 20,
   "id": "2728e081-1539-4d98-9efb-c9220589fac7",
   "metadata": {},
   "outputs": [
    {
     "name": "stdout",
     "output_type": "stream",
     "text": [
      "Solution: [[0, 9, 20, 1, 0], [0, 11, 19, 10, 0], [0, 14, 15, 13, 0], [0, 12, 22, 4, 25, 0], [0, 5, 16, 6, 0], [0, 7, 8, 17, 0], [0, 2, 21, 0], [0, 18, 0], [0, 23, 3, 24, 0]]\n",
      "Total cost of solution: 9670.267129187581\n",
      "9670.267129187581\n",
      "Solution: [[0, 9, 20, 1, 0], [0, 11, 19, 10, 0], [0, 14, 15, 13, 0], [0, 12, 22, 4, 25, 0], [0, 5, 16, 6, 0], [0, 7, 8, 17, 0], [0, 2, 21, 0], [0, 18, 0], [0, 23, 3, 24, 0]]\n",
      "Total cost of solution: 9670.267129187581\n",
      "9670.267129187581\n"
     ]
    }
   ],
   "source": [
    "print(cost(vrptw, sol_test))\n",
    "print(cost(vrptw, new_sol))"
   ]
  }
 ],
 "metadata": {
  "kernelspec": {
   "display_name": "Python 3",
   "language": "python",
   "name": "python3"
  },
  "language_info": {
   "codemirror_mode": {
    "name": "ipython",
    "version": 3
   },
   "file_extension": ".py",
   "mimetype": "text/x-python",
   "name": "python",
   "nbconvert_exporter": "python",
   "pygments_lexer": "ipython3",
   "version": "3.8.8"
  }
 },
 "nbformat": 4,
 "nbformat_minor": 5
}
