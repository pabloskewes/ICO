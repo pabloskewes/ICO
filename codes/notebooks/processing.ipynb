{
 "cells": [
  {
   "cell_type": "markdown",
   "id": "859818a8-cc1a-4f59-9c55-f31c14823d13",
   "metadata": {},
   "source": [
    "# Processing"
   ]
  },
  {
   "cell_type": "code",
   "execution_count": null,
   "id": "0d3ca734-ae92-45f8-abaa-47578c60a7d6",
   "metadata": {},
   "outputs": [],
   "source": [
    "import numpy as np\n",
    "import pandas as pd\n",
    "import os"
   ]
  },
  {
   "cell_type": "markdown",
   "id": "4ae2c53e-7787-4523-a390-a88446ee4424",
   "metadata": {},
   "source": [
    "#### Directories"
   ]
  },
  {
   "cell_type": "code",
   "execution_count": null,
   "id": "bc0ccd5c-0194-4674-8492-e44439427741",
   "metadata": {
    "slideshow": {
     "slide_type": "slide"
    },
    "tags": []
   },
   "outputs": [],
   "source": [
    "ROOT_DIR = os.path.abspath('..')\n",
    "DATA_DIR = os.path.join(ROOT_DIR, 'data')\n",
    "\n",
    "CUSTOMER_DIR = os.path.join(DATA_DIR, '2_detail_table_customers.xls')\n",
    "VEHICLES_DIR = os.path.join(DATA_DIR, '3_detail_table_vehicles.xls')\n",
    "DEPOTS_DIR = os.path.join(DATA_DIR, '4_detail_table_depots.xls')\n",
    "CONSTRAINTS_DIR = os.path.join(DATA_DIR, '5_detail_table_constraints_sdvrp.xls')\n",
    "DEPOTS_DISTANCES_DIR = os.path.join(DATA_DIR, '6_detail_table_cust_depots_distances.xls')\n",
    "CUSTOMER_DISTANCES_DIR = os.path.join(DATA_DIR, '7_detail_table_cust_cust_distances.xls')"
   ]
  },
  {
   "cell_type": "code",
   "execution_count": 3,
   "id": "d5d80468-9d7a-4030-9258-a55799d209ed",
   "metadata": {},
   "outputs": [],
   "source": [
    "customers = pd.read_excel(CUSTOMER_DIR)\n",
    "vehicles = pd.read_excel(VEHICLES_DIR)\n",
    "depots = pd.read_excel(DEPOTS_DIR)\n",
    "constraints = pd.read_excel(CONSTRAINTS_DIR)\n",
    "depots_dist = pd.read_excel(DEPOTS_DISTANCES_DIR)\n",
    "customers_dist = pd.read_excel(CUSTOMER_DISTANCES_DIR)"
   ]
  },
  {
   "cell_type": "code",
   "execution_count": null,
   "id": "05f3a3d4-c49f-4554-b358-ede1fe57fa4f",
   "metadata": {},
   "outputs": [],
   "source": [
    "def load_vehicle(vehicles, MODE=\"mean\", vehicle_nb=None):\n",
    "    if vehicle_nb:\n",
    "        volume = vehicles[vehicles[\"VEHICLE_CODE\"]==vehicle_nb][\"VEHICLE_TOTAL_VOLUME_M3\"]\n",
    "        weight = vehicles[vehicles[\"VEHICLE_CODE\"]==vehicle_nb][\"VEHICLE_TOTAL_WEIGHT_KG\"]\n",
    "        cost_km = vehicles[vehicles[\"VEHICLE_CODE\"]==vehicle_nb][\"VEHICLE_VARIABLE_COST_KM\"]  \n",
    "    else :\n",
    "        volume = getattr(vehicles[\"VEHICLE_TOTAL_VOLUME_M3\"], MODE)()\n",
    "        weight = getattr(vehicles[\"VEHICLE_TOTAL_WEIGHT_KG\"], MODE)()\n",
    "        cost_km = getattr(vehicles[\"VEHICLE_VARIABLE_COST_KM\"], MODE)()  \n",
    "    vehicle = Vehicle(volume, weight, cost_km)\n",
    "    return vehicle"
   ]
  },
  {
   "cell_type": "code",
   "execution_count": null,
   "id": "310a5a76-7962-41fc-aa34-333df3637b86",
   "metadata": {},
   "outputs": [],
   "source": [
    "def load_customers(customers):\n",
    "    # we supress the lines where the CUSTOMER_CODE repeat itself\n",
    "    customers = customers.drop_duplicates(subset=[\"CUSTOMER_CODE\"], keep='first')\n",
    "    # The first customer of the list is the depot, whose id is 0.\n",
    "    id = 0\n",
    "    latitude = depots.loc[0,\"DEPOT_LATITUDE\"]\n",
    "    longitude = depots.loc[0,\"DEPOT_LONGITUDE\"]\n",
    "    time_window = (depots.loc[0,\"DEPOT_AVAILABLE_TIME_FROM_MIN\"], depots.loc[0,\"DEPOT_AVAILABLE_TIME_TO_MIN\"])\n",
    "    request_volume =0\n",
    "    request_weight = 0\n",
    "    time_service = 0\n",
    "    depot = Customer(id, latitude, longitude, time_window, request_volume, request_weight, time_service)\n",
    "    list_customers = [depot]\n",
    "    # We add every new customer to the list :\n",
    "    for i, code in enumerate(customers[\"CUSTOMER_CODE\"], start=1):\n",
    "        id = i\n",
    "        latitude = customers[customers[\"CUSTOMER_CODE\"]==code][\"CUSTOMER_LATITUDE\"]\n",
    "        longitude = customers[customers[\"CUSTOMER_CODE\"]==code][\"CUSTOMER_LONGITUDE\"]\n",
    "        time_window = (customers[customers[\"CUSTOMER_CODE\"]==code][\"CUSTOMER_TIME_WINDOW_FROM_MIN\"], \n",
    "                       customers[customers[\"CUSTOMER_CODE\"]==code][\"CUSTOMER_TIME_WINDOW_TO_MIN\"])\n",
    "        request_volume = customers[customers[\"CUSTOMER_CODE\"]==code][\"TOTAL_VOLUME_M3\"]\n",
    "        request_weight = customers[customers[\"CUSTOMER_CODE\"]==code][\"TOTAL_WEIGHT_KG\"]\n",
    "        time_service = customers[customers[\"CUSTOMER_CODE\"]==code][\"CUSTOMER_DELIVERY_SERVICE_TIME_MIN\"]\n",
    "        customer = Customer(id, latitude, longitude, time_window, request_volume, request_weight, time_service)\n",
    "        list_customers.append(customer)\n",
    "    return list_customers"
   ]
  },
  {
   "cell_type": "code",
   "execution_count": null,
   "id": "b015afcd-de43-45fb-9561-fc47b0a8c736",
   "metadata": {},
   "outputs": [],
   "source": []
  },
  {
   "cell_type": "code",
   "execution_count": null,
   "id": "ee3ff2c1-3d29-4316-b763-8b976054ac50",
   "metadata": {},
   "outputs": [],
   "source": []
  },
  {
   "cell_type": "code",
   "execution_count": null,
   "id": "a8a4fd81-3807-41c4-9cc7-ebb52c6ff906",
   "metadata": {},
   "outputs": [],
   "source": [
    "def data_from_route(path, route_id):\n",
    "    df = pd.read_excel(path)\n",
    "    return df[df['ROUTE_ID'] == route_id].drop(['ROUTE_ID'], axis=1)\n",
    "\n",
    "def matrix_generator(depot_data, customer_data):\n",
    "    n = len(depot_data)//2\n",
    "    depot_data['CUSTOMER_CODE'] = pd.to_numeric(depot_data['CUSTOMER_CODE'], errors='ignore', downcast='integer', )\n",
    "    customer_data['CUSTOMER_CODE_FROM'] = pd.to_numeric(customer_data['CUSTOMER_CODE_FROM'], errors='ignore', downcast='integer')\n",
    "    customer_data['CUSTOMER_CODE_TO'] = pd.to_numeric(customer_data['CUSTOMER_CODE_TO'], downcast='integer')\n",
    "    depot_data = depot_data.sort_values(['CUSTOMER_CODE']).reset_index(drop=True)\n",
    "    customer_data = customer_data.sort_values(['CUSTOMER_CODE_FROM', 'CUSTOMER_CODE_TO']).reset_index(drop=True)\n",
    "    time_matrix = np.zeros((n+1,n+1))\n",
    "    distance_matrix = np.zeros((n+1,n+1))\n",
    "    groups_depot = dict(tuple(depot_data.groupby(['DIRECTION'])))\n",
    "    time_matrix[0, 1:] = groups_depot['DEPOT->CUSTOMER']['TIME_DISTANCE_MIN'].to_numpy()\n",
    "    time_matrix[1:, 0] = groups_depot['CUSTOMER->DEPOT']['TIME_DISTANCE_MIN'].to_numpy()\n",
    "    distance_matrix[0, 1:] = groups_depot['DEPOT->CUSTOMER']['DISTANCE_KM'].to_numpy()\n",
    "    distance_matrix[1:, 0] = groups_depot['CUSTOMER->DEPOT']['DISTANCE_KM'].to_numpy()\n",
    "    groups_customer = dict(tuple(customer_data.groupby(['CUSTOMER_CODE_FROM'])))\n",
    "    keys = np.array(list(groups_customer.keys()))\n",
    "    print(groups_customer[keys[1]])\n",
    "    for i in range(1, n+1):\n",
    "        time_matrix[i, 1:] = groups_customer[keys[i-1]]['TIME_DISTANCE_MIN'].to_numpy()\n",
    "        distance_matrix[i, 1:] = groups_customer[keys[i-1]]['DISTANCE_KM'].to_numpy()\n",
    "    return time_matrix, distance_matrix, keys"
   ]
  }
 ],
 "metadata": {
  "kernelspec": {
   "display_name": "Python 3 (ipykernel)",
   "language": "python",
   "name": "python3"
  },
  "language_info": {
   "codemirror_mode": {
    "name": "ipython",
    "version": 3
   },
   "file_extension": ".py",
   "mimetype": "text/x-python",
   "name": "python",
   "nbconvert_exporter": "python",
   "pygments_lexer": "ipython3",
   "version": "3.8.10"
  }
 },
 "nbformat": 4,
 "nbformat_minor": 5
}
