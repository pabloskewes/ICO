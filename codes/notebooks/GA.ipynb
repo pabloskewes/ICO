{
 "cells": [
  {
   "cell_type": "code",
   "execution_count": null,
   "metadata": {},
   "outputs": [],
   "source": [
    "# %load_ext autoreload\n",
    "# %autoreload 1\n",
    "# %aimport metaheuristics.algorithme_genetique"
   ]
  },
  {
   "cell_type": "code",
   "execution_count": 1,
   "metadata": {},
   "outputs": [
    {
     "name": "stdout",
     "output_type": "stream",
     "text": [
      "d:\\Git\\dir\\ICO\\codes\n"
     ]
    }
   ],
   "source": [
    "cd .."
   ]
  },
  {
   "cell_type": "code",
   "execution_count": 2,
   "metadata": {},
   "outputs": [],
   "source": [
    "from metaheuristics.algorithme_genetique import*\n",
    "from metaheuristics.base_problem import *\n",
    "from loading_models import *\n",
    "from vrptw import VRPTW\n",
    "from copy import deepcopy"
   ]
  },
  {
   "cell_type": "code",
   "execution_count": 11,
   "metadata": {},
   "outputs": [],
   "source": [
    "context = load_solomon('simple.csv', nb_cust=10, vehicle_speed=100)\n",
    "# context = create_vrptw(CUSTOMER_DIR, DEPOTS_DIR, VEHICLES_DIR, DEPOTS_DISTANCES_DIR, CUSTOMER_DISTANCES_DIR, 2958047, MODE_VEHICLE=\"mean\", vehicle_code=None)\n",
    "vrptw = VRPTW(context)"
   ]
  },
  {
   "cell_type": "code",
   "execution_count": 12,
   "metadata": {},
   "outputs": [
    {
     "data": {
      "text/plain": [
       "[[0, 5, 7, 8, 9, 0], [0, 3, 6, 4, 10, 1, 2, 0]]"
      ]
     },
     "execution_count": 12,
     "metadata": {},
     "output_type": "execute_result"
    }
   ],
   "source": [
    "cri=True\n",
    "neighborhood_params={   'verbose':0,\n",
    "                        'init_sol':'random',\n",
    "                        'choose_mode':'random',\n",
    "                        'use_methods' : ['intra_route_swap','inter_route_swap',\n",
    "                            'intra_route_shift','inter_route_shift',\n",
    "                            'two_intra_route_swap', 'two_intra_route_shift',\n",
    "                            'delete_smallest_route'],\n",
    "                        'force_new_sol': True,         \n",
    "                        'full_search':True\n",
    "                    }\n",
    "\n",
    "instance =GeneticAlgorithm(progress_bar=False,num_evolu_per_search=200,neighborhood_params=neighborhood_params,reproductive_isolation=True,best_seed=True,rate_mutation=0.9)\n",
    "instance.fit_search(vrptw)"
   ]
  },
  {
   "cell_type": "code",
   "execution_count": 13,
   "metadata": {},
   "outputs": [
    {
     "name": "stderr",
     "output_type": "stream",
     "text": [
      "  0%|          | 0/10 [00:04<?, ?it/s]\n"
     ]
    },
    {
     "name": "stdout",
     "output_type": "stream",
     "text": [
      "Unexpected exception formatting exception. Falling back to standard exception\n"
     ]
    },
    {
     "name": "stderr",
     "output_type": "stream",
     "text": [
      "Traceback (most recent call last):\n",
      "  File \"D:\\miniconda\\envs\\ico\\lib\\site-packages\\IPython\\core\\interactiveshell.py\", line 3369, in run_code\n",
      "    exec(code_obj, self.user_global_ns, self.user_ns)\n",
      "  File \"C:\\Users\\Trump\\AppData\\Local\\Temp\\ipykernel_84044\\1580366305.py\", line 2, in <cell line: 1>\n",
      "    instance.search()\n",
      "  File \"d:\\Git\\dir\\ICO\\codes\\metaheuristics\\algorithme_genetique.py\", line 76, in search\n",
      "    self.__evolution()\n",
      "  File \"d:\\Git\\dir\\ICO\\codes\\metaheuristics\\algorithme_genetique.py\", line 220, in __evolution\n",
      "    # for chromosome in self.population:\n",
      "  File \"d:\\Git\\dir\\ICO\\codes\\metaheuristics\\algorithme_genetique.py\", line 202, in __regeneration\n",
      "    for chromosome in self.population:\n",
      "  File \"d:\\Git\\dir\\ICO\\codes\\metaheuristics\\algorithme_genetique.py\", line 98, in __generate_chromosome\n",
      "    chromosome = N.initial_solution()\n",
      "  File \"d:\\Git\\dir\\ICO\\codes\\neighborhood.py\", line 50, in initial_solution\n",
      "    init_sol = self.random_solution(nb_cust=len(self.context.customers) - 1)\n",
      "  File \"d:\\Git\\dir\\ICO\\codes\\neighborhood.py\", line 738, in random_solution\n",
      "    check = solution.checker()\n",
      "  File \"d:\\Git\\dir\\ICO\\codes\\solution.py\", line 173, in checker\n",
      "    route_check = all((self.route_checker(route) for route in self.routes))\n",
      "  File \"d:\\Git\\dir\\ICO\\codes\\solution.py\", line 173, in <genexpr>\n",
      "    route_check = all((self.route_checker(route) for route in self.routes))\n",
      "  File \"d:\\Git\\dir\\ICO\\codes\\solution.py\", line -1, in route_checker\n",
      "KeyboardInterrupt\n",
      "\n",
      "During handling of the above exception, another exception occurred:\n",
      "\n",
      "Traceback (most recent call last):\n",
      "  File \"D:\\miniconda\\envs\\ico\\lib\\site-packages\\IPython\\core\\interactiveshell.py\", line 1982, in showtraceback\n",
      "    stb = self.InteractiveTB.structured_traceback(\n",
      "  File \"D:\\miniconda\\envs\\ico\\lib\\site-packages\\IPython\\core\\ultratb.py\", line 1118, in structured_traceback\n",
      "    return FormattedTB.structured_traceback(\n",
      "  File \"D:\\miniconda\\envs\\ico\\lib\\site-packages\\IPython\\core\\ultratb.py\", line 1012, in structured_traceback\n",
      "    return VerboseTB.structured_traceback(\n",
      "  File \"D:\\miniconda\\envs\\ico\\lib\\site-packages\\IPython\\core\\ultratb.py\", line 865, in structured_traceback\n",
      "    formatted_exception = self.format_exception_as_a_whole(etype, evalue, etb, number_of_lines_of_context,\n",
      "  File \"D:\\miniconda\\envs\\ico\\lib\\site-packages\\IPython\\core\\ultratb.py\", line 818, in format_exception_as_a_whole\n",
      "    frames.append(self.format_record(r))\n",
      "  File \"D:\\miniconda\\envs\\ico\\lib\\site-packages\\IPython\\core\\ultratb.py\", line 736, in format_record\n",
      "    result += ''.join(_format_traceback_lines(frame_info.lines, Colors, self.has_colors, lvals))\n",
      "  File \"D:\\miniconda\\envs\\ico\\lib\\site-packages\\stack_data\\utils.py\", line 145, in cached_property_wrapper\n",
      "    value = obj.__dict__[self.func.__name__] = self.func(obj)\n",
      "  File \"D:\\miniconda\\envs\\ico\\lib\\site-packages\\stack_data\\core.py\", line 698, in lines\n",
      "    pieces = self.included_pieces\n",
      "  File \"D:\\miniconda\\envs\\ico\\lib\\site-packages\\stack_data\\utils.py\", line 145, in cached_property_wrapper\n",
      "    value = obj.__dict__[self.func.__name__] = self.func(obj)\n",
      "  File \"D:\\miniconda\\envs\\ico\\lib\\site-packages\\stack_data\\core.py\", line 649, in included_pieces\n",
      "    pos = scope_pieces.index(self.executing_piece)\n",
      "  File \"D:\\miniconda\\envs\\ico\\lib\\site-packages\\stack_data\\utils.py\", line 145, in cached_property_wrapper\n",
      "    value = obj.__dict__[self.func.__name__] = self.func(obj)\n",
      "  File \"D:\\miniconda\\envs\\ico\\lib\\site-packages\\stack_data\\core.py\", line 628, in executing_piece\n",
      "    return only(\n",
      "  File \"D:\\miniconda\\envs\\ico\\lib\\site-packages\\executing\\executing.py\", line 164, in only\n",
      "    raise NotOneValueFound('Expected one value, found 0')\n",
      "executing.executing.NotOneValueFound: Expected one value, found 0\n"
     ]
    }
   ],
   "source": [
    "for _ in tqdm(range(10)):\n",
    "    instance.search()"
   ]
  },
  {
   "cell_type": "code",
   "execution_count": null,
   "metadata": {},
   "outputs": [],
   "source": [
    "n=instance.NEIGHBORHOOD()\n",
    "n.set_params({'choose_mode':'delete_smallest_route'})\n",
    "for _ in tqdm(range(10000)):\n",
    "\n",
    "    s1=n.initial_solution()\n",
    "    s2=n(s1)\n",
    "\n",
    "    if not (s1.checker() and s2.checker()):\n",
    "        print(s1)\n",
    "        print(s2)\n",
    "        print('1\\n',s1.checker(),'\\n1\\n',s2.checker())\n",
    "    \n",
    "        break"
   ]
  },
  {
   "cell_type": "code",
   "execution_count": null,
   "metadata": {},
   "outputs": [],
   "source": [
    "new_routes=S.routes\n",
    "new_routes"
   ]
  },
  {
   "cell_type": "code",
   "execution_count": null,
   "metadata": {},
   "outputs": [],
   "source": [
    "available_positions = [(i, j) for i in range(len(new_routes)) for j in range(1, len(new_routes[i]))]\n",
    "available_positions"
   ]
  },
  {
   "cell_type": "code",
   "execution_count": null,
   "metadata": {},
   "outputs": [],
   "source": [
    "import random\n",
    "from copy import deepcopy\n",
    "from solution import VRPTWSolution\n"
   ]
  },
  {
   "cell_type": "code",
   "execution_count": null,
   "metadata": {},
   "outputs": [],
   "source": [
    "for _ in tqdm(range(10000)):\n",
    "    S=n.initial_solution()\n",
    "    s3=delete_random_route(S)"
   ]
  },
  {
   "cell_type": "code",
   "execution_count": null,
   "metadata": {},
   "outputs": [],
   "source": [
    "def delete_random_route(solution: VRPTWSolution) -> VRPTWSolution:\n",
    "    \"\"\"\n",
    "    Deletes the random route and inserts its customers in the other routes\n",
    "    :param solution\n",
    "    :return: Solution (or nothing)\n",
    "    \"\"\"\n",
    "    routes = deepcopy(solution.routes)\n",
    "    new_solution = None\n",
    "    S = VRPTWSolution()\n",
    "    is_sol = False\n",
    "    n_iter = 0\n",
    "    available_routes = list(range(len(routes)))\n",
    "\n",
    "    while not is_sol and n_iter < 10 and available_routes:\n",
    "        n_iter += 1\n",
    "        deleted_index = random.choice(available_routes)\n",
    "        deleted_route = routes.pop(deleted_index)\n",
    "        n_cycle = 0\n",
    "        new_routes = deepcopy(routes)\n",
    "        available_positions = [(i, j) for i in range(len(new_routes)) for j in range(1, len(new_routes[i]))]\n",
    "        while n_cycle < 10 and available_positions:\n",
    "            n_cycle += 1\n",
    "            #将被删除列表元素随机选取位置插入到其余列表\n",
    "            #记录仪：recorder\n",
    "            recorder_del=[]\n",
    "            recorder_new_routes=[]\n",
    "            recorder_available_positions=[]\n",
    "            for i in range(1, len(deleted_route)-1):## not len(deleted_route)-2?\n",
    "\n",
    "                recorder_del.append(deleted_route[i])\n",
    "                if not available_positions: break\n",
    "                recorder_available_positions.append(deepcopy(available_positions))\n",
    "                r = random.choice(available_positions)\n",
    "                r_route = r[0]\n",
    "                r_pos = r[1]\n",
    "                new_routes[r_route].insert(r_pos, deleted_route[i])\n",
    "                recorder_new_routes.append(deepcopy(new_routes))\n",
    "                available_positions.remove(r)\n",
    "                \n",
    "            is_sol = all((S.route_checker(route) for route in new_routes)) #!!!!\n",
    "            is_is_sol=VRPTWSolution(new_routes).all_customers_checker()\n",
    "\n",
    "            if is_sol and(not is_is_sol):\n",
    "                new_sol = VRPTWSolution(new_routes)\n",
    "                print('found')\n",
    "                print('recorder_del')\n",
    "                print(recorder_del)\n",
    "                print('recorder_new_routes')\n",
    "                print(recorder_new_routes)\n",
    "                print('recorder_available_positions')\n",
    "                print(recorder_available_positions)\n",
    "                return new_sol\n",
    "\n",
    "        routes.insert(deleted_index, deleted_route)\n",
    "        available_routes.remove(deleted_index)\n",
    "    new_sol = solution\n",
    "    return new_sol"
   ]
  },
  {
   "cell_type": "code",
   "execution_count": null,
   "metadata": {},
   "outputs": [],
   "source": [
    "for _ in range(10):\n",
    "    instance.search()\n",
    "    cri=cri and instance.best_solution.checker()\n",
    "print(cri)"
   ]
  },
  {
   "cell_type": "code",
   "execution_count": null,
   "metadata": {},
   "outputs": [],
   "source": [
    "for _ in range(500):\n",
    "    N = vrptw.neighborhood({'verbose': 0, 'choose_mode': 'crossover'})\n",
    "    s1, s2 = N.initial_solution(), N.initial_solution()\n",
    "    s1, s2 = reduce_solution(s1, N), reduce_solution(s2, N)\n",
    "    s3, s4 = N.get_neighbor_from_two(s1, s2)\n",
    "    if not s3.checker() and s4.checker():\n",
    "        \n",
    "        print('cost s1 =', s1.cost(), 'cost s2 =', s2.cost())\n",
    "        print(\"cost s1' =\", s3.cost(), \"cost s2' =\", s4.cost())\n",
    "        print('s1 equal s3 =', s1==s3)\n",
    "        print('s2 equal s4 =', s2==s4)\n",
    "        print('is s3 valid ?', s3.checker(), '| is s4 valid ?', s4.checker())\n",
    "        print()\n",
    "        print_different_route(s1, s3)\n",
    "        print()\n",
    "        print_different_route(s2, s4)"
   ]
  },
  {
   "cell_type": "markdown",
   "metadata": {},
   "source": [
    "Concept of Nation"
   ]
  },
  {
   "cell_type": "code",
   "execution_count": null,
   "metadata": {},
   "outputs": [],
   "source": [
    "context = load_solomon('simple.csv', nb_cust=10, vehicle_speed=100)\n",
    "# context = create_vrptw(CUSTOMER_DIR, DEPOTS_DIR, VEHICLES_DIR, DEPOTS_DISTANCES_DIR, CUSTOMER_DISTANCES_DIR, 2958047, MODE_VEHICLE=\"mean\", vehicle_code=None)\n",
    "\n",
    "vrptw = VRPTW(context)\n",
    "neighborhood_params={   'verbose':1,\n",
    "                        'init_sol':'random',\n",
    "                        'choose_mode':'random',\n",
    "                        'force_new_sol': False,         \n",
    "                        'full_search':True\n",
    "                    }\n",
    "instance =GeneticAlgorithm(num_evolu_per_search=1,neighborhood_params=neighborhood_params,reproductive_isolation=True,best_seed=True)\n",
    "instance.fit_search(vrptw)\n",
    "\n",
    "for _ in range(10):\n",
    "    instance.search()\n",
    "    print(instance.best_solution.checker())\n",
    "instance.plot_evolution_cost()"
   ]
  },
  {
   "cell_type": "code",
   "execution_count": null,
   "metadata": {},
   "outputs": [],
   "source": [
    "instance.problem.context.distances.shape"
   ]
  },
  {
   "cell_type": "code",
   "execution_count": null,
   "metadata": {},
   "outputs": [],
   "source": [
    "instance.best_solution.checker()"
   ]
  },
  {
   "cell_type": "code",
   "execution_count": null,
   "metadata": {},
   "outputs": [],
   "source": [
    "instance.best_solution"
   ]
  },
  {
   "cell_type": "markdown",
   "metadata": {},
   "source": [
    "reproductive_isolation=False,best_seed=False"
   ]
  },
  {
   "cell_type": "code",
   "execution_count": null,
   "metadata": {},
   "outputs": [],
   "source": [
    "instance.evolution_best_solution"
   ]
  },
  {
   "cell_type": "markdown",
   "metadata": {},
   "source": [
    "reproductive_isolation=False,best_seed=True"
   ]
  },
  {
   "cell_type": "code",
   "execution_count": null,
   "metadata": {},
   "outputs": [],
   "source": [
    "instance.evolution_best_solution"
   ]
  },
  {
   "cell_type": "markdown",
   "metadata": {},
   "source": [
    "reproductive_isolation=True,best_seed=False"
   ]
  },
  {
   "cell_type": "code",
   "execution_count": null,
   "metadata": {},
   "outputs": [],
   "source": [
    "instance.evolution_best_solution "
   ]
  },
  {
   "cell_type": "markdown",
   "metadata": {},
   "source": [
    "reproductive_isolation=True,best_seed=True"
   ]
  },
  {
   "cell_type": "code",
   "execution_count": null,
   "metadata": {},
   "outputs": [],
   "source": [
    "instance.evolution_best_solution "
   ]
  },
  {
   "cell_type": "markdown",
   "metadata": {},
   "source": [
    "Exemple with load_solomon"
   ]
  },
  {
   "cell_type": "code",
   "execution_count": null,
   "metadata": {},
   "outputs": [],
   "source": [
    "for _ in range(1):\n",
    "    context = load_solomon('simple.csv', nb_cust=10, vehicle_speed=100)\n",
    "\n",
    "# for route_id in customers['ROUTE_ID'].unique():\n",
    "#     context = create_vrptw(CUSTOMER_DIR, DEPOTS_DIR, VEHICLES_DIR, DEPOTS_DISTANCES_DIR, CUSTOMER_DISTANCES_DIR, 2958047, MODE_VEHICLE=\"mean\", vehicle_code=None)\n",
    "   \n",
    "    vrptw = VRPTW(context)\n",
    "    neighborhood_params={   'verbose':0,\n",
    "                            'init_sol':'random',\n",
    "                            'choose_mode':'random',\n",
    "                            'force_new_sol': True         \n",
    "                        }\n",
    "    instance =GeneticAlgorithm(num_evolu_per_search=10,neighborhood_params=neighborhood_params)\n",
    "    instance.fit_search(vrptw)\n",
    "\n",
    "    for _ in range(10):\n",
    "        instance.search()\n",
    "    instance.plot_evolution_cost()"
   ]
  },
  {
   "cell_type": "markdown",
   "metadata": {},
   "source": [
    "DATA GENERATOR"
   ]
  },
  {
   "cell_type": "code",
   "execution_count": null,
   "metadata": {},
   "outputs": [],
   "source": [
    "import random\n",
    "import numpy as np\n",
    "import pandas as pd"
   ]
  },
  {
   "cell_type": "code",
   "execution_count": null,
   "metadata": {},
   "outputs": [],
   "source": [
    "def generator_demand(low=8,high=42):\n",
    "    tmp=int(np.random.normal(20,10))\n",
    "    while(tmp<low or tmp>high):\n",
    "        tmp=int(np.random.normal(20,10))\n",
    "    return tmp\n",
    "\n",
    "def generator_time_window(right=1300,avr_during=400,sigma_start=150,sigma_during=13):\n",
    "    variance_start=sigma_start*sigma_start\n",
    "    variance_during=sigma_during*sigma_during\n",
    "    start=int(np.random.normal(450,variance_start))\n",
    "    while(start>1050 or start<0):\n",
    "        start=int(np.random.normal(450,variance_start))  \n",
    "    \n",
    "    during=int(np.random.normal(avr_during,variance_during))\n",
    "    while(during<120):\n",
    "        during=int(np.random.normal(avr_during,variance_during))  \n",
    "    end=min(start+during,right)\n",
    "    return start,end\n",
    "\n",
    "def generator_datum():\n",
    "    time_window = generator_time_window(1440, 650)\n",
    "    start_time, end_time = time_window\n",
    "    return random.randint(0, 100),random.randint(0, 100),generator_demand(),start_time,end_time,int(np.random.normal(80,3))\n",
    "\n",
    "def generator_data(id_start,id_end):\n",
    "    for i in range(id_start,id_end+1):\n",
    "        print(f'{i},'+(str(generator_datum())).replace(' ','').replace('(','').replace(')','')+',')"
   ]
  },
  {
   "cell_type": "code",
   "execution_count": null,
   "metadata": {},
   "outputs": [],
   "source": [
    "def generate_dataframe(n_customers=10):\n",
    "    columns = ['CUSTNO', 'XCOORD', 'YCOORD', 'DEMAND', 'READYTIME', 'DUETIME', 'SERVICETIME']\n",
    "    df = pd.DataFrame(data=([i]+list(generator_datum()) for i in range(1, n_customers+1)), columns=columns)\n",
    "    df['CAPACITY'] = 200\n",
    "    return df\n",
    "\n",
    "def generate_csv(filename, n_customers):\n",
    "    df = generate_dataframe(n_customers)\n",
    "    df.to_csv(filename, index=False)    "
   ]
  },
  {
   "cell_type": "code",
   "execution_count": null,
   "metadata": {},
   "outputs": [],
   "source": [
    "cd data_solomon"
   ]
  },
  {
   "cell_type": "code",
   "execution_count": null,
   "metadata": {},
   "outputs": [],
   "source": [
    "generate_csv('A50.csv', 50)"
   ]
  }
 ],
 "metadata": {
  "kernelspec": {
   "display_name": "Python 3 (ipykernel)",
   "language": "python",
   "name": "python3"
  },
  "language_info": {
   "codemirror_mode": {
    "name": "ipython",
    "version": 3
   },
   "file_extension": ".py",
   "mimetype": "text/x-python",
   "name": "python",
   "nbconvert_exporter": "python",
   "pygments_lexer": "ipython3",
   "version": "3.10.4"
  }
 },
 "nbformat": 4,
 "nbformat_minor": 4
}
