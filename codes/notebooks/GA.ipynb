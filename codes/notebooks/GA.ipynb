{
 "cells": [
  {
   "cell_type": "code",
   "execution_count": 2,
   "metadata": {},
   "outputs": [
    {
     "name": "stdout",
     "output_type": "stream",
     "text": [
      "The autoreload extension is already loaded. To reload it, use:\n",
      "  %reload_ext autoreload\n"
     ]
    }
   ],
   "source": [
    "import sys\n",
    "sys.path.append(\"../metaheuristics\") \n",
    "%load_ext autoreload\n",
    "%autoreload 1\n",
    "%aimport algorithme_genetique"
   ]
  },
  {
   "cell_type": "code",
   "execution_count": 3,
   "metadata": {},
   "outputs": [],
   "source": [
    "from algorithme_genetique import*"
   ]
  },
  {
   "cell_type": "code",
   "execution_count": 4,
   "metadata": {},
   "outputs": [],
   "source": [
    "vrptw = load_solomon('simple.csv', nb_cust=10, vehicle_speed=100)\n",
    "instance =init_vrpga(vrptw)\n",
    "best_solutions={}"
   ]
  },
  {
   "cell_type": "code",
   "execution_count": 81,
   "metadata": {},
   "outputs": [
    {
     "name": "stdout",
     "output_type": "stream",
     "text": [
      "[0, 5, 3, 0, 6, 10, 4, 0, 8, 0, 7, 9, 1, 0, 2, 0] -5620.84314940416\n"
     ]
    }
   ],
   "source": [
    "for i in range(40):\n",
    "    instance.evolution()\n",
    "print(instance.best_solution,instance.fitness(instance.best_solution))"
   ]
  },
  {
   "cell_type": "code",
   "execution_count": 82,
   "metadata": {},
   "outputs": [
    {
     "name": "stdout",
     "output_type": "stream",
     "text": [
      "[0, 5, 7, 3, 6, 4, 10, 1, 0, 8, 9, 2, 0] -2411.0398677072353\n",
      "[0, 5, 10, 6, 4, 1, 0, 3, 7, 8, 9, 2, 0] -2469.901798976494\n",
      "[0, 5, 7, 3, 10, 1, 0, 8, 6, 4, 9, 2, 0] -2425.6667036401786\n",
      "[0, 5, 2, 0, 7, 8, 9, 10, 6, 4, 0, 3, 1, 0] -3476.5467041758675\n",
      "[0, 7, 8, 9, 0, 3, 6, 4, 2, 10, 1, 0, 5, 0] -3425.4882803104597\n",
      "[0, 7, 8, 2, 0, 3, 6, 4, 9, 10, 1, 0, 5, 0] -3448.674311569822\n",
      "[0, 7, 8, 9, 0, 3, 6, 4, 2, 0, 5, 10, 1, 0] -3408.1942041989255\n",
      "[0, 7, 5, 10, 6, 0, 8, 4, 9, 2, 0, 3, 1, 0] -3545.15106935875\n",
      "[0, 3, 0, 10, 2, 0, 8, 4, 1, 0, 7, 0, 5, 9, 6, 0] -5611.996581961093\n",
      "[0, 2, 0, 5, 7, 8, 0, 3, 10, 6, 4, 9, 1, 0] -3477.4161590645153\n"
     ]
    }
   ],
   "source": [
    "for i in range(10):\n",
    "    for i in range(400):\n",
    "        instance.evolution()\n",
    "    print(instance.best_solution,instance.fitness(instance.best_solution))\n",
    "    best_solutions[str(instance.best_solution)]=instance.fitness(instance.best_solution)"
   ]
  },
  {
   "cell_type": "code",
   "execution_count": 76,
   "metadata": {},
   "outputs": [
    {
     "data": {
      "text/plain": [
       "{'[0, 5, 8, 7, 6, 4, 0, 3, 9, 2, 10, 1, 0]': -2507.0156371393223,\n",
       " '[0, 7, 8, 6, 4, 10, 9, 0, 3, 5, 1, 2, 0]': -2493.565753396381,\n",
       " '[0, 5, 8, 1, 0, 7, 9, 2, 0, 3, 0, 10, 6, 4, 0]': -4542.028143190721,\n",
       " '[0, 5, 10, 3, 6, 4, 0, 2, 1, 0, 9, 0, 8, 7, 0]': -4449.921700970464,\n",
       " '[0, 5, 10, 3, 4, 6, 1, 2, 0, 7, 8, 9, 0]': -2383.428459060622}"
      ]
     },
     "execution_count": 76,
     "metadata": {},
     "output_type": "execute_result"
    }
   ],
   "source": [
    "best_solutions"
   ]
  },
  {
   "cell_type": "code",
   "execution_count": 78,
   "metadata": {},
   "outputs": [
    {
     "name": "stdout",
     "output_type": "stream",
     "text": [
      "[0, 5, 10, 3, 4, 6, 1, 2, 0, 7, 8, 9, 0]\n"
     ]
    }
   ],
   "source": [
    "best_key = max(best_solutions, key=best_solutions.get)\n",
    "print(best_key)"
   ]
  },
  {
   "cell_type": "markdown",
   "metadata": {},
   "source": [
    "Best records:"
   ]
  },
  {
   "cell_type": "code",
   "execution_count": 83,
   "metadata": {},
   "outputs": [
    {
     "data": {
      "text/plain": [
       "[0, 5, 3, 7, 8, 9, 10, 6, 4, 2, 1, 0]"
      ]
     },
     "execution_count": 83,
     "metadata": {},
     "output_type": "execute_result"
    }
   ],
   "source": [
    "[0, 5, 3, 7, 8, 9, 10, 6, 4, 2, 1, 0]"
   ]
  },
  {
   "cell_type": "code",
   "execution_count": null,
   "metadata": {},
   "outputs": [],
   "source": []
  },
  {
   "cell_type": "markdown",
   "metadata": {},
   "source": [
    "DATA GENERATOR"
   ]
  },
  {
   "cell_type": "code",
   "execution_count": 5,
   "metadata": {},
   "outputs": [],
   "source": [
    "import random\n",
    "import numpy as np"
   ]
  },
  {
   "cell_type": "code",
   "execution_count": 26,
   "metadata": {},
   "outputs": [],
   "source": [
    "def generator_demand(low=8,high=42):\n",
    "    tmp=int(np.random.normal(20,10))\n",
    "    while(tmp<low or tmp>high):\n",
    "        tmp=int(np.random.normal(20,10))\n",
    "    return tmp"
   ]
  },
  {
   "cell_type": "code",
   "execution_count": 34,
   "metadata": {},
   "outputs": [],
   "source": [
    "def generator_time_window(right=1300,mid_during=400,f=200):\n",
    "    start=int(np.random.normal(450,f))\n",
    "    while(start>1050 or start<0):\n",
    "        start=int(np.random.normal(450,f))  \n",
    "    \n",
    "    during=int(np.random.normal(mid_during,f))\n",
    "    while(during<200):\n",
    "        during=int(np.random.normal(mid_during,f))  \n",
    "    end=min(start+during,right)\n",
    "\n",
    "    return start,end\n"
   ]
  },
  {
   "cell_type": "code",
   "execution_count": 56,
   "metadata": {},
   "outputs": [],
   "source": [
    "def generator():\n",
    "\n",
    "    return random.randint(0, 100),random.randint(0, 100),generator_demand(),generator_time_window(),90"
   ]
  },
  {
   "cell_type": "code",
   "execution_count": 57,
   "metadata": {},
   "outputs": [
    {
     "name": "stdout",
     "output_type": "stream",
     "text": [
      "77,10,19,169,662,90\n",
      "60,97,22,438,922,90\n",
      "69,14,36,617,1072,90\n",
      "11,24,9,762,1107,90\n",
      "79,42,28,541,887,90\n",
      "44,10,31,908,1300,90\n",
      "88,99,24,433,998,90\n",
      "71,9,29,454,893,90\n",
      "1,31,27,780,1148,90\n",
      "35,5,30,758,1091,90\n",
      "66,48,28,528,1207,90\n",
      "68,97,21,733,973,90\n",
      "13,2,8,714,1089,90\n",
      "77,18,23,161,492,90\n",
      "37,90,13,30,480,90\n",
      "56,91,13,543,859,90\n",
      "93,0,23,123,542,90\n",
      "52,52,35,153,526,90\n",
      "77,61,23,352,769,90\n",
      "67,41,37,501,1196,90\n",
      "18,9,25,313,720,90\n",
      "82,60,25,124,514,90\n",
      "69,21,16,398,830,90\n",
      "19,20,18,330,959,90\n",
      "85,48,33,434,1115,90\n",
      "72,76,27,562,888,90\n",
      "99,16,11,109,753,90\n",
      "57,65,16,517,1141,90\n",
      "65,13,22,520,1233,90\n",
      "64,44,38,391,618,90\n",
      "80,39,20,493,818,90\n",
      "63,44,26,110,628,90\n",
      "11,49,22,304,673,90\n",
      "83,84,24,625,1092,90\n",
      "4,97,19,492,1012,90\n",
      "24,38,26,938,1300,90\n",
      "25,98,12,516,855,90\n",
      "1,36,11,706,1300,90\n",
      "69,100,15,1,260,90\n",
      "99,82,19,353,781,90\n",
      "90,78,32,392,1020,90\n"
     ]
    }
   ],
   "source": [
    "for i in range(41):\n",
    "    print((str(generator())).replace(' ','').replace('(','').replace(')',''))"
   ]
  },
  {
   "cell_type": "code",
   "execution_count": 49,
   "metadata": {},
   "outputs": [
    {
     "name": "stdout",
     "output_type": "stream",
     "text": [
      "0\n",
      "1\n",
      "2\n",
      "3\n",
      "4\n",
      "5\n",
      "6\n",
      "7\n",
      "8\n",
      "9\n",
      "10\n",
      "11\n",
      "12\n",
      "13\n",
      "14\n",
      "15\n",
      "16\n",
      "17\n",
      "18\n",
      "19\n"
     ]
    }
   ],
   "source": [
    "for i in range(20):\n",
    "    print(str(i))"
   ]
  },
  {
   "cell_type": "code",
   "execution_count": 23,
   "metadata": {},
   "outputs": [
    {
     "name": "stdout",
     "output_type": "stream",
     "text": [
      "36\n",
      "7\n",
      "16\n",
      "32\n",
      "22\n",
      "1\n",
      "7\n",
      "33\n",
      "21\n",
      "6\n",
      "14\n",
      "23\n",
      "14\n",
      "5\n",
      "16\n",
      "21\n",
      "20\n",
      "8\n",
      "19\n",
      "14\n"
     ]
    }
   ],
   "source": [
    "for _ in range(20):\n",
    "    print(int(np.random.normal(20,10)))"
   ]
  },
  {
   "cell_type": "code",
   "execution_count": null,
   "metadata": {},
   "outputs": [],
   "source": []
  }
 ],
 "metadata": {
  "kernelspec": {
   "display_name": "Python 3 (ipykernel)",
   "language": "python",
   "name": "python3"
  },
  "language_info": {
   "codemirror_mode": {
    "name": "ipython",
    "version": 3
   },
   "file_extension": ".py",
   "mimetype": "text/x-python",
   "name": "python",
   "nbconvert_exporter": "python",
   "pygments_lexer": "ipython3",
   "version": "3.10.2"
  }
 },
 "nbformat": 4,
 "nbformat_minor": 2
}
