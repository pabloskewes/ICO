{
 "cells": [
  {
   "cell_type": "code",
   "execution_count": 2,
   "metadata": {},
   "outputs": [],
   "source": [
    "import sys\n",
    "sys.path.append(\"../metaheuristics\") \n",
    "%load_ext autoreload\n",
    "%autoreload 1\n",
    "# %aimport algorithme_genetique\n",
    "%aimport simulated_annealing"
   ]
  },
  {
   "cell_type": "code",
   "execution_count": 3,
   "metadata": {},
   "outputs": [],
   "source": [
    "# from algorithme_genetique import*\n",
    "from simulated_annealing import*"
   ]
  },
  {
   "cell_type": "code",
   "execution_count": 4,
   "metadata": {},
   "outputs": [],
   "source": [
    "sa=SimulatedAnnealing()"
   ]
  },
  {
   "cell_type": "code",
   "execution_count": 5,
   "metadata": {},
   "outputs": [
    {
     "ename": "AttributeError",
     "evalue": "'NoneType' object has no attribute 'initial_solution'",
     "output_type": "error",
     "traceback": [
      "\u001b[1;31m---------------------------------------------------------------------------\u001b[0m",
      "\u001b[1;31mAttributeError\u001b[0m                            Traceback (most recent call last)",
      "\u001b[1;32md:\\Git\\dir\\ICO\\codes\\notebooks\\GA.ipynb Cell 4'\u001b[0m in \u001b[0;36m<cell line: 1>\u001b[1;34m()\u001b[0m\n\u001b[1;32m----> <a href='vscode-notebook-cell:/d%3A/Git/dir/ICO/codes/notebooks/GA.ipynb#ch0000024?line=0'>1</a>\u001b[0m sa\u001b[39m.\u001b[39;49msearch()\n",
      "File \u001b[1;32md:\\Git\\dir\\ICO\\codes\\notebooks\\../metaheuristics\\simulated_annealing.py:23\u001b[0m, in \u001b[0;36mSimulatedAnnealing.search\u001b[1;34m(self)\u001b[0m\n\u001b[0;32m     <a href='file:///d%3A/Git/dir/ICO/codes/notebooks/../metaheuristics/simulated_annealing.py?line=19'>20</a>\u001b[0m \u001b[39mdef\u001b[39;00m \u001b[39msearch\u001b[39m(\u001b[39mself\u001b[39m) \u001b[39m-\u001b[39m\u001b[39m>\u001b[39m Solution:\n\u001b[0;32m     <a href='file:///d%3A/Git/dir/ICO/codes/notebooks/../metaheuristics/simulated_annealing.py?line=20'>21</a>\u001b[0m     \u001b[39m# initial setup\u001b[39;00m\n\u001b[0;32m     <a href='file:///d%3A/Git/dir/ICO/codes/notebooks/../metaheuristics/simulated_annealing.py?line=21'>22</a>\u001b[0m     _, N, _ \u001b[39m=\u001b[39m \u001b[39mself\u001b[39m\u001b[39m.\u001b[39mget_problem_components()\n\u001b[1;32m---> <a href='file:///d%3A/Git/dir/ICO/codes/notebooks/../metaheuristics/simulated_annealing.py?line=22'>23</a>\u001b[0m     init_sol \u001b[39m=\u001b[39m N\u001b[39m.\u001b[39;49minitial_solution()\n\u001b[0;32m     <a href='file:///d%3A/Git/dir/ICO/codes/notebooks/../metaheuristics/simulated_annealing.py?line=23'>24</a>\u001b[0m     best_sol \u001b[39m=\u001b[39m init_sol\n\u001b[0;32m     <a href='file:///d%3A/Git/dir/ICO/codes/notebooks/../metaheuristics/simulated_annealing.py?line=24'>25</a>\u001b[0m     \u001b[39mself\u001b[39m\u001b[39m.\u001b[39mevolution_best_solution\u001b[39m.\u001b[39mappend(best_sol\u001b[39m.\u001b[39mcost())\n",
      "\u001b[1;31mAttributeError\u001b[0m: 'NoneType' object has no attribute 'initial_solution'"
     ]
    }
   ],
   "source": [
    "sa.search()"
   ]
  },
  {
   "cell_type": "code",
   "execution_count": null,
   "metadata": {},
   "outputs": [],
   "source": [
    "vrptw = load_solomon('simple.csv', nb_cust=10, vehicle_speed=100)\n",
    "instance =init_vrpga(vrptw)\n",
    "best_solutions={}"
   ]
  },
  {
   "cell_type": "code",
   "execution_count": null,
   "metadata": {},
   "outputs": [],
   "source": [
    "for i in range(40):\n",
    "    instance.evolution()\n",
    "print(instance.best_solution,instance.fitness(instance.best_solution))"
   ]
  },
  {
   "cell_type": "code",
   "execution_count": null,
   "metadata": {},
   "outputs": [],
   "source": [
    "for i in range(10):\n",
    "    for i in range(400):\n",
    "        instance.evolution()\n",
    "    print(instance.best_solution,instance.fitness(instance.best_solution))\n",
    "    best_solutions[str(instance.best_solution)]=instance.fitness(instance.best_solution)"
   ]
  },
  {
   "cell_type": "code",
   "execution_count": null,
   "metadata": {},
   "outputs": [],
   "source": [
    "best_key = max(best_solutions, key=best_solutions.get)\n",
    "print(best_key)"
   ]
  },
  {
   "cell_type": "markdown",
   "metadata": {},
   "source": [
    "«Best records»"
   ]
  },
  {
   "cell_type": "code",
   "execution_count": null,
   "metadata": {},
   "outputs": [],
   "source": [
    "[0, 5, 3, 7, 8, 9, 10, 6, 4, 2, 1, 0]"
   ]
  },
  {
   "cell_type": "markdown",
   "metadata": {},
   "source": [
    "DATA GENERATOR"
   ]
  },
  {
   "cell_type": "code",
   "execution_count": null,
   "metadata": {},
   "outputs": [],
   "source": [
    "import random\n",
    "import numpy as np"
   ]
  },
  {
   "cell_type": "code",
   "execution_count": null,
   "metadata": {},
   "outputs": [],
   "source": [
    "def generator_demand(low=8,high=42):\n",
    "    tmp=int(np.random.normal(20,10))\n",
    "    while(tmp<low or tmp>high):\n",
    "        tmp=int(np.random.normal(20,10))\n",
    "    return tmp\n",
    "\n",
    "def generator_time_window(right=1300,avr_during=400,sigma_start=150,sigma_during=13):\n",
    "    variance_start=sigma_start*sigma_start\n",
    "    variance_during=sigma_during*sigma_during\n",
    "    start=int(np.random.normal(450,variance_start))\n",
    "    while(start>1050 or start<0):\n",
    "        start=int(np.random.normal(450,variance_start))  \n",
    "    \n",
    "    during=int(np.random.normal(avr_during,variance_during))\n",
    "    while(during<120):\n",
    "        during=int(np.random.normal(avr_during,variance_during))  \n",
    "    end=min(start+during,right)\n",
    "    return start,end\n",
    "\n",
    "def generator_datum():\n",
    "    return random.randint(0, 100),random.randint(0, 100),generator_demand(),generator_time_window(),90\n",
    "\n",
    "def generator_data(id_start,id_end):\n",
    "    for i in range(id_start,id_end+1):\n",
    "        print(f'{i},'+(str(generator_datum())).replace(' ','').replace('(','').replace(')','')+',')"
   ]
  },
  {
   "cell_type": "code",
   "execution_count": null,
   "metadata": {},
   "outputs": [],
   "source": [
    "generator_data(1,40)"
   ]
  },
  {
   "cell_type": "code",
   "execution_count": null,
   "metadata": {},
   "outputs": [],
   "source": []
  }
 ],
 "metadata": {
  "kernelspec": {
   "display_name": "Python 3 (ipykernel)",
   "language": "python",
   "name": "python3"
  },
  "language_info": {
   "codemirror_mode": {
    "name": "ipython",
    "version": 3
   },
   "file_extension": ".py",
   "mimetype": "text/x-python",
   "name": "python",
   "nbconvert_exporter": "python",
   "pygments_lexer": "ipython3",
   "version": "3.10.2"
  }
 },
 "nbformat": 4,
 "nbformat_minor": 2
}
