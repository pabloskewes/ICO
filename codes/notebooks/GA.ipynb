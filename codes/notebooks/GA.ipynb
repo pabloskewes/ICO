{
 "cells": [
  {
   "cell_type": "code",
   "execution_count": null,
   "metadata": {},
   "outputs": [],
   "source": [
    "# %load_ext autoreload\n",
    "# %autoreload 1\n",
    "# %aimport metaheuristics.algorithme_genetique"
   ]
  },
  {
   "cell_type": "code",
   "execution_count": 1,
   "metadata": {},
   "outputs": [
    {
     "name": "stdout",
     "output_type": "stream",
     "text": [
      "d:\\Git\\dir\\ICO\\codes\n"
     ]
    }
   ],
   "source": [
    "cd .."
   ]
  },
  {
   "cell_type": "code",
   "execution_count": 2,
   "metadata": {},
   "outputs": [],
   "source": [
    "from metaheuristics.algorithme_genetique import*\n",
    "from metaheuristics.base_problem import *\n",
    "from loading_models import *\n",
    "from vrptw import VRPTW"
   ]
  },
  {
   "cell_type": "code",
   "execution_count": 3,
   "metadata": {},
   "outputs": [],
   "source": [
    "context = load_solomon('simple.csv', nb_cust=10, vehicle_speed=100)\n",
    "# context = create_vrptw(CUSTOMER_DIR, DEPOTS_DIR, VEHICLES_DIR, DEPOTS_DISTANCES_DIR, CUSTOMER_DISTANCES_DIR, 2958047, MODE_VEHICLE=\"mean\", vehicle_code=None)\n",
    "vrptw = VRPTW(context)"
   ]
  },
  {
   "cell_type": "code",
   "execution_count": null,
   "metadata": {},
   "outputs": [],
   "source": [
    "import time"
   ]
  },
  {
   "cell_type": "code",
   "execution_count": 11,
   "metadata": {},
   "outputs": [
    {
     "ename": "KeyboardInterrupt",
     "evalue": "",
     "output_type": "error",
     "traceback": [
      "\u001b[1;31m---------------------------------------------------------------------------\u001b[0m",
      "\u001b[1;31mKeyboardInterrupt\u001b[0m                         Traceback (most recent call last)",
      "\u001b[1;32md:\\Git\\dir\\ICO\\codes\\notebooks\\GA.ipynb Cell 6'\u001b[0m in \u001b[0;36m<cell line: 12>\u001b[1;34m()\u001b[0m\n\u001b[0;32m      <a href='vscode-notebook-cell:/d%3A/Git/dir/ICO/codes/notebooks/GA.ipynb#ch0000044?line=1'>2</a>\u001b[0m neighborhood_params\u001b[39m=\u001b[39m{   \u001b[39m'\u001b[39m\u001b[39mverbose\u001b[39m\u001b[39m'\u001b[39m:\u001b[39m0\u001b[39m,\n\u001b[0;32m      <a href='vscode-notebook-cell:/d%3A/Git/dir/ICO/codes/notebooks/GA.ipynb#ch0000044?line=2'>3</a>\u001b[0m                         \u001b[39m'\u001b[39m\u001b[39minit_sol\u001b[39m\u001b[39m'\u001b[39m:\u001b[39m'\u001b[39m\u001b[39mrandom\u001b[39m\u001b[39m'\u001b[39m,\n\u001b[0;32m      <a href='vscode-notebook-cell:/d%3A/Git/dir/ICO/codes/notebooks/GA.ipynb#ch0000044?line=3'>4</a>\u001b[0m                         \u001b[39m'\u001b[39m\u001b[39mchoose_mode\u001b[39m\u001b[39m'\u001b[39m:\u001b[39m'\u001b[39m\u001b[39mrandom\u001b[39m\u001b[39m'\u001b[39m,\n\u001b[1;32m   (...)\u001b[0m\n\u001b[0;32m      <a href='vscode-notebook-cell:/d%3A/Git/dir/ICO/codes/notebooks/GA.ipynb#ch0000044?line=8'>9</a>\u001b[0m                         \u001b[39m'\u001b[39m\u001b[39mfull_search\u001b[39m\u001b[39m'\u001b[39m:\u001b[39mFalse\u001b[39;00m\n\u001b[0;32m     <a href='vscode-notebook-cell:/d%3A/Git/dir/ICO/codes/notebooks/GA.ipynb#ch0000044?line=9'>10</a>\u001b[0m                     }\n\u001b[0;32m     <a href='vscode-notebook-cell:/d%3A/Git/dir/ICO/codes/notebooks/GA.ipynb#ch0000044?line=10'>11</a>\u001b[0m instance \u001b[39m=\u001b[39mGeneticAlgorithm(num_evolu_per_search\u001b[39m=\u001b[39m\u001b[39m1\u001b[39m,neighborhood_params\u001b[39m=\u001b[39mneighborhood_params,reproductive_isolation\u001b[39m=\u001b[39m\u001b[39mTrue\u001b[39;00m,best_seed\u001b[39m=\u001b[39m\u001b[39mTrue\u001b[39;00m)\n\u001b[1;32m---> <a href='vscode-notebook-cell:/d%3A/Git/dir/ICO/codes/notebooks/GA.ipynb#ch0000044?line=11'>12</a>\u001b[0m instance\u001b[39m.\u001b[39;49mfit_search(vrptw)\n\u001b[0;32m     <a href='vscode-notebook-cell:/d%3A/Git/dir/ICO/codes/notebooks/GA.ipynb#ch0000044?line=13'>14</a>\u001b[0m \u001b[39mfor\u001b[39;00m _ \u001b[39min\u001b[39;00m \u001b[39mrange\u001b[39m(\u001b[39m100\u001b[39m):\n\u001b[0;32m     <a href='vscode-notebook-cell:/d%3A/Git/dir/ICO/codes/notebooks/GA.ipynb#ch0000044?line=14'>15</a>\u001b[0m     start\u001b[39m=\u001b[39mtime\u001b[39m.\u001b[39mtime()\n",
      "File \u001b[1;32md:\\Git\\dir\\ICO\\codes\\metaheuristics\\base_metaheuristic.py:44\u001b[0m, in \u001b[0;36mBaseMetaheuristic.fit_search\u001b[1;34m(self, problem)\u001b[0m\n\u001b[0;32m     <a href='file:///d%3A/Git/dir/ICO/codes/metaheuristics/base_metaheuristic.py?line=41'>42</a>\u001b[0m \u001b[39mdef\u001b[39;00m \u001b[39mfit_search\u001b[39m(\u001b[39mself\u001b[39m, problem: Problem):\n\u001b[0;32m     <a href='file:///d%3A/Git/dir/ICO/codes/metaheuristics/base_metaheuristic.py?line=42'>43</a>\u001b[0m     \u001b[39m\"\"\" Fits and search \"\"\"\u001b[39;00m\n\u001b[1;32m---> <a href='file:///d%3A/Git/dir/ICO/codes/metaheuristics/base_metaheuristic.py?line=43'>44</a>\u001b[0m     \u001b[39mreturn\u001b[39;00m \u001b[39mself\u001b[39;49m\u001b[39m.\u001b[39;49mfit(problem)\u001b[39m.\u001b[39;49msearch()\n",
      "File \u001b[1;32md:\\Git\\dir\\ICO\\codes\\metaheuristics\\algorithme_genetique.py:74\u001b[0m, in \u001b[0;36mGeneticAlgorithm.search\u001b[1;34m(self)\u001b[0m\n\u001b[0;32m     <a href='file:///d%3A/Git/dir/ICO/codes/metaheuristics/algorithme_genetique.py?line=71'>72</a>\u001b[0m iterator \u001b[39m=\u001b[39m tqdm(\u001b[39mrange\u001b[39m(\u001b[39mself\u001b[39m\u001b[39m.\u001b[39mnum_evolu_per_search)) \u001b[39mif\u001b[39;00m \u001b[39mself\u001b[39m\u001b[39m.\u001b[39mprogress_bar \u001b[39melse\u001b[39;00m \u001b[39mrange\u001b[39m(\u001b[39mself\u001b[39m\u001b[39m.\u001b[39mnum_evolu_per_search)\n\u001b[0;32m     <a href='file:///d%3A/Git/dir/ICO/codes/metaheuristics/algorithme_genetique.py?line=72'>73</a>\u001b[0m \u001b[39mfor\u001b[39;00m _ \u001b[39min\u001b[39;00m iterator:\n\u001b[1;32m---> <a href='file:///d%3A/Git/dir/ICO/codes/metaheuristics/algorithme_genetique.py?line=73'>74</a>\u001b[0m     \u001b[39mself\u001b[39;49m\u001b[39m.\u001b[39;49m__evolution()\n\u001b[0;32m     <a href='file:///d%3A/Git/dir/ICO/codes/metaheuristics/algorithme_genetique.py?line=75'>76</a>\u001b[0m \u001b[39mself\u001b[39m\u001b[39m.\u001b[39mevolution_best_solution\u001b[39m.\u001b[39mappend(\u001b[39m-\u001b[39m\u001b[39mself\u001b[39m\u001b[39m.\u001b[39m__fitness(\u001b[39mself\u001b[39m\u001b[39m.\u001b[39mbest_solution))\n\u001b[0;32m     <a href='file:///d%3A/Git/dir/ICO/codes/metaheuristics/algorithme_genetique.py?line=76'>77</a>\u001b[0m \u001b[39mself\u001b[39m\u001b[39m.\u001b[39mevolution_explored_solutions \u001b[39m=\u001b[39m \u001b[39mself\u001b[39m\u001b[39m.\u001b[39mevolution_explored_solutions[:\u001b[39mlen\u001b[39m(\u001b[39mself\u001b[39m\u001b[39m.\u001b[39mevolution_best_solution)]\n",
      "File \u001b[1;32md:\\Git\\dir\\ICO\\codes\\metaheuristics\\algorithme_genetique.py:185\u001b[0m, in \u001b[0;36mGeneticAlgorithm.__evolution\u001b[1;34m(self)\u001b[0m\n\u001b[0;32m    <a href='file:///d%3A/Git/dir/ICO/codes/metaheuristics/algorithme_genetique.py?line=182'>183</a>\u001b[0m __pop_crossover(\u001b[39mself\u001b[39m, parents)\n\u001b[0;32m    <a href='file:///d%3A/Git/dir/ICO/codes/metaheuristics/algorithme_genetique.py?line=183'>184</a>\u001b[0m __pop_mutation(\u001b[39mself\u001b[39m)\n\u001b[1;32m--> <a href='file:///d%3A/Git/dir/ICO/codes/metaheuristics/algorithme_genetique.py?line=184'>185</a>\u001b[0m __eliminate(\u001b[39mself\u001b[39;49m)\n\u001b[0;32m    <a href='file:///d%3A/Git/dir/ICO/codes/metaheuristics/algorithme_genetique.py?line=185'>186</a>\u001b[0m __regeneration(\u001b[39mself\u001b[39m)\n",
      "File \u001b[1;32md:\\Git\\dir\\ICO\\codes\\metaheuristics\\algorithme_genetique.py:159\u001b[0m, in \u001b[0;36mGeneticAlgorithm.__evolution.<locals>.__eliminate\u001b[1;34m(self)\u001b[0m\n\u001b[0;32m    <a href='file:///d%3A/Git/dir/ICO/codes/metaheuristics/algorithme_genetique.py?line=156'>157</a>\u001b[0m \u001b[39mwhile\u001b[39;00m (\u001b[39mlen\u001b[39m(\u001b[39mself\u001b[39m\u001b[39m.\u001b[39mpopulation) \u001b[39m>\u001b[39m \u001b[39mself\u001b[39m\u001b[39m.\u001b[39mnum_population):\n\u001b[0;32m    <a href='file:///d%3A/Git/dir/ICO/codes/metaheuristics/algorithme_genetique.py?line=157'>158</a>\u001b[0m     \u001b[39mfor\u001b[39;00m chromosome \u001b[39min\u001b[39;00m \u001b[39mself\u001b[39m\u001b[39m.\u001b[39mpopulation:\n\u001b[1;32m--> <a href='file:///d%3A/Git/dir/ICO/codes/metaheuristics/algorithme_genetique.py?line=158'>159</a>\u001b[0m         \u001b[39mif\u001b[39;00m \u001b[39mself\u001b[39;49m\u001b[39m.\u001b[39;49m__fitness(chromosome) \u001b[39m<\u001b[39m\u001b[39m=\u001b[39m critere:\n\u001b[0;32m    <a href='file:///d%3A/Git/dir/ICO/codes/metaheuristics/algorithme_genetique.py?line=159'>160</a>\u001b[0m             \u001b[39mself\u001b[39m\u001b[39m.\u001b[39mpopulation\u001b[39m.\u001b[39mremove(chromosome)\n",
      "File \u001b[1;32md:\\Git\\dir\\ICO\\codes\\metaheuristics\\algorithme_genetique.py:82\u001b[0m, in \u001b[0;36mGeneticAlgorithm.__fitness\u001b[1;34m(self, solution)\u001b[0m\n\u001b[0;32m     <a href='file:///d%3A/Git/dir/ICO/codes/metaheuristics/algorithme_genetique.py?line=79'>80</a>\u001b[0m \u001b[39mdef\u001b[39;00m \u001b[39m__fitness\u001b[39m(\u001b[39mself\u001b[39m, solution):\n\u001b[1;32m---> <a href='file:///d%3A/Git/dir/ICO/codes/metaheuristics/algorithme_genetique.py?line=81'>82</a>\u001b[0m     \u001b[39mreturn\u001b[39;00m \u001b[39m-\u001b[39msolution\u001b[39m.\u001b[39;49mcost()\n",
      "File \u001b[1;32md:\\Git\\dir\\ICO\\codes\\solution.py:83\u001b[0m, in \u001b[0;36mVRPTWSolution.cost\u001b[1;34m(self)\u001b[0m\n\u001b[0;32m     <a href='file:///d%3A/Git/dir/ICO/codes/solution.py?line=80'>81</a>\u001b[0m \u001b[39mfor\u001b[39;00m route \u001b[39min\u001b[39;00m \u001b[39mself\u001b[39m\u001b[39m.\u001b[39mroutes:\n\u001b[0;32m     <a href='file:///d%3A/Git/dir/ICO/codes/solution.py?line=81'>82</a>\u001b[0m     \u001b[39mfor\u001b[39;00m i \u001b[39min\u001b[39;00m \u001b[39mrange\u001b[39m(\u001b[39mlen\u001b[39m(route) \u001b[39m-\u001b[39m \u001b[39m1\u001b[39m):\n\u001b[1;32m---> <a href='file:///d%3A/Git/dir/ICO/codes/solution.py?line=82'>83</a>\u001b[0m         route_length \u001b[39m+\u001b[39m\u001b[39m=\u001b[39m distance_matrix[route[i], route[i \u001b[39m+\u001b[39m \u001b[39m1\u001b[39m]]\n\u001b[0;32m     <a href='file:///d%3A/Git/dir/ICO/codes/solution.py?line=84'>85</a>\u001b[0m \u001b[39m# total cost calculation\u001b[39;00m\n\u001b[0;32m     <a href='file:///d%3A/Git/dir/ICO/codes/solution.py?line=85'>86</a>\u001b[0m total_cost \u001b[39m=\u001b[39m \u001b[39mself\u001b[39m\u001b[39m.\u001b[39momega \u001b[39m*\u001b[39m nb_vehicle \u001b[39m+\u001b[39m cost_km \u001b[39m*\u001b[39m route_length\n",
      "\u001b[1;31mKeyboardInterrupt\u001b[0m: "
     ]
    }
   ],
   "source": [
    "cri=True\n",
    "neighborhood_params={   'verbose':0,\n",
    "                        'init_sol':'random',\n",
    "                        'choose_mode':'random',\n",
    "                        'use_methods' : ['intra_route_swap',\n",
    "                            'intra_route_shift',\n",
    "                            'two_intra_route_swap', 'two_intra_route_shift'],\n",
    "                        'force_new_sol': False,         \n",
    "                        'full_search':False\n",
    "                    }\n",
    "instance =GeneticAlgorithm(num_evolu_per_search=1,neighborhood_params=neighborhood_params,reproductive_isolation=True,best_seed=True)\n",
    "instance.fit_search(vrptw)\n",
    "\n",
    "for _ in range(100):\n",
    "    start=time.time()\n",
    "    instance.search()\n",
    "    print(\"time spent:\",time.time()-start)\n",
    "    cri=cri and instance.best_solution.checker()\n",
    "print(cri)\n",
    "# instance.plot_evolution_cost()"
   ]
  },
  {
   "cell_type": "markdown",
   "metadata": {},
   "source": [
    "Concept of Nation"
   ]
  },
  {
   "cell_type": "code",
   "execution_count": null,
   "metadata": {},
   "outputs": [],
   "source": [
    "context = load_solomon('simple.csv', nb_cust=10, vehicle_speed=100)\n",
    "# context = create_vrptw(CUSTOMER_DIR, DEPOTS_DIR, VEHICLES_DIR, DEPOTS_DISTANCES_DIR, CUSTOMER_DISTANCES_DIR, 2958047, MODE_VEHICLE=\"mean\", vehicle_code=None)\n",
    "\n",
    "vrptw = VRPTW(context)\n",
    "neighborhood_params={   'verbose':1,\n",
    "                        'init_sol':'random',\n",
    "                        'choose_mode':'random',\n",
    "                        'force_new_sol': False,         \n",
    "                        'full_search':True\n",
    "                    }\n",
    "instance =GeneticAlgorithm(num_evolu_per_search=1,neighborhood_params=neighborhood_params,reproductive_isolation=True,best_seed=True)\n",
    "instance.fit_search(vrptw)\n",
    "\n",
    "for _ in range(10):\n",
    "    instance.search()\n",
    "    print(instance.best_solution.checker())\n",
    "instance.plot_evolution_cost()"
   ]
  },
  {
   "cell_type": "code",
   "execution_count": null,
   "metadata": {},
   "outputs": [],
   "source": [
    "instance.problem.context.distances.shape"
   ]
  },
  {
   "cell_type": "code",
   "execution_count": null,
   "metadata": {},
   "outputs": [],
   "source": [
    "instance.best_solution.checker()"
   ]
  },
  {
   "cell_type": "code",
   "execution_count": null,
   "metadata": {},
   "outputs": [],
   "source": [
    "instance.best_solution"
   ]
  },
  {
   "cell_type": "markdown",
   "metadata": {},
   "source": [
    "reproductive_isolation=False,best_seed=False"
   ]
  },
  {
   "cell_type": "code",
   "execution_count": null,
   "metadata": {},
   "outputs": [],
   "source": [
    "instance.evolution_best_solution"
   ]
  },
  {
   "cell_type": "markdown",
   "metadata": {},
   "source": [
    "reproductive_isolation=False,best_seed=True"
   ]
  },
  {
   "cell_type": "code",
   "execution_count": null,
   "metadata": {},
   "outputs": [],
   "source": [
    "instance.evolution_best_solution"
   ]
  },
  {
   "cell_type": "markdown",
   "metadata": {},
   "source": [
    "reproductive_isolation=True,best_seed=False"
   ]
  },
  {
   "cell_type": "code",
   "execution_count": null,
   "metadata": {},
   "outputs": [],
   "source": [
    "instance.evolution_best_solution "
   ]
  },
  {
   "cell_type": "markdown",
   "metadata": {},
   "source": [
    "reproductive_isolation=True,best_seed=True"
   ]
  },
  {
   "cell_type": "code",
   "execution_count": null,
   "metadata": {},
   "outputs": [],
   "source": [
    "instance.evolution_best_solution "
   ]
  },
  {
   "cell_type": "markdown",
   "metadata": {},
   "source": [
    "Exemple with load_solomon"
   ]
  },
  {
   "cell_type": "code",
   "execution_count": null,
   "metadata": {},
   "outputs": [],
   "source": [
    "for _ in range(1):\n",
    "    context = load_solomon('simple.csv', nb_cust=10, vehicle_speed=100)\n",
    "\n",
    "# for route_id in customers['ROUTE_ID'].unique():\n",
    "#     context = create_vrptw(CUSTOMER_DIR, DEPOTS_DIR, VEHICLES_DIR, DEPOTS_DISTANCES_DIR, CUSTOMER_DISTANCES_DIR, 2958047, MODE_VEHICLE=\"mean\", vehicle_code=None)\n",
    "   \n",
    "    vrptw = VRPTW(context)\n",
    "    neighborhood_params={   'verbose':0,\n",
    "                            'init_sol':'random',\n",
    "                            'choose_mode':'random',\n",
    "                            'force_new_sol': True         \n",
    "                        }\n",
    "    instance =GeneticAlgorithm(num_evolu_per_search=10,neighborhood_params=neighborhood_params)\n",
    "    instance.fit_search(vrptw)\n",
    "\n",
    "    for _ in range(10):\n",
    "        instance.search()\n",
    "    instance.plot_evolution_cost()"
   ]
  },
  {
   "cell_type": "markdown",
   "metadata": {},
   "source": [
    "DATA GENERATOR"
   ]
  },
  {
   "cell_type": "code",
   "execution_count": null,
   "metadata": {},
   "outputs": [],
   "source": [
    "import random\n",
    "import numpy as np\n",
    "import pandas as pd"
   ]
  },
  {
   "cell_type": "code",
   "execution_count": null,
   "metadata": {},
   "outputs": [],
   "source": [
    "def generator_demand(low=8,high=42):\n",
    "    tmp=int(np.random.normal(20,10))\n",
    "    while(tmp<low or tmp>high):\n",
    "        tmp=int(np.random.normal(20,10))\n",
    "    return tmp\n",
    "\n",
    "def generator_time_window(right=1300,avr_during=400,sigma_start=150,sigma_during=13):\n",
    "    variance_start=sigma_start*sigma_start\n",
    "    variance_during=sigma_during*sigma_during\n",
    "    start=int(np.random.normal(450,variance_start))\n",
    "    while(start>1050 or start<0):\n",
    "        start=int(np.random.normal(450,variance_start))  \n",
    "    \n",
    "    during=int(np.random.normal(avr_during,variance_during))\n",
    "    while(during<120):\n",
    "        during=int(np.random.normal(avr_during,variance_during))  \n",
    "    end=min(start+during,right)\n",
    "    return start,end\n",
    "\n",
    "def generator_datum():\n",
    "    time_window = generator_time_window(1440, 650)\n",
    "    start_time, end_time = time_window\n",
    "    return random.randint(0, 100),random.randint(0, 100),generator_demand(),start_time,end_time,int(np.random.normal(80,3))\n",
    "\n",
    "def generator_data(id_start,id_end):\n",
    "    for i in range(id_start,id_end+1):\n",
    "        print(f'{i},'+(str(generator_datum())).replace(' ','').replace('(','').replace(')','')+',')"
   ]
  },
  {
   "cell_type": "code",
   "execution_count": null,
   "metadata": {},
   "outputs": [],
   "source": [
    "def generate_dataframe(n_customers=10):\n",
    "    columns = ['CUSTNO', 'XCOORD', 'YCOORD', 'DEMAND', 'READYTIME', 'DUETIME', 'SERVICETIME']\n",
    "    df = pd.DataFrame(data=([i]+list(generator_datum()) for i in range(1, n_customers+1)), columns=columns)\n",
    "    df['CAPACITY'] = 200\n",
    "    return df\n",
    "\n",
    "def generate_csv(filename, n_customers):\n",
    "    df = generate_dataframe(n_customers)\n",
    "    df.to_csv(filename, index=False)    "
   ]
  },
  {
   "cell_type": "code",
   "execution_count": null,
   "metadata": {},
   "outputs": [],
   "source": [
    "cd data_solomon"
   ]
  },
  {
   "cell_type": "code",
   "execution_count": null,
   "metadata": {},
   "outputs": [],
   "source": [
    "generate_csv('A50.csv', 50)"
   ]
  }
 ],
 "metadata": {
  "kernelspec": {
   "display_name": "Python 3 (ipykernel)",
   "language": "python",
   "name": "python3"
  },
  "language_info": {
   "codemirror_mode": {
    "name": "ipython",
    "version": 3
   },
   "file_extension": ".py",
   "mimetype": "text/x-python",
   "name": "python",
   "nbconvert_exporter": "python",
   "pygments_lexer": "ipython3",
   "version": "3.10.2"
  }
 },
 "nbformat": 4,
 "nbformat_minor": 4
}
