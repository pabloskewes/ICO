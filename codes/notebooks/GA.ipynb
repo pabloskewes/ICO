{
 "cells": [
  {
   "cell_type": "code",
   "execution_count": 2,
   "metadata": {},
   "outputs": [
    {
     "name": "stdout",
     "output_type": "stream",
     "text": [
      "The autoreload extension is already loaded. To reload it, use:\n",
      "  %reload_ext autoreload\n"
     ]
    }
   ],
   "source": [
    "import sys\n",
    "sys.path.append(\"../metaheuristics\") \n",
    "%load_ext autoreload\n",
    "%autoreload 1\n",
    "%aimport algorithme_genetique"
   ]
  },
  {
   "cell_type": "code",
   "execution_count": 3,
   "metadata": {},
   "outputs": [],
   "source": [
    "from algorithme_genetique import*"
   ]
  },
  {
   "cell_type": "code",
   "execution_count": 4,
   "metadata": {},
   "outputs": [],
   "source": [
    "vrptw = load_solomon('simple.csv', nb_cust=10, vehicle_speed=100)\n",
    "instance =init_vrpga(vrptw)\n",
    "best_solutions={}"
   ]
  },
  {
   "cell_type": "code",
   "execution_count": 81,
   "metadata": {},
   "outputs": [
    {
     "name": "stdout",
     "output_type": "stream",
     "text": [
      "[0, 5, 3, 0, 6, 10, 4, 0, 8, 0, 7, 9, 1, 0, 2, 0] -5620.84314940416\n"
     ]
    }
   ],
   "source": [
    "for i in range(40):\n",
    "    instance.evolution()\n",
    "print(instance.best_solution,instance.fitness(instance.best_solution))"
   ]
  },
  {
   "cell_type": "code",
   "execution_count": 82,
   "metadata": {},
   "outputs": [
    {
     "name": "stdout",
     "output_type": "stream",
     "text": [
      "[0, 5, 7, 3, 6, 4, 10, 1, 0, 8, 9, 2, 0] -2411.0398677072353\n",
      "[0, 5, 10, 6, 4, 1, 0, 3, 7, 8, 9, 2, 0] -2469.901798976494\n",
      "[0, 5, 7, 3, 10, 1, 0, 8, 6, 4, 9, 2, 0] -2425.6667036401786\n",
      "[0, 5, 2, 0, 7, 8, 9, 10, 6, 4, 0, 3, 1, 0] -3476.5467041758675\n",
      "[0, 7, 8, 9, 0, 3, 6, 4, 2, 10, 1, 0, 5, 0] -3425.4882803104597\n",
      "[0, 7, 8, 2, 0, 3, 6, 4, 9, 10, 1, 0, 5, 0] -3448.674311569822\n",
      "[0, 7, 8, 9, 0, 3, 6, 4, 2, 0, 5, 10, 1, 0] -3408.1942041989255\n",
      "[0, 7, 5, 10, 6, 0, 8, 4, 9, 2, 0, 3, 1, 0] -3545.15106935875\n",
      "[0, 3, 0, 10, 2, 0, 8, 4, 1, 0, 7, 0, 5, 9, 6, 0] -5611.996581961093\n",
      "[0, 2, 0, 5, 7, 8, 0, 3, 10, 6, 4, 9, 1, 0] -3477.4161590645153\n"
     ]
    }
   ],
   "source": [
    "for i in range(10):\n",
    "    for i in range(400):\n",
    "        instance.evolution()\n",
    "    print(instance.best_solution,instance.fitness(instance.best_solution))\n",
    "    best_solutions[str(instance.best_solution)]=instance.fitness(instance.best_solution)"
   ]
  },
  {
   "cell_type": "code",
   "execution_count": 76,
   "metadata": {},
   "outputs": [
    {
     "data": {
      "text/plain": [
       "{'[0, 5, 8, 7, 6, 4, 0, 3, 9, 2, 10, 1, 0]': -2507.0156371393223,\n",
       " '[0, 7, 8, 6, 4, 10, 9, 0, 3, 5, 1, 2, 0]': -2493.565753396381,\n",
       " '[0, 5, 8, 1, 0, 7, 9, 2, 0, 3, 0, 10, 6, 4, 0]': -4542.028143190721,\n",
       " '[0, 5, 10, 3, 6, 4, 0, 2, 1, 0, 9, 0, 8, 7, 0]': -4449.921700970464,\n",
       " '[0, 5, 10, 3, 4, 6, 1, 2, 0, 7, 8, 9, 0]': -2383.428459060622}"
      ]
     },
     "execution_count": 76,
     "metadata": {},
     "output_type": "execute_result"
    }
   ],
   "source": [
    "best_solutions"
   ]
  },
  {
   "cell_type": "code",
   "execution_count": 78,
   "metadata": {},
   "outputs": [
    {
     "name": "stdout",
     "output_type": "stream",
     "text": [
      "[0, 5, 10, 3, 4, 6, 1, 2, 0, 7, 8, 9, 0]\n"
     ]
    }
   ],
   "source": [
    "best_key = max(best_solutions, key=best_solutions.get)\n",
    "print(best_key)"
   ]
  },
  {
   "cell_type": "markdown",
   "metadata": {},
   "source": [
    "Best records:"
   ]
  },
  {
   "cell_type": "code",
   "execution_count": 83,
   "metadata": {},
   "outputs": [
    {
     "data": {
      "text/plain": [
       "[0, 5, 3, 7, 8, 9, 10, 6, 4, 2, 1, 0]"
      ]
     },
     "execution_count": 83,
     "metadata": {},
     "output_type": "execute_result"
    }
   ],
   "source": [
    "[0, 5, 3, 7, 8, 9, 10, 6, 4, 2, 1, 0]"
   ]
  },
  {
   "cell_type": "code",
   "execution_count": null,
   "metadata": {},
   "outputs": [],
   "source": []
  }
 ],
 "metadata": {
  "kernelspec": {
   "display_name": "Python 3 (ipykernel)",
   "language": "python",
   "name": "python3"
  },
  "language_info": {
   "codemirror_mode": {
    "name": "ipython",
    "version": 3
   },
   "file_extension": ".py",
   "mimetype": "text/x-python",
   "name": "python",
   "nbconvert_exporter": "python",
   "pygments_lexer": "ipython3",
   "version": "3.10.2"
  }
 },
 "nbformat": 4,
 "nbformat_minor": 2
}
