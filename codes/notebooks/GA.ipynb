{
 "cells": [
  {
   "cell_type": "code",
   "execution_count": 2,
   "metadata": {},
   "outputs": [
    {
     "name": "stdout",
     "output_type": "stream",
     "text": [
      "The autoreload extension is already loaded. To reload it, use:\n",
      "  %reload_ext autoreload\n"
     ]
    }
   ],
   "source": [
    "import sys\n",
    "sys.path.append(\"../metaheuristics\") \n",
    "%load_ext autoreload\n",
    "%autoreload 1\n",
    "%aimport algorithme_genetique"
   ]
  },
  {
   "cell_type": "code",
   "execution_count": 3,
   "metadata": {},
   "outputs": [],
   "source": [
    "from algorithme_genetique import*"
   ]
  },
  {
   "cell_type": "code",
   "execution_count": 4,
   "metadata": {},
   "outputs": [],
   "source": [
    "vrptw = load_solomon('simple.csv', nb_cust=10, vehicle_speed=100)\n",
    "instance =init_vrpga(vrptw)\n",
    "best_solutions={}"
   ]
  },
  {
   "cell_type": "code",
   "execution_count": 81,
   "metadata": {},
   "outputs": [
    {
     "name": "stdout",
     "output_type": "stream",
     "text": [
      "[0, 5, 3, 0, 6, 10, 4, 0, 8, 0, 7, 9, 1, 0, 2, 0] -5620.84314940416\n"
     ]
    }
   ],
   "source": [
    "for i in range(40):\n",
    "    instance.evolution()\n",
    "print(instance.best_solution,instance.fitness(instance.best_solution))"
   ]
  },
  {
   "cell_type": "code",
   "execution_count": 82,
   "metadata": {},
   "outputs": [
    {
     "name": "stdout",
     "output_type": "stream",
     "text": [
      "[0, 5, 7, 3, 6, 4, 10, 1, 0, 8, 9, 2, 0] -2411.0398677072353\n",
      "[0, 5, 10, 6, 4, 1, 0, 3, 7, 8, 9, 2, 0] -2469.901798976494\n",
      "[0, 5, 7, 3, 10, 1, 0, 8, 6, 4, 9, 2, 0] -2425.6667036401786\n",
      "[0, 5, 2, 0, 7, 8, 9, 10, 6, 4, 0, 3, 1, 0] -3476.5467041758675\n",
      "[0, 7, 8, 9, 0, 3, 6, 4, 2, 10, 1, 0, 5, 0] -3425.4882803104597\n",
      "[0, 7, 8, 2, 0, 3, 6, 4, 9, 10, 1, 0, 5, 0] -3448.674311569822\n",
      "[0, 7, 8, 9, 0, 3, 6, 4, 2, 0, 5, 10, 1, 0] -3408.1942041989255\n",
      "[0, 7, 5, 10, 6, 0, 8, 4, 9, 2, 0, 3, 1, 0] -3545.15106935875\n",
      "[0, 3, 0, 10, 2, 0, 8, 4, 1, 0, 7, 0, 5, 9, 6, 0] -5611.996581961093\n",
      "[0, 2, 0, 5, 7, 8, 0, 3, 10, 6, 4, 9, 1, 0] -3477.4161590645153\n"
     ]
    }
   ],
   "source": [
    "for i in range(10):\n",
    "    for i in range(400):\n",
    "        instance.evolution()\n",
    "    print(instance.best_solution,instance.fitness(instance.best_solution))\n",
    "    best_solutions[str(instance.best_solution)]=instance.fitness(instance.best_solution)"
   ]
  },
  {
   "cell_type": "code",
   "execution_count": 78,
   "metadata": {},
   "outputs": [
    {
     "name": "stdout",
     "output_type": "stream",
     "text": [
      "[0, 5, 10, 3, 4, 6, 1, 2, 0, 7, 8, 9, 0]\n"
     ]
    }
   ],
   "source": [
    "best_key = max(best_solutions, key=best_solutions.get)\n",
    "print(best_key)"
   ]
  },
  {
   "cell_type": "markdown",
   "metadata": {},
   "source": [
    "«Best records»"
   ]
  },
  {
   "cell_type": "code",
   "execution_count": 83,
   "metadata": {},
   "outputs": [
    {
     "data": {
      "text/plain": [
       "[0, 5, 3, 7, 8, 9, 10, 6, 4, 2, 1, 0]"
      ]
     },
     "execution_count": 83,
     "metadata": {},
     "output_type": "execute_result"
    }
   ],
   "source": [
    "[0, 5, 3, 7, 8, 9, 10, 6, 4, 2, 1, 0]"
   ]
  },
  {
   "cell_type": "markdown",
   "metadata": {},
   "source": [
    "DATA GENERATOR"
   ]
  },
  {
   "cell_type": "code",
   "execution_count": 121,
   "metadata": {},
   "outputs": [],
   "source": [
    "import random\n",
    "import numpy as np"
   ]
  },
  {
   "cell_type": "code",
   "execution_count": 131,
   "metadata": {},
   "outputs": [],
   "source": [
    "def generator_demand(low=8,high=42):\n",
    "    tmp=int(np.random.normal(20,10))\n",
    "    while(tmp<low or tmp>high):\n",
    "        tmp=int(np.random.normal(20,10))\n",
    "    return tmp\n",
    "\n",
    "def generator_time_window(right=1300,avr_during=400,sigma_start=150,sigma_during=13):\n",
    "    variance_start=sigma_start*sigma_start\n",
    "    variance_during=sigma_during*sigma_during\n",
    "    start=int(np.random.normal(450,variance_start))\n",
    "    while(start>1050 or start<0):\n",
    "        start=int(np.random.normal(450,variance_start))  \n",
    "    \n",
    "    during=int(np.random.normal(avr_during,variance_during))\n",
    "    while(during<120):\n",
    "        during=int(np.random.normal(avr_during,variance_during))  \n",
    "    end=min(start+during,right)\n",
    "    return start,end\n",
    "\n",
    "def generator_datum():\n",
    "    return random.randint(0, 100),random.randint(0, 100),generator_demand(),generator_time_window(),90\n",
    "\n",
    "def generator_data(id_start,id_end):\n",
    "    for i in range(id_start,id_end+1):\n",
    "        print(f'{i},'+(str(generator_datum())).replace(' ','').replace('(','').replace(')','')+',')"
   ]
  },
  {
   "cell_type": "code",
   "execution_count": 132,
   "metadata": {},
   "outputs": [
    {
     "name": "stdout",
     "output_type": "stream",
     "text": [
      "1,34,65,28,553,1026,90,\n",
      "2,64,7,13,1048,1300,90,\n",
      "3,68,55,16,635,1270,90,\n",
      "4,43,41,15,650,1023,90,\n",
      "5,48,66,26,503,748,90,\n",
      "6,90,59,26,131,717,90,\n",
      "7,90,63,29,587,1009,90,\n",
      "8,94,46,10,92,603,90,\n",
      "9,86,40,12,907,1246,90,\n",
      "10,33,7,18,164,668,90,\n",
      "11,99,29,24,185,362,90,\n",
      "12,18,87,25,463,984,90,\n",
      "13,37,2,25,835,1137,90,\n",
      "14,78,47,24,381,869,90,\n",
      "15,7,2,16,659,1169,90,\n",
      "16,60,58,36,288,676,90,\n",
      "17,84,17,18,63,462,90,\n",
      "18,94,18,16,171,571,90,\n",
      "19,35,93,16,759,1200,90,\n",
      "20,22,32,23,275,898,90,\n",
      "21,97,49,33,607,730,90,\n",
      "22,13,77,15,1020,1220,90,\n",
      "23,43,1,15,690,932,90,\n",
      "24,69,99,23,317,482,90,\n",
      "25,69,59,26,236,489,90,\n",
      "26,50,14,26,764,1300,90,\n",
      "27,89,21,22,807,1189,90,\n",
      "28,100,47,27,969,1300,90,\n",
      "29,80,78,41,439,786,90,\n",
      "30,27,7,13,706,918,90,\n",
      "31,89,7,13,270,767,90,\n",
      "32,68,21,10,340,804,90,\n",
      "33,90,68,22,641,772,90,\n",
      "34,1,88,24,80,701,90,\n",
      "35,23,12,21,255,633,90,\n",
      "36,98,96,19,416,620,90,\n",
      "37,10,86,36,334,664,90,\n",
      "38,82,26,10,530,793,90,\n",
      "39,92,69,24,185,577,90,\n",
      "40,44,0,34,598,1054,90,\n"
     ]
    }
   ],
   "source": [
    "generator_data(1,40)"
   ]
  },
  {
   "cell_type": "code",
   "execution_count": null,
   "metadata": {},
   "outputs": [],
   "source": []
  }
 ],
 "metadata": {
  "kernelspec": {
   "display_name": "Python 3 (ipykernel)",
   "language": "python",
   "name": "python3"
  },
  "language_info": {
   "codemirror_mode": {
    "name": "ipython",
    "version": 3
   },
   "file_extension": ".py",
   "mimetype": "text/x-python",
   "name": "python",
   "nbconvert_exporter": "python",
   "pygments_lexer": "ipython3",
   "version": "3.10.2"
  }
 },
 "nbformat": 4,
 "nbformat_minor": 2
}
