{
 "cells": [
  {
   "cell_type": "code",
   "execution_count": null,
   "metadata": {},
   "outputs": [],
   "source": [
    "import sys\n",
    "sys.path.append(\"../metaheuristics\") \n",
    "%load_ext autoreload\n",
    "%autoreload 1\n",
    "# %aimport algorithme_genetique\n",
    "%aimport simulated_annealing"
   ]
  },
  {
   "cell_type": "code",
   "execution_count": 1,
   "metadata": {},
   "outputs": [
    {
     "name": "stdout",
     "output_type": "stream",
     "text": [
      "d:\\Git\\dir\\ICO\\codes\n"
     ]
    }
   ],
   "source": [
    "cd .."
   ]
  },
  {
   "cell_type": "code",
   "execution_count": 2,
   "metadata": {},
   "outputs": [],
   "source": [
    "from metaheuristics.algorithme_genetique import*\n",
    "from metaheuristics.base_problem import *\n",
    "from metaheuristics.simulated_annealing import *\n",
    "from loading_models import *\n",
    "from vrptw import VRPTW"
   ]
  },
  {
   "cell_type": "code",
   "execution_count": 3,
   "metadata": {},
   "outputs": [
    {
     "data": {
      "text/plain": [
       "<metaheuristics.algorithme_genetique.GeneticAlgorithm at 0x24be22172b0>"
      ]
     },
     "execution_count": 3,
     "metadata": {},
     "output_type": "execute_result"
    }
   ],
   "source": [
    "context = load_solomon('simple.csv', nb_cust=10, vehicle_speed=100)\n",
    "vrptw = VRPTW(context)\n",
    "neighborhood_params={   'verbose':0,\n",
    "                        'init_sol':'random',\n",
    "                        'choose_mode':'random',\n",
    "                        'use_methods':['switch_two_customers_intra_route'],\n",
    "                        'force_new_sol': True         \n",
    "                    }"
   ]
  },
  {
   "cell_type": "code",
   "execution_count": 5,
   "metadata": {},
   "outputs": [],
   "source": [
    "sa=SimulatedAnnealing(t0=30,neighborhood_params=neighborhood_params)\n",
    "sa.fit_search(vrptw)"
   ]
  },
  {
   "cell_type": "code",
   "execution_count": 4,
   "metadata": {},
   "outputs": [],
   "source": [
    "# vrptw.set_problem_params(neighborhood_params=neighborhood_params)\n",
    "instance =GeneticAlgorithm(neighborhood_params=neighborhood_params)\n",
    "instance.fit(vrptw)\n",
    "instance.init()"
   ]
  },
  {
   "cell_type": "code",
   "execution_count": 14,
   "metadata": {},
   "outputs": [
    {
     "ename": "TypeError",
     "evalue": "ProblemComponent.set_params() missing 1 required positional argument: 'params'",
     "output_type": "error",
     "traceback": [
      "\u001b[1;31m---------------------------------------------------------------------------\u001b[0m",
      "\u001b[1;31mTypeError\u001b[0m                                 Traceback (most recent call last)",
      "\u001b[1;32md:\\Git\\dir\\ICO\\codes\\notebooks\\GA.ipynb Cell 6'\u001b[0m in \u001b[0;36m<cell line: 1>\u001b[1;34m()\u001b[0m\n\u001b[1;32m----> <a href='vscode-notebook-cell:/d%3A/Git/dir/ICO/codes/notebooks/GA.ipynb#ch0000027?line=0'>1</a>\u001b[0m instance\u001b[39m.\u001b[39;49msearch()\n",
      "File \u001b[1;32md:\\Git\\dir\\ICO\\codes\\metaheuristics\\algorithme_genetique.py:97\u001b[0m, in \u001b[0;36mGeneticAlgorithm.search\u001b[1;34m(self)\u001b[0m\n\u001b[0;32m     <a href='file:///d%3A/Git/dir/ICO/codes/metaheuristics/algorithme_genetique.py?line=93'>94</a>\u001b[0m \u001b[39mself\u001b[39m\u001b[39m.\u001b[39mevolution_best_solution\u001b[39m.\u001b[39mappend(\u001b[39mself\u001b[39m\u001b[39m.\u001b[39m__fitness(\u001b[39mself\u001b[39m\u001b[39m.\u001b[39mbest_solution))\n\u001b[0;32m     <a href='file:///d%3A/Git/dir/ICO/codes/metaheuristics/algorithme_genetique.py?line=95'>96</a>\u001b[0m \u001b[39mfor\u001b[39;00m i \u001b[39min\u001b[39;00m \u001b[39mrange\u001b[39m(\u001b[39m200\u001b[39m):\n\u001b[1;32m---> <a href='file:///d%3A/Git/dir/ICO/codes/metaheuristics/algorithme_genetique.py?line=96'>97</a>\u001b[0m     \u001b[39mself\u001b[39;49m\u001b[39m.\u001b[39;49m__evolution()\n\u001b[0;32m     <a href='file:///d%3A/Git/dir/ICO/codes/metaheuristics/algorithme_genetique.py?line=98'>99</a>\u001b[0m \u001b[39mself\u001b[39m\u001b[39m.\u001b[39mevolution_best_solution\u001b[39m.\u001b[39mappend(\u001b[39mself\u001b[39m\u001b[39m.\u001b[39m__fitness(\u001b[39mself\u001b[39m\u001b[39m.\u001b[39mbest_solution))\n\u001b[0;32m    <a href='file:///d%3A/Git/dir/ICO/codes/metaheuristics/algorithme_genetique.py?line=99'>100</a>\u001b[0m \u001b[39mreturn\u001b[39;00m \u001b[39mself\u001b[39m\u001b[39m.\u001b[39mbest_solution\n",
      "File \u001b[1;32md:\\Git\\dir\\ICO\\codes\\metaheuristics\\algorithme_genetique.py:228\u001b[0m, in \u001b[0;36mGeneticAlgorithm.__evolution\u001b[1;34m(self)\u001b[0m\n\u001b[0;32m    <a href='file:///d%3A/Git/dir/ICO/codes/metaheuristics/algorithme_genetique.py?line=225'>226</a>\u001b[0m \u001b[39m# KK\u001b[39;00m\n\u001b[0;32m    <a href='file:///d%3A/Git/dir/ICO/codes/metaheuristics/algorithme_genetique.py?line=226'>227</a>\u001b[0m parents \u001b[39m=\u001b[39m __binary_tournement(\u001b[39mself\u001b[39m)\n\u001b[1;32m--> <a href='file:///d%3A/Git/dir/ICO/codes/metaheuristics/algorithme_genetique.py?line=227'>228</a>\u001b[0m __pop_crossover(\u001b[39mself\u001b[39;49m, parents)\n\u001b[0;32m    <a href='file:///d%3A/Git/dir/ICO/codes/metaheuristics/algorithme_genetique.py?line=228'>229</a>\u001b[0m __pop_mutation(\u001b[39mself\u001b[39m)\n\u001b[0;32m    <a href='file:///d%3A/Git/dir/ICO/codes/metaheuristics/algorithme_genetique.py?line=229'>230</a>\u001b[0m \u001b[39m# __optimize(self)\u001b[39;00m\n",
      "File \u001b[1;32md:\\Git\\dir\\ICO\\codes\\metaheuristics\\algorithme_genetique.py:152\u001b[0m, in \u001b[0;36mGeneticAlgorithm.__evolution.<locals>.__pop_crossover\u001b[1;34m(self, parents)\u001b[0m\n\u001b[0;32m    <a href='file:///d%3A/Git/dir/ICO/codes/metaheuristics/algorithme_genetique.py?line=149'>150</a>\u001b[0m \u001b[39mfor\u001b[39;00m i \u001b[39min\u001b[39;00m \u001b[39mrange\u001b[39m(\u001b[39mlen\u001b[39m(parents) \u001b[39m/\u001b[39m\u001b[39m/\u001b[39m \u001b[39m2\u001b[39m \u001b[39m-\u001b[39m \u001b[39m1\u001b[39m):\n\u001b[0;32m    <a href='file:///d%3A/Git/dir/ICO/codes/metaheuristics/algorithme_genetique.py?line=150'>151</a>\u001b[0m     parent \u001b[39m=\u001b[39m random\u001b[39m.\u001b[39msample(parents, \u001b[39m2\u001b[39m)\n\u001b[1;32m--> <a href='file:///d%3A/Git/dir/ICO/codes/metaheuristics/algorithme_genetique.py?line=151'>152</a>\u001b[0m     child1, child2 \u001b[39m=\u001b[39m \u001b[39mself\u001b[39;49m\u001b[39m.\u001b[39;49m__chromosome_crossover(parent[\u001b[39m0\u001b[39;49m], parent[\u001b[39m1\u001b[39;49m])\n\u001b[0;32m    <a href='file:///d%3A/Git/dir/ICO/codes/metaheuristics/algorithme_genetique.py?line=152'>153</a>\u001b[0m     \u001b[39mself\u001b[39m\u001b[39m.\u001b[39mpopulation\u001b[39m.\u001b[39mappend(child1)\n\u001b[0;32m    <a href='file:///d%3A/Git/dir/ICO/codes/metaheuristics/algorithme_genetique.py?line=153'>154</a>\u001b[0m     \u001b[39mself\u001b[39m\u001b[39m.\u001b[39mpopulation\u001b[39m.\u001b[39mappend(child2)\n",
      "File \u001b[1;32md:\\Git\\dir\\ICO\\codes\\metaheuristics\\algorithme_genetique.py:86\u001b[0m, in \u001b[0;36mGeneticAlgorithm.__chromosome_crossover\u001b[1;34m(self, parent1, parent2)\u001b[0m\n\u001b[0;32m     <a href='file:///d%3A/Git/dir/ICO/codes/metaheuristics/algorithme_genetique.py?line=84'>85</a>\u001b[0m \u001b[39mdef\u001b[39;00m \u001b[39m__chromosome_crossover\u001b[39m(\u001b[39mself\u001b[39m, parent1, parent2):  \u001b[39m# what about cross-mute?\u001b[39;00m\n\u001b[1;32m---> <a href='file:///d%3A/Git/dir/ICO/codes/metaheuristics/algorithme_genetique.py?line=85'>86</a>\u001b[0m     \u001b[39mself\u001b[39;49m\u001b[39m.\u001b[39;49mNEIGHBORHOOD\u001b[39m.\u001b[39;49mset_params({\u001b[39m'\u001b[39;49m\u001b[39mchoose_mode\u001b[39;49m\u001b[39m'\u001b[39;49m:\u001b[39m'\u001b[39;49m\u001b[39mcrossover\u001b[39;49m\u001b[39m'\u001b[39;49m})\n\u001b[0;32m     <a href='file:///d%3A/Git/dir/ICO/codes/metaheuristics/algorithme_genetique.py?line=86'>87</a>\u001b[0m     \u001b[39mreturn\u001b[39;00m \u001b[39mself\u001b[39m\u001b[39m.\u001b[39mNEIGHBORHOOD\u001b[39m.\u001b[39mget_neighbor_from_two(parent1, parent2)\n",
      "\u001b[1;31mTypeError\u001b[0m: ProblemComponent.set_params() missing 1 required positional argument: 'params'"
     ]
    }
   ],
   "source": [
    "instance.search()"
   ]
  },
  {
   "cell_type": "code",
   "execution_count": 4,
   "metadata": {},
   "outputs": [
    {
     "ename": "KeyboardInterrupt",
     "evalue": "",
     "output_type": "error",
     "traceback": [
      "\u001b[1;31m---------------------------------------------------------------------------\u001b[0m",
      "\u001b[1;31mKeyboardInterrupt\u001b[0m                         Traceback (most recent call last)",
      "\u001b[1;32md:\\Git\\dir\\ICO\\codes\\notebooks\\GA.ipynb Cell 5'\u001b[0m in \u001b[0;36m<cell line: 1>\u001b[1;34m()\u001b[0m\n\u001b[1;32m----> <a href='vscode-notebook-cell:/d%3A/Git/dir/ICO/codes/notebooks/GA.ipynb#ch0000025?line=0'>1</a>\u001b[0m new_sol\u001b[39m=\u001b[39msa\u001b[39m.\u001b[39;49mfit_search(vrptw)\n",
      "File \u001b[1;32md:\\Git\\dir\\ICO\\codes\\metaheuristics\\base_metaheuristic.py:44\u001b[0m, in \u001b[0;36mBaseMetaheuristic.fit_search\u001b[1;34m(self, problem)\u001b[0m\n\u001b[0;32m     <a href='file:///d%3A/Git/dir/ICO/codes/metaheuristics/base_metaheuristic.py?line=41'>42</a>\u001b[0m \u001b[39mdef\u001b[39;00m \u001b[39mfit_search\u001b[39m(\u001b[39mself\u001b[39m, problem: Problem):\n\u001b[0;32m     <a href='file:///d%3A/Git/dir/ICO/codes/metaheuristics/base_metaheuristic.py?line=42'>43</a>\u001b[0m     \u001b[39m\"\"\" Fits and search \"\"\"\u001b[39;00m\n\u001b[1;32m---> <a href='file:///d%3A/Git/dir/ICO/codes/metaheuristics/base_metaheuristic.py?line=43'>44</a>\u001b[0m     \u001b[39mreturn\u001b[39;00m \u001b[39mself\u001b[39;49m\u001b[39m.\u001b[39;49mfit(problem)\u001b[39m.\u001b[39;49msearch()\n",
      "File \u001b[1;32md:\\Git\\dir\\ICO\\codes\\metaheuristics\\simulated_annealing.py:39\u001b[0m, in \u001b[0;36mSimulatedAnnealing.search\u001b[1;34m(self)\u001b[0m\n\u001b[0;32m     <a href='file:///d%3A/Git/dir/ICO/codes/metaheuristics/simulated_annealing.py?line=36'>37</a>\u001b[0m iter_cycle \u001b[39m+\u001b[39m\u001b[39m=\u001b[39m \u001b[39m1\u001b[39m\n\u001b[0;32m     <a href='file:///d%3A/Git/dir/ICO/codes/metaheuristics/simulated_annealing.py?line=37'>38</a>\u001b[0m n_iter \u001b[39m+\u001b[39m\u001b[39m=\u001b[39m \u001b[39m1\u001b[39m\n\u001b[1;32m---> <a href='file:///d%3A/Git/dir/ICO/codes/metaheuristics/simulated_annealing.py?line=38'>39</a>\u001b[0m neighbor \u001b[39m=\u001b[39m N(actual_sol)\n\u001b[0;32m     <a href='file:///d%3A/Git/dir/ICO/codes/metaheuristics/simulated_annealing.py?line=39'>40</a>\u001b[0m dc \u001b[39m=\u001b[39m neighbor\u001b[39m.\u001b[39mcost() \u001b[39m-\u001b[39m actual_sol\u001b[39m.\u001b[39mcost()\n\u001b[0;32m     <a href='file:///d%3A/Git/dir/ICO/codes/metaheuristics/simulated_annealing.py?line=40'>41</a>\u001b[0m \u001b[39m# if the neighbor cool down the system (less entropy)\u001b[39;00m\n\u001b[0;32m     <a href='file:///d%3A/Git/dir/ICO/codes/metaheuristics/simulated_annealing.py?line=41'>42</a>\u001b[0m \u001b[39m# we update the best_solution\u001b[39;00m\n",
      "File \u001b[1;32md:\\Git\\dir\\ICO\\codes\\metaheuristics\\base_problem.py:87\u001b[0m, in \u001b[0;36mNeighborhood.__call__\u001b[1;34m(self, solution)\u001b[0m\n\u001b[0;32m     <a href='file:///d%3A/Git/dir/ICO/codes/metaheuristics/base_problem.py?line=84'>85</a>\u001b[0m \u001b[39mdef\u001b[39;00m \u001b[39m__call__\u001b[39m(\u001b[39mself\u001b[39m, solution: Solution):\n\u001b[0;32m     <a href='file:///d%3A/Git/dir/ICO/codes/metaheuristics/base_problem.py?line=85'>86</a>\u001b[0m     \u001b[39m\"\"\" Method to be able to search a neighborhood with the syntax new_s = N(s) \"\"\"\u001b[39;00m\n\u001b[1;32m---> <a href='file:///d%3A/Git/dir/ICO/codes/metaheuristics/base_problem.py?line=86'>87</a>\u001b[0m     \u001b[39mreturn\u001b[39;00m \u001b[39mself\u001b[39;49m\u001b[39m.\u001b[39;49mget_neighbor(solution)\n",
      "File \u001b[1;32md:\\Git\\dir\\ICO\\codes\\neighborhood.py:50\u001b[0m, in \u001b[0;36mVRPTWNeighborhood.get_neighbor\u001b[1;34m(self, solution)\u001b[0m\n\u001b[0;32m     <a href='file:///d%3A/Git/dir/ICO/codes/neighborhood.py?line=47'>48</a>\u001b[0m \u001b[39mif\u001b[39;00m \u001b[39mself\u001b[39m\u001b[39m.\u001b[39mchoose_mode \u001b[39m==\u001b[39m \u001b[39m'\u001b[39m\u001b[39mrandom\u001b[39m\u001b[39m'\u001b[39m:\n\u001b[0;32m     <a href='file:///d%3A/Git/dir/ICO/codes/neighborhood.py?line=48'>49</a>\u001b[0m     method_name \u001b[39m=\u001b[39m random\u001b[39m.\u001b[39mchoice(\u001b[39mself\u001b[39m\u001b[39m.\u001b[39muse_methods)\n\u001b[1;32m---> <a href='file:///d%3A/Git/dir/ICO/codes/neighborhood.py?line=49'>50</a>\u001b[0m     new_sol \u001b[39m=\u001b[39m \u001b[39mgetattr\u001b[39;49m(\u001b[39mself\u001b[39;49m, method_name)(solution)\n\u001b[0;32m     <a href='file:///d%3A/Git/dir/ICO/codes/neighborhood.py?line=50'>51</a>\u001b[0m \u001b[39melif\u001b[39;00m \u001b[39mself\u001b[39m\u001b[39m.\u001b[39mchoose_mode \u001b[39m==\u001b[39m \u001b[39m'\u001b[39m\u001b[39mbest\u001b[39m\u001b[39m'\u001b[39m:\n\u001b[0;32m     <a href='file:///d%3A/Git/dir/ICO/codes/neighborhood.py?line=51'>52</a>\u001b[0m     solutions_found \u001b[39m=\u001b[39m [\u001b[39mgetattr\u001b[39m(\u001b[39mself\u001b[39m, method_name)(solution) \u001b[39mfor\u001b[39;00m method_name \u001b[39min\u001b[39;00m \u001b[39mself\u001b[39m\u001b[39m.\u001b[39muse_methods]\n",
      "File \u001b[1;32md:\\Git\\dir\\ICO\\codes\\neighborhood.py:123\u001b[0m, in \u001b[0;36mVRPTWNeighborhood.switch_two_customers_intra_route\u001b[1;34m(self, solution)\u001b[0m\n\u001b[0;32m    <a href='file:///d%3A/Git/dir/ICO/codes/neighborhood.py?line=120'>121</a>\u001b[0m routes_copy[index_route] \u001b[39m=\u001b[39m route_test\n\u001b[0;32m    <a href='file:///d%3A/Git/dir/ICO/codes/neighborhood.py?line=121'>122</a>\u001b[0m sol_found \u001b[39m=\u001b[39m Sol(routes_copy)\n\u001b[1;32m--> <a href='file:///d%3A/Git/dir/ICO/codes/neighborhood.py?line=122'>123</a>\u001b[0m is_sol \u001b[39m=\u001b[39m sol_found\u001b[39m.\u001b[39;49mroute_checker(route_test)\n\u001b[0;32m    <a href='file:///d%3A/Git/dir/ICO/codes/neighborhood.py?line=123'>124</a>\u001b[0m \u001b[39mif\u001b[39;00m (\u001b[39mnot\u001b[39;00m is_sol) \u001b[39mand\u001b[39;00m (\u001b[39mself\u001b[39m\u001b[39m.\u001b[39mverbose \u001b[39m>\u001b[39m \u001b[39m1\u001b[39m):\n\u001b[0;32m    <a href='file:///d%3A/Git/dir/ICO/codes/neighborhood.py?line=124'>125</a>\u001b[0m     \u001b[39mprint\u001b[39m(\u001b[39m\"\u001b[39m\u001b[39mSolution trouvée non conforme\u001b[39m\u001b[39m\\n\u001b[39;00m\u001b[39m\"\u001b[39m)\n",
      "\u001b[1;31mKeyboardInterrupt\u001b[0m: "
     ]
    }
   ],
   "source": [
    "new_sol=sa.fit_search(vrptw)"
   ]
  },
  {
   "cell_type": "code",
   "execution_count": 4,
   "metadata": {},
   "outputs": [],
   "source": [
    "instance.init()"
   ]
  },
  {
   "cell_type": "code",
   "execution_count": 5,
   "metadata": {},
   "outputs": [
    {
     "data": {
      "text/plain": [
       "{'solution': None,\n",
       " 'neighborhood': {'verbose': 0,\n",
       "  'init_sol': 'random',\n",
       "  'choose_mode': 'random',\n",
       "  'use_methods': ['switch_two_customers_intra_route'],\n",
       "  'force_new_sol': True},\n",
       " 'solution_space': None}"
      ]
     },
     "execution_count": 5,
     "metadata": {},
     "output_type": "execute_result"
    }
   ],
   "source": [
    "instance.params"
   ]
  },
  {
   "cell_type": "code",
   "execution_count": 6,
   "metadata": {},
   "outputs": [
    {
     "ename": "TypeError",
     "evalue": "ProblemComponent.set_params() missing 1 required positional argument: 'params'",
     "output_type": "error",
     "traceback": [
      "\u001b[1;31m---------------------------------------------------------------------------\u001b[0m",
      "\u001b[1;31mTypeError\u001b[0m                                 Traceback (most recent call last)",
      "\u001b[1;32md:\\Git\\dir\\ICO\\codes\\notebooks\\GA.ipynb Cell 7'\u001b[0m in \u001b[0;36m<cell line: 1>\u001b[1;34m()\u001b[0m\n\u001b[1;32m----> <a href='vscode-notebook-cell:/d%3A/Git/dir/ICO/codes/notebooks/GA.ipynb#ch0000020?line=0'>1</a>\u001b[0m instance\u001b[39m.\u001b[39;49msearch()\n",
      "File \u001b[1;32md:\\Git\\dir\\ICO\\codes\\metaheuristics\\algorithme_genetique.py:97\u001b[0m, in \u001b[0;36mGeneticAlgorithm.search\u001b[1;34m(self)\u001b[0m\n\u001b[0;32m     <a href='file:///d%3A/Git/dir/ICO/codes/metaheuristics/algorithme_genetique.py?line=93'>94</a>\u001b[0m \u001b[39mself\u001b[39m\u001b[39m.\u001b[39mevolution_best_solution\u001b[39m.\u001b[39mappend(\u001b[39mself\u001b[39m\u001b[39m.\u001b[39m__fitness(\u001b[39mself\u001b[39m\u001b[39m.\u001b[39mbest_solution))\n\u001b[0;32m     <a href='file:///d%3A/Git/dir/ICO/codes/metaheuristics/algorithme_genetique.py?line=95'>96</a>\u001b[0m \u001b[39mfor\u001b[39;00m i \u001b[39min\u001b[39;00m \u001b[39mrange\u001b[39m(\u001b[39m200\u001b[39m):\n\u001b[1;32m---> <a href='file:///d%3A/Git/dir/ICO/codes/metaheuristics/algorithme_genetique.py?line=96'>97</a>\u001b[0m     \u001b[39mself\u001b[39;49m\u001b[39m.\u001b[39;49m__evolution()\n\u001b[0;32m     <a href='file:///d%3A/Git/dir/ICO/codes/metaheuristics/algorithme_genetique.py?line=98'>99</a>\u001b[0m \u001b[39mself\u001b[39m\u001b[39m.\u001b[39mevolution_best_solution\u001b[39m.\u001b[39mappend(\u001b[39mself\u001b[39m\u001b[39m.\u001b[39m__fitness(\u001b[39mself\u001b[39m\u001b[39m.\u001b[39mbest_solution))\n\u001b[0;32m    <a href='file:///d%3A/Git/dir/ICO/codes/metaheuristics/algorithme_genetique.py?line=99'>100</a>\u001b[0m \u001b[39mreturn\u001b[39;00m \u001b[39mself\u001b[39m\u001b[39m.\u001b[39mbest_solution\n",
      "File \u001b[1;32md:\\Git\\dir\\ICO\\codes\\metaheuristics\\algorithme_genetique.py:228\u001b[0m, in \u001b[0;36mGeneticAlgorithm.__evolution\u001b[1;34m(self)\u001b[0m\n\u001b[0;32m    <a href='file:///d%3A/Git/dir/ICO/codes/metaheuristics/algorithme_genetique.py?line=225'>226</a>\u001b[0m \u001b[39m# KK\u001b[39;00m\n\u001b[0;32m    <a href='file:///d%3A/Git/dir/ICO/codes/metaheuristics/algorithme_genetique.py?line=226'>227</a>\u001b[0m parents \u001b[39m=\u001b[39m __binary_tournement(\u001b[39mself\u001b[39m)\n\u001b[1;32m--> <a href='file:///d%3A/Git/dir/ICO/codes/metaheuristics/algorithme_genetique.py?line=227'>228</a>\u001b[0m __pop_crossover(\u001b[39mself\u001b[39;49m, parents)\n\u001b[0;32m    <a href='file:///d%3A/Git/dir/ICO/codes/metaheuristics/algorithme_genetique.py?line=228'>229</a>\u001b[0m __pop_mutation(\u001b[39mself\u001b[39m)\n\u001b[0;32m    <a href='file:///d%3A/Git/dir/ICO/codes/metaheuristics/algorithme_genetique.py?line=229'>230</a>\u001b[0m \u001b[39m# __optimize(self)\u001b[39;00m\n",
      "File \u001b[1;32md:\\Git\\dir\\ICO\\codes\\metaheuristics\\algorithme_genetique.py:152\u001b[0m, in \u001b[0;36mGeneticAlgorithm.__evolution.<locals>.__pop_crossover\u001b[1;34m(self, parents)\u001b[0m\n\u001b[0;32m    <a href='file:///d%3A/Git/dir/ICO/codes/metaheuristics/algorithme_genetique.py?line=149'>150</a>\u001b[0m \u001b[39mfor\u001b[39;00m i \u001b[39min\u001b[39;00m \u001b[39mrange\u001b[39m(\u001b[39mlen\u001b[39m(parents) \u001b[39m/\u001b[39m\u001b[39m/\u001b[39m \u001b[39m2\u001b[39m \u001b[39m-\u001b[39m \u001b[39m1\u001b[39m):\n\u001b[0;32m    <a href='file:///d%3A/Git/dir/ICO/codes/metaheuristics/algorithme_genetique.py?line=150'>151</a>\u001b[0m     parent \u001b[39m=\u001b[39m random\u001b[39m.\u001b[39msample(parents, \u001b[39m2\u001b[39m)\n\u001b[1;32m--> <a href='file:///d%3A/Git/dir/ICO/codes/metaheuristics/algorithme_genetique.py?line=151'>152</a>\u001b[0m     child1, child2 \u001b[39m=\u001b[39m \u001b[39mself\u001b[39;49m\u001b[39m.\u001b[39;49m__chromosome_crossover(parent[\u001b[39m0\u001b[39;49m], parent[\u001b[39m1\u001b[39;49m])\n\u001b[0;32m    <a href='file:///d%3A/Git/dir/ICO/codes/metaheuristics/algorithme_genetique.py?line=152'>153</a>\u001b[0m     \u001b[39mself\u001b[39m\u001b[39m.\u001b[39mpopulation\u001b[39m.\u001b[39mappend(child1)\n\u001b[0;32m    <a href='file:///d%3A/Git/dir/ICO/codes/metaheuristics/algorithme_genetique.py?line=153'>154</a>\u001b[0m     \u001b[39mself\u001b[39m\u001b[39m.\u001b[39mpopulation\u001b[39m.\u001b[39mappend(child2)\n",
      "File \u001b[1;32md:\\Git\\dir\\ICO\\codes\\metaheuristics\\algorithme_genetique.py:86\u001b[0m, in \u001b[0;36mGeneticAlgorithm.__chromosome_crossover\u001b[1;34m(self, parent1, parent2)\u001b[0m\n\u001b[0;32m     <a href='file:///d%3A/Git/dir/ICO/codes/metaheuristics/algorithme_genetique.py?line=84'>85</a>\u001b[0m \u001b[39mdef\u001b[39;00m \u001b[39m__chromosome_crossover\u001b[39m(\u001b[39mself\u001b[39m, parent1, parent2):  \u001b[39m# what about cross-mute?\u001b[39;00m\n\u001b[1;32m---> <a href='file:///d%3A/Git/dir/ICO/codes/metaheuristics/algorithme_genetique.py?line=85'>86</a>\u001b[0m     \u001b[39mself\u001b[39;49m\u001b[39m.\u001b[39;49mNEIGHBORHOOD\u001b[39m.\u001b[39;49mset_params({\u001b[39m'\u001b[39;49m\u001b[39mchoose_mode\u001b[39;49m\u001b[39m'\u001b[39;49m:\u001b[39m'\u001b[39;49m\u001b[39mcrossover\u001b[39;49m\u001b[39m'\u001b[39;49m})\n\u001b[0;32m     <a href='file:///d%3A/Git/dir/ICO/codes/metaheuristics/algorithme_genetique.py?line=86'>87</a>\u001b[0m     \u001b[39mreturn\u001b[39;00m \u001b[39mself\u001b[39m\u001b[39m.\u001b[39mNEIGHBORHOOD\u001b[39m.\u001b[39mget_neighbor_from_two(parent1, parent2)\n",
      "\u001b[1;31mTypeError\u001b[0m: ProblemComponent.set_params() missing 1 required positional argument: 'params'"
     ]
    }
   ],
   "source": [
    "instance.search()"
   ]
  },
  {
   "cell_type": "code",
   "execution_count": null,
   "metadata": {},
   "outputs": [],
   "source": []
  },
  {
   "cell_type": "code",
   "execution_count": null,
   "metadata": {},
   "outputs": [],
   "source": [
    "best_key = max(best_solutions, key=best_solutions.get)\n",
    "print(best_key)"
   ]
  },
  {
   "cell_type": "markdown",
   "metadata": {},
   "source": [
    "«Best records»"
   ]
  },
  {
   "cell_type": "code",
   "execution_count": null,
   "metadata": {},
   "outputs": [],
   "source": [
    "[0, 5, 3, 7, 8, 9, 10, 6, 4, 2, 1, 0]"
   ]
  },
  {
   "cell_type": "markdown",
   "metadata": {},
   "source": [
    "DATA GENERATOR"
   ]
  },
  {
   "cell_type": "code",
   "execution_count": null,
   "metadata": {},
   "outputs": [],
   "source": [
    "import random\n",
    "import numpy as np\n",
    "import pandas as pd"
   ]
  },
  {
   "cell_type": "code",
   "execution_count": null,
   "metadata": {},
   "outputs": [],
   "source": [
    "def generator_demand(low=8,high=42):\n",
    "    tmp=int(np.random.normal(20,10))\n",
    "    while(tmp<low or tmp>high):\n",
    "        tmp=int(np.random.normal(20,10))\n",
    "    return tmp\n",
    "\n",
    "def generator_time_window(right=1300,avr_during=400,sigma_start=150,sigma_during=13):\n",
    "    variance_start=sigma_start*sigma_start\n",
    "    variance_during=sigma_during*sigma_during\n",
    "    start=int(np.random.normal(450,variance_start))\n",
    "    while(start>1050 or start<0):\n",
    "        start=int(np.random.normal(450,variance_start))  \n",
    "    \n",
    "    during=int(np.random.normal(avr_during,variance_during))\n",
    "    while(during<120):\n",
    "        during=int(np.random.normal(avr_during,variance_during))  \n",
    "    end=min(start+during,right)\n",
    "    return start,end\n",
    "\n",
    "def generator_datum():\n",
    "    time_window = generator_time_window(1440, 650)\n",
    "    start_time, end_time = time_window\n",
    "    return random.randint(0, 100),random.randint(0, 100),generator_demand(),start_time,end_time,int(np.random.normal(80,3))\n",
    "\n",
    "def generator_data(id_start,id_end):\n",
    "    for i in range(id_start,id_end+1):\n",
    "        print(f'{i},'+(str(generator_datum())).replace(' ','').replace('(','').replace(')','')+',')"
   ]
  },
  {
   "cell_type": "code",
   "execution_count": null,
   "metadata": {},
   "outputs": [],
   "source": [
    "def generate_dataframe(n_customers=10):\n",
    "    columns = ['CUSTNO', 'XCOORD', 'YCOORD', 'DEMAND', 'READYTIME', 'DUETIME', 'SERVICETIME']\n",
    "    df = pd.DataFrame(data=([i]+list(generator_datum()) for i in range(1, n_customers+1)), columns=columns)\n",
    "    df['CAPACITY'] = 200\n",
    "    return df\n",
    "\n",
    "def generate_csv(filename, n_customers):\n",
    "    df = generate_dataframe(n_customers)\n",
    "    df.to_csv(filename, index=False)    "
   ]
  },
  {
   "cell_type": "code",
   "execution_count": null,
   "metadata": {},
   "outputs": [],
   "source": [
    "cd data_solomon"
   ]
  },
  {
   "cell_type": "code",
   "execution_count": null,
   "metadata": {},
   "outputs": [],
   "source": [
    "generate_csv('A50.csv', 50)"
   ]
  }
 ],
 "metadata": {
  "kernelspec": {
   "display_name": "Python 3 (ipykernel)",
   "language": "python",
   "name": "python3"
  },
  "language_info": {
   "codemirror_mode": {
    "name": "ipython",
    "version": 3
   },
   "file_extension": ".py",
   "mimetype": "text/x-python",
   "name": "python",
   "nbconvert_exporter": "python",
   "pygments_lexer": "ipython3",
   "version": "3.10.2"
  }
 },
 "nbformat": 4,
 "nbformat_minor": 4
}
