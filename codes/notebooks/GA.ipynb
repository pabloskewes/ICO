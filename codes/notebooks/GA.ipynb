{
 "cells": [
  {
   "cell_type": "code",
   "execution_count": null,
   "metadata": {},
   "outputs": [],
   "source": [
    "# %load_ext autoreload\n",
    "# %autoreload 1\n",
    "# %aimport metaheuristics.algorithme_genetique"
   ]
  },
  {
   "cell_type": "code",
   "execution_count": 1,
   "metadata": {},
   "outputs": [
    {
     "name": "stdout",
     "output_type": "stream",
     "text": [
      "d:\\Git\\dir\\ICO\\codes\n"
     ]
    }
   ],
   "source": [
    "cd .."
   ]
  },
  {
   "cell_type": "code",
   "execution_count": 2,
   "metadata": {},
   "outputs": [],
   "source": [
    "from metaheuristics.genetic_algorithm import*\n",
    "from metaheuristics.base_problem import *\n",
    "from loading_models import *\n",
    "from vrptw import VRPTW\n",
    "from copy import deepcopy"
   ]
  },
  {
   "cell_type": "code",
   "execution_count": 4,
   "metadata": {},
   "outputs": [],
   "source": [
    "context = load_solomon('simple.csv', nb_cust=10, vehicle_speed=100)\n",
    "# context = create_vrptw(CUSTOMER_DIR, DEPOTS_DIR, VEHICLES_DIR, DEPOTS_DISTANCES_DIR, CUSTOMER_DISTANCES_DIR, 2958047, MODE_VEHICLE=\"mean\", vehicle_code=None)\n",
    "vrptw = VRPTW(context)"
   ]
  },
  {
   "cell_type": "code",
   "execution_count": 5,
   "metadata": {},
   "outputs": [
    {
     "data": {
      "text/plain": [
       "[[0, 5, 3, 7, 8, 10, 6, 4, 9, 2, 1, 0]]"
      ]
     },
     "execution_count": 5,
     "metadata": {},
     "output_type": "execute_result"
    }
   ],
   "source": [
    "cri=True\n",
    "neighborhood_params={   'verbose':0,\n",
    "                        'init_sol':'random',\n",
    "                        'choose_mode':'random',\n",
    "                        # 'use_methods' : ['intra_route_swap','inter_route_swap',\n",
    "                        #     'intra_route_shift','inter_route_shift',\n",
    "                        #     'two_intra_route_swap', 'two_intra_route_shift',\n",
    "                        #     'delete_smallest_route','delete_random_route'],\n",
    "                        'use_methods':['delete_random_route'],\n",
    "                        'force_new_sol': True,         \n",
    "                        'full_search':True\n",
    "                    }\n",
    "\n",
    "instance =GeneticAlgorithm(rate_crossover=0.9,rate_mutation=1,progress_bar=False,num_evolu_per_search=200,neighborhood_params=neighborhood_params,reproductive_isolation=True,best_seed=True)\n",
    "instance.fit_search(vrptw)"
   ]
  },
  {
   "cell_type": "code",
   "execution_count": 6,
   "metadata": {},
   "outputs": [
    {
     "name": "stderr",
     "output_type": "stream",
     "text": [
      "100%|██████████| 10/10 [05:49<00:00, 34.94s/it]\n"
     ]
    }
   ],
   "source": [
    "for _ in tqdm(range(10)):\n",
    "    instance.search()"
   ]
  },
  {
   "cell_type": "code",
   "execution_count": null,
   "metadata": {},
   "outputs": [],
   "source": [
    "import random\n",
    "from copy import deepcopy\n",
    "from solution import VRPTWSolution\n"
   ]
  },
  {
   "cell_type": "code",
   "execution_count": 10,
   "metadata": {},
   "outputs": [
    {
     "name": "stdout",
     "output_type": "stream",
     "text": [
      "True\n"
     ]
    }
   ],
   "source": [
    "for _ in range(10):\n",
    "    instance.search()\n",
    "    cri=cri and instance.best_solution.checker()\n",
    "print(cri)"
   ]
  },
  {
   "cell_type": "markdown",
   "metadata": {},
   "source": [
    "Concept of Nation"
   ]
  },
  {
   "cell_type": "code",
   "execution_count": null,
   "metadata": {},
   "outputs": [],
   "source": [
    "context = load_solomon('simple.csv', nb_cust=10, vehicle_speed=100)\n",
    "# context = create_vrptw(CUSTOMER_DIR, DEPOTS_DIR, VEHICLES_DIR, DEPOTS_DISTANCES_DIR, CUSTOMER_DISTANCES_DIR, 2958047, MODE_VEHICLE=\"mean\", vehicle_code=None)\n",
    "\n",
    "vrptw = VRPTW(context)\n",
    "neighborhood_params={   'verbose':1,\n",
    "                        'init_sol':'random',\n",
    "                        'choose_mode':'random',\n",
    "                        'force_new_sol': False,         \n",
    "                        'full_search':True\n",
    "                    }\n",
    "instance =GeneticAlgorithm(num_evolu_per_search=1,neighborhood_params=neighborhood_params,reproductive_isolation=True,best_seed=True)\n",
    "instance.fit_search(vrptw)\n",
    "\n",
    "for _ in range(10):\n",
    "    instance.search()\n",
    "    print(instance.best_solution.checker())\n",
    "instance.plot_evolution_cost()"
   ]
  },
  {
   "cell_type": "code",
   "execution_count": null,
   "metadata": {},
   "outputs": [],
   "source": [
    "instance.problem.context.distances.shape"
   ]
  },
  {
   "cell_type": "code",
   "execution_count": null,
   "metadata": {},
   "outputs": [],
   "source": [
    "instance.best_solution.checker()"
   ]
  },
  {
   "cell_type": "code",
   "execution_count": null,
   "metadata": {},
   "outputs": [],
   "source": [
    "instance.best_solution"
   ]
  },
  {
   "cell_type": "markdown",
   "metadata": {},
   "source": [
    "reproductive_isolation=False,best_seed=False"
   ]
  },
  {
   "cell_type": "code",
   "execution_count": null,
   "metadata": {},
   "outputs": [],
   "source": [
    "instance.evolution_best_solution"
   ]
  },
  {
   "cell_type": "markdown",
   "metadata": {},
   "source": [
    "reproductive_isolation=False,best_seed=True"
   ]
  },
  {
   "cell_type": "code",
   "execution_count": null,
   "metadata": {},
   "outputs": [],
   "source": [
    "instance.evolution_best_solution"
   ]
  },
  {
   "cell_type": "markdown",
   "metadata": {},
   "source": [
    "reproductive_isolation=True,best_seed=False"
   ]
  },
  {
   "cell_type": "code",
   "execution_count": null,
   "metadata": {},
   "outputs": [],
   "source": [
    "instance.evolution_best_solution "
   ]
  },
  {
   "cell_type": "markdown",
   "metadata": {},
   "source": [
    "reproductive_isolation=True,best_seed=True"
   ]
  },
  {
   "cell_type": "code",
   "execution_count": null,
   "metadata": {},
   "outputs": [],
   "source": [
    "instance.evolution_best_solution "
   ]
  },
  {
   "cell_type": "markdown",
   "metadata": {},
   "source": [
    "Exemple with load_solomon"
   ]
  },
  {
   "cell_type": "code",
   "execution_count": null,
   "metadata": {},
   "outputs": [],
   "source": [
    "for _ in range(1):\n",
    "    context = load_solomon('simple.csv', nb_cust=10, vehicle_speed=100)\n",
    "\n",
    "# for route_id in customers['ROUTE_ID'].unique():\n",
    "#     context = create_vrptw(CUSTOMER_DIR, DEPOTS_DIR, VEHICLES_DIR, DEPOTS_DISTANCES_DIR, CUSTOMER_DISTANCES_DIR, 2958047, MODE_VEHICLE=\"mean\", vehicle_code=None)\n",
    "   \n",
    "    vrptw = VRPTW(context)\n",
    "    neighborhood_params={   'verbose':0,\n",
    "                            'init_sol':'random',\n",
    "                            'choose_mode':'random',\n",
    "                            'force_new_sol': True         \n",
    "                        }\n",
    "    instance =GeneticAlgorithm(num_evolu_per_search=10,neighborhood_params=neighborhood_params)\n",
    "    instance.fit_search(vrptw)\n",
    "\n",
    "    for _ in range(10):\n",
    "        instance.search()\n",
    "    instance.plot_evolution_cost()"
   ]
  },
  {
   "cell_type": "markdown",
   "metadata": {},
   "source": [
    "DATA GENERATOR"
   ]
  },
  {
   "cell_type": "code",
   "execution_count": null,
   "metadata": {},
   "outputs": [],
   "source": [
    "import random\n",
    "import numpy as np\n",
    "import pandas as pd"
   ]
  },
  {
   "cell_type": "code",
   "execution_count": null,
   "metadata": {},
   "outputs": [],
   "source": [
    "def generator_demand(low=8,high=42):\n",
    "    tmp=int(np.random.normal(20,10))\n",
    "    while(tmp<low or tmp>high):\n",
    "        tmp=int(np.random.normal(20,10))\n",
    "    return tmp\n",
    "\n",
    "def generator_time_window(right=1300,avr_during=400,sigma_start=150,sigma_during=13):\n",
    "    variance_start=sigma_start*sigma_start\n",
    "    variance_during=sigma_during*sigma_during\n",
    "    start=int(np.random.normal(450,variance_start))\n",
    "    while(start>1050 or start<0):\n",
    "        start=int(np.random.normal(450,variance_start))  \n",
    "    \n",
    "    during=int(np.random.normal(avr_during,variance_during))\n",
    "    while(during<120):\n",
    "        during=int(np.random.normal(avr_during,variance_during))  \n",
    "    end=min(start+during,right)\n",
    "    return start,end\n",
    "\n",
    "def generator_datum():\n",
    "    time_window = generator_time_window(1440, 650)\n",
    "    start_time, end_time = time_window\n",
    "    return random.randint(0, 100),random.randint(0, 100),generator_demand(),start_time,end_time,int(np.random.normal(80,3))\n",
    "\n",
    "def generator_data(id_start,id_end):\n",
    "    for i in range(id_start,id_end+1):\n",
    "        print(f'{i},'+(str(generator_datum())).replace(' ','').replace('(','').replace(')','')+',')"
   ]
  },
  {
   "cell_type": "code",
   "execution_count": null,
   "metadata": {},
   "outputs": [],
   "source": [
    "def generate_dataframe(n_customers=10):\n",
    "    columns = ['CUSTNO', 'XCOORD', 'YCOORD', 'DEMAND', 'READYTIME', 'DUETIME', 'SERVICETIME']\n",
    "    df = pd.DataFrame(data=([i]+list(generator_datum()) for i in range(1, n_customers+1)), columns=columns)\n",
    "    df['CAPACITY'] = 200\n",
    "    return df\n",
    "\n",
    "def generate_csv(filename, n_customers):\n",
    "    df = generate_dataframe(n_customers)\n",
    "    df.to_csv(filename, index=False)    "
   ]
  },
  {
   "cell_type": "code",
   "execution_count": null,
   "metadata": {},
   "outputs": [],
   "source": [
    "cd data_solomon"
   ]
  },
  {
   "cell_type": "code",
   "execution_count": null,
   "metadata": {},
   "outputs": [],
   "source": [
    "generate_csv('A50.csv', 50)"
   ]
  }
 ],
 "metadata": {
  "kernelspec": {
   "display_name": "Python 3 (ipykernel)",
   "language": "python",
   "name": "python3"
  },
  "language_info": {
   "codemirror_mode": {
    "name": "ipython",
    "version": 3
   },
   "file_extension": ".py",
   "mimetype": "text/x-python",
   "name": "python",
   "nbconvert_exporter": "python",
   "pygments_lexer": "ipython3",
   "version": "3.10.4"
  }
 },
 "nbformat": 4,
 "nbformat_minor": 4
}
