{
 "cells": [
  {
   "cell_type": "code",
   "execution_count": null,
   "id": "7cc3063c",
   "metadata": {},
   "outputs": [],
   "source": [
    "# For a jupyter notebook add the following line:\n",
    "%matplotlib inline\n",
    "from mesa import Agent, Model\n",
    "from mesa.time import RandomActivation\n",
    "from mesa.space import MultiGrid\n",
    "from mesa.datacollection import DataCollector\n",
    "import matplotlib.pyplot as plt\n",
    "\n",
    "import psutil\n",
    "import os"
   ]
  },
  {
   "cell_type": "markdown",
   "id": "dc886574",
   "metadata": {},
   "source": [
    "GA PART"
   ]
  },
  {
   "cell_type": "code",
   "execution_count": null,
   "id": "d5762aab",
   "metadata": {},
   "outputs": [],
   "source": [
    "from statistics import median\n",
    "from ga_model import*\n",
    "from ga_process import*\n",
    "from ga_load import*"
   ]
  },
  {
   "cell_type": "markdown",
   "id": "1eb77682",
   "metadata": {},
   "source": [
    "# Collecting Data"
   ]
  },
  {
   "cell_type": "markdown",
   "id": "0b76d697",
   "metadata": {},
   "source": [
    "Un des principaux objectifs de la modélisation basée sur les agents est de générer des données pour l'analyse\n",
    "=> Mesa fournit une classe qui peut gérer la collecte et le stockage des données.\n",
    "\n",
    "Le collecteur de données (Data Collector) stocke trois catégories de données : \n",
    "- les variables de niveau modèle, \n",
    "- les variables de niveau agent\n",
    "- les tableaux. \n",
    "\n",
    "Les variables de niveau modèle et agent sont ajoutées au collecteur de données avec une fonction permettant de les collecter. Les fonctions de collecte au niveau du modèle prennent un objet modèle en entrée, tandis que les fonctions de collecte au niveau de l'agent prennent un objet agent en entrée. \n",
    "\n",
    "Elles renvoient ensuite une valeur calculée à partir du modèle ou de chaque agent dans leur état actuel. Lorsque la méthode collect du collecteur de données est appelée, avec un objet modèle comme argument, elle applique chaque fonction de collecte de niveau modèle au modèle, et stocke les résultats dans un dictionnaire, en associant la valeur actuelle à l'étape actuelle du modèle. De la même manière, la méthode applique chaque fonction de collecte de niveau agent à chaque agent actuellement dans le planning, en associant la valeur résultante à l'étape du modèle et à l'unique_id de l'agent.\n",
    "\n",
    "Ajoutons un DataCollector au modèle, et collectons deux variables. Au niveau de l'agent, nous voulons collecter la richesse de chaque agent à chaque étape. Au niveau du modèle, mesurons le coefficient de **Gini du modèle**, une mesure de l'inégalité de la richesse."
   ]
  },
  {
   "cell_type": "code",
   "execution_count": null,
   "id": "d0a312de",
   "metadata": {},
   "outputs": [],
   "source": [
    "def compute_gini(model):\n",
    "    agent_wealths = [agent.fitness for agent in model.schedule.agents]\n",
    "    x = sorted(agent_wealths)\n",
    "    N = model.num_agents\n",
    "    B = sum(xi * (N - i) for i, xi in enumerate(x)) / (N * sum(x))\n",
    "    #La méthode Enumerate() ajoute un compteur à un itérable et le renvoie sous la forme d'un objet d'énumération.\n",
    "    return 1 + (1 / N) - 2 * B"
   ]
  },
  {
   "cell_type": "code",
   "execution_count": null,
   "id": "e54cba7d",
   "metadata": {},
   "outputs": [],
   "source": [
    "class MoneyAgent(Agent):\n",
    "    \"\"\"An agent with fixed initial wealth.\"\"\"\n",
    "\n",
    "    def __init__(self, unique_id, model):\n",
    "        super().__init__(unique_id, model)\n",
    "        self.wealth = 1\n",
    "\n",
    "    def move(self):\n",
    "        possible_steps = self.model.grid.get_neighborhood(\n",
    "        self.pos, moore=True, include_center=False\n",
    "        )\n",
    "        new_position = self.random.choice(possible_steps)\n",
    "        self.model.grid.move_agent(self, new_position)\n",
    "\n",
    "    def give_money(self):\n",
    "        cellmates = self.model.grid.get_cell_list_contents([self.pos])\n",
    "        if len(cellmates) > 1:\n",
    "            other_agent = self.random.choice(cellmates)\n",
    "            other_agent.wealth += 1\n",
    "            self.wealth -= 1\n",
    "\n",
    "    def step(self):\n",
    "        self.move()\n",
    "        if self.wealth > 0:\n",
    "            self.give_money()\n",
    "\n",
    "class genetic_agent(Agent):\n",
    "    def __init__(self,unique_id,model,num_generation,population,rate_mutation,num_parent,num_pop,chromosome_modele=customers['CUSTOMER_CODE'].unique().tolist()):\n",
    "        super().__init__(unique_id, model)\n",
    "        self.wealth=1\n",
    "        self.num_generation=num_generation\n",
    "        self.population=population\n",
    "        self.rate_mutation=rate_mutation\n",
    "        self.num_parent=num_parent\n",
    "        self.num_pop=num_pop\n",
    "        self.chromosome_modele=chromosome_modele\n",
    "\n",
    "        self.vrp=VRP(load_customers(customers),load_vehicle(vehicles,vehicles['VEHICLE_CODE'].unique()))\n",
    "        self.modele_genetic=Modele_genetic(self.chromosome_modele,len(self.chromosome_modele))\n",
    "        self.vrp_ga=VRP_GA(self.modele_genetic,self.num_generation,self.population,self.rate_mutation,self.num_parent,self.num_pop,self.chromosome_modele,self.vrp)\n",
    "        self.population=self.vrp_ga.initialize_population(self.num_pop,self.chromosome_modele)  \n",
    "        self.fitness=float('-inf')\n",
    "\n",
    "\n",
    "        for i in range(num_generation):\n",
    "            self.population=self.vrp_ga.evolution(self.modele_genetic,self.num_parent,self.population,self.rate_mutation,self.num_pop,self.chromosome_modele)\n",
    "        for i in self.population:\n",
    "            self.fitness=max(self.fitness,self.modele_genetic.fitness(i))\n",
    "\n",
    "    def move(self):\n",
    "        possible_steps = self.model.grid.get_neighborhood(\n",
    "        self.pos, moore=True, include_center=False\n",
    "        )\n",
    "        new_position = self.random.choice(possible_steps)\n",
    "        self.model.grid.move_agent(self, new_position)\n",
    "        # self.population=self.vrp_ga.evolution(self.modele_genetic,self.num_parent,self.population,self.rate_mutation,self.num_pop,self.chromosome_modele)\n",
    "    def step(self):\n",
    "        self.move()\n",
    "        \n",
    "\n",
    "class MoneyModel(Model):\n",
    "    \"\"\"A model with some number of agents.\"\"\"\n",
    "\n",
    "    def __init__(self, N, width, height):\n",
    "        self.num_agents = N\n",
    "        self.grid = MultiGrid(width, height, True)\n",
    "        self.schedule = RandomActivation(self)\n",
    "        # Create agents\n",
    "        for i in range(self.num_agents):\n",
    "            a = genetic_agent(i,self,5,[],0.05,4,10)\n",
    "            self.schedule.add(a)\n",
    "            # Add the agent to a random grid cell\n",
    "            x = self.random.randrange(self.grid.width)\n",
    "            y = self.random.randrange(self.grid.height)\n",
    "            self.grid.place_agent(a, (x, y))\n",
    "            \n",
    "\n",
    "                 #data Collection\n",
    "        self.datacollector = DataCollector(\n",
    "            model_reporters={\"Gini\": compute_gini}, agent_reporters={\"Wealth\": \"wealth\"}\n",
    "        )\n",
    "\n",
    "    def step(self):\n",
    "        self.datacollector.collect(self)\n",
    "        self.schedule.step()"
   ]
  },
  {
   "cell_type": "markdown",
   "id": "5499d179",
   "metadata": {},
   "source": [
    "## Execution du modèle\n",
    "À chaque étape du modèle, le collecteur de données collectera et stockera le coefficient de Gini actuel au niveau du modèle, ainsi que la richesse de chaque agent, en les associant à l'étape actuelle.\n",
    "\n",
    "Nous exécutons le modèle.   \n",
    "Le DataCollector peut exporter les données qu'il a collectées sous forme de DataFrame pandas, pour une analyse interactive facile."
   ]
  },
  {
   "cell_type": "code",
   "execution_count": null,
   "id": "62395b91",
   "metadata": {},
   "outputs": [],
   "source": [
    "model = MoneyModel(5, 10, 10)\n",
    "for i in range(3):\n",
    "    model.step()"
   ]
  },
  {
   "cell_type": "markdown",
   "id": "78a48e06",
   "metadata": {},
   "source": [
    "## Pour obtenir la série de coefficients de Gini sous forme de DataFrame pandas :"
   ]
  },
  {
   "cell_type": "code",
   "execution_count": null,
   "id": "b5a9a28a",
   "metadata": {},
   "outputs": [],
   "source": [
    "gini = model.datacollector.get_model_vars_dataframe()\n",
    "gini.plot()"
   ]
  },
  {
   "cell_type": "code",
   "execution_count": null,
   "id": "964074ff",
   "metadata": {},
   "outputs": [],
   "source": [
    "agent_wealth = model.datacollector.get_agent_vars_dataframe()\n",
    "agent_wealth.plot()"
   ]
  },
  {
   "cell_type": "markdown",
   "id": "34bf7965",
   "metadata": {},
   "source": [
    "Gestion d'espace"
   ]
  },
  {
   "cell_type": "code",
   "execution_count": null,
   "id": "920d63ba",
   "metadata": {},
   "outputs": [],
   "source": [
    "print(u'space usage：%.4f GB' % (psutil.Process(os.getpid()).memory_info().rss / 1024 / 1024 / 1024) )\n"
   ]
  },
  {
   "cell_type": "code",
   "execution_count": null,
   "id": "584ce1eb",
   "metadata": {
    "scrolled": true
   },
   "outputs": [],
   "source": [
    "end_wealth = agent_wealth.xs(99, level=\"Step\")[\"Wealth\"]\n",
    "end_wealth.hist(bins=range(agent_wealth.Wealth.max() + 1))"
   ]
  },
  {
   "cell_type": "markdown",
   "id": "76beb4fb",
   "metadata": {},
   "source": [
    "- L'index du DataFrame est constitué de **paires d'étapes de modèle et d'ID d'agent**.   \n",
    "- Vous pouvez l'analyser comme vous le feriez pour n'importe quel autre DataFrame. \n",
    "Par exemple, pour obtenir un histogramme de la richesse des agents à la fin du modèle :"
   ]
  },
  {
   "cell_type": "markdown",
   "id": "b8a5ae91",
   "metadata": {},
   "source": [
    "# Agents sur la grille"
   ]
  },
  {
   "cell_type": "code",
   "execution_count": null,
   "id": "e4070b36",
   "metadata": {},
   "outputs": [],
   "source": [
    "import numpy as np\n",
    "\n",
    "agent_counts = np.zeros((model.grid.width, model.grid.height))\n",
    "for cell in model.grid.coord_iter():\n",
    "    cell_content, x, y = cell\n",
    "    agent_count = len(cell_content)\n",
    "    agent_counts[x][y] = agent_count\n",
    "plt.imshow(agent_counts, interpolation=\"nearest\")\n",
    "plt.colorbar()\n",
    "\n",
    "# If running from a text editor or IDE, remember you'll need the following:\n",
    "# plt.show()\n",
    "    "
   ]
  },
  {
   "cell_type": "code",
   "execution_count": null,
   "id": "b6c82943",
   "metadata": {},
   "outputs": [],
   "source": [
    "\n",
    "plt.show()\n",
    "\n",
    "\n",
    "\n",
    "agent_wealth = [a.wealth for a in model.schedule.agents]\n",
    "plt.hist(agent_wealth)\n",
    "\n"
   ]
  },
  {
   "cell_type": "code",
   "execution_count": null,
   "id": "3290c618",
   "metadata": {},
   "outputs": [],
   "source": []
  },
  {
   "cell_type": "code",
   "execution_count": null,
   "metadata": {},
   "outputs": [],
   "source": []
  }
 ],
 "metadata": {
  "kernelspec": {
   "display_name": "Python 3 (ipykernel)",
   "language": "python",
   "name": "python3"
  },
  "language_info": {
   "codemirror_mode": {
    "name": "ipython",
    "version": 3
   },
   "file_extension": ".py",
   "mimetype": "text/x-python",
   "name": "python",
   "nbconvert_exporter": "python",
   "pygments_lexer": "ipython3",
   "version": "3.10.2"
  }
 },
 "nbformat": 4,
 "nbformat_minor": 5
}
