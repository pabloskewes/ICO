{
 "cells": [
  {
   "cell_type": "markdown",
   "id": "b3c000cc-3752-4b5b-a7bc-6e9117c5414e",
   "metadata": {},
   "source": [
    "# RESUME LIVRABLE 1 - ICO\n",
    "### Nicolas ACEVEDO - Marie LENGLET - Pablo SKEWES - Yuzhe YAO"
   ]
  },
  {
   "cell_type": "markdown",
   "id": "dbf4c979-d531-46f1-8c4d-b6567fd6ee03",
   "metadata": {},
   "source": [
    "## Importation des librairies et modules propres."
   ]
  },
  {
   "cell_type": "code",
   "execution_count": 22,
   "id": "6447ef43-491b-4c97-a65b-0ad7534932cc",
   "metadata": {},
   "outputs": [],
   "source": [
    "import pandas as pd\n",
    "import numpy as np\n",
    "from pprint import pprint\n",
    "import matplotlib.pyplot as plt\n",
    "\n",
    "from classes_ico import Vehicle, Customer, VRPTW\n",
    "from loading_models import load_solomon, create_vrptw\n",
    "from loading_models import CUSTOMER_DIR, DEPOTS_DIR, VEHICLES_DIR, DEPOTS_DISTANCES_DIR, CUSTOMER_DISTANCES_DIR\n",
    "from solution import solution_checker, list_routes_to_sol, random_solution, generate_cost_function"
   ]
  },
  {
   "cell_type": "markdown",
   "id": "05d7df65-4724-481b-8e66-8c67e6585321",
   "metadata": {},
   "source": [
    "## Instanciation du problème "
   ]
  },
  {
   "cell_type": "markdown",
   "id": "fc7c4485-24a8-4a78-88da-34dc37c701be",
   "metadata": {},
   "source": [
    "On crée une instance simple de VRPTW"
   ]
  },
  {
   "cell_type": "code",
   "execution_count": 2,
   "id": "d8caaa76-d843-4763-a9a6-af0f76709511",
   "metadata": {},
   "outputs": [],
   "source": [
    "vrptw = load_solomon('simple.csv', nb_cust=10, vehicle_speed=100)"
   ]
  },
  {
   "cell_type": "markdown",
   "id": "4069688d-a402-4ad7-a8e7-b0151c36df60",
   "metadata": {},
   "source": [
    "On set la fonction de cost au contexte du VRPTW choisit"
   ]
  },
  {
   "cell_type": "code",
   "execution_count": 12,
   "id": "b5b7d04a-5f9c-43c0-8d6a-c1b94c56d9fc",
   "metadata": {},
   "outputs": [],
   "source": [
    "cost = generate_cost_function(vrptw=vrptw, omega=1000, verbose=0)"
   ]
  },
  {
   "cell_type": "markdown",
   "id": "4c801184-be0d-4716-88f0-e6afb53fcc53",
   "metadata": {},
   "source": [
    "On crée 10 solutions random de taille 10 customers"
   ]
  },
  {
   "cell_type": "code",
   "execution_count": 3,
   "id": "43130527-2f28-4d80-b378-d511bc1e2b42",
   "metadata": {
    "collapsed": true,
    "jupyter": {
     "outputs_hidden": true
    },
    "tags": []
   },
   "outputs": [
    {
     "name": "stdout",
     "output_type": "stream",
     "text": [
      "Solution generated is not legitimate, a new one will be created.\n",
      "Solution generated is not legitimate, a new one will be created.\n",
      "Solution generated is not legitimate, a new one will be created.\n",
      "Solution generated is not legitimate, a new one will be created.\n",
      "Solution generated is not legitimate, a new one will be created.\n",
      "Solution generated is not legitimate, a new one will be created.\n",
      "Solution generated is not legitimate, a new one will be created.\n",
      "Solution generated is not legitimate, a new one will be created.\n",
      "Solution generated is not legitimate, a new one will be created.\n",
      "Solution generated is not legitimate, a new one will be created.\n"
     ]
    }
   ],
   "source": [
    "solutions = [random_solution(10, force_check_vrptw=vrptw, verbose=1) for _ in range(10)]"
   ]
  },
  {
   "cell_type": "markdown",
   "id": "0c371119-0a2f-4356-824f-a1db860c47ff",
   "metadata": {},
   "source": [
    "On verify q toutes les solutions crées sont en effet des solutions :"
   ]
  },
  {
   "cell_type": "code",
   "execution_count": 4,
   "id": "e19581e6-ff7f-49a4-bbd3-42af3b6adc21",
   "metadata": {},
   "outputs": [
    {
     "data": {
      "text/plain": [
       "True"
      ]
     },
     "execution_count": 4,
     "metadata": {},
     "output_type": "execute_result"
    }
   ],
   "source": [
    "all((solution_checker(vrptw, sol) for sol in solutions))"
   ]
  },
  {
   "cell_type": "markdown",
   "id": "5fd71955-32fb-46e6-89ed-3f38edb0f62b",
   "metadata": {},
   "source": [
    "## Application d'algorithmes heuristiques"
   ]
  },
  {
   "cell_type": "markdown",
   "id": "bf3fb122-dad7-4d17-ba8c-dabfe9494681",
   "metadata": {},
   "source": [
    "### Liste tabou"
   ]
  },
  {
   "cell_type": "markdown",
   "id": "3b454556-b426-40aa-9bdd-72f6d0fb0425",
   "metadata": {},
   "source": [
    "Importation du code"
   ]
  },
  {
   "cell_type": "code",
   "execution_count": 5,
   "id": "2a6c31d6-f705-4cca-ad77-6f100343ed01",
   "metadata": {},
   "outputs": [],
   "source": [
    "from tabu_list import tabu_method"
   ]
  },
  {
   "cell_type": "markdown",
   "id": "b88e3ca6-5ae2-4a8d-bdcd-80e5112afe5f",
   "metadata": {},
   "source": [
    "Application de la méthode de la liste tabou dans nos 10 solutions."
   ]
  },
  {
   "cell_type": "code",
   "execution_count": 7,
   "id": "d5649981-5125-461e-91dd-46517e783ca9",
   "metadata": {
    "tags": []
   },
   "outputs": [
    {
     "name": "stdout",
     "output_type": "stream",
     "text": [
      "Working on solution 1/10\n",
      "Working on solution 2/10\n",
      "Working on solution 3/10\n",
      "Working on solution 4/10\n",
      "Working on solution 5/10\n",
      "Working on solution 6/10\n",
      "Working on solution 7/10\n",
      "Working on solution 8/10\n",
      "Working on solution 9/10\n",
      "Working on solution 10/10\n"
     ]
    }
   ],
   "source": [
    "tabu_solutions = []\n",
    "for i, solution in enumerate(solutions):\n",
    "    print(f'Working on solution {i+1}/10')\n",
    "    tabu_sol = tabu_method(vrptw, solution)\n",
    "    tabu_solutions.append(tabu_sol)"
   ]
  },
  {
   "cell_type": "markdown",
   "id": "e9683bff-9460-4e86-a451-978d6b11e581",
   "metadata": {},
   "source": [
    "On verify q toutes les solutions crées avec la méthode Tabou sont en effet des solutions :"
   ]
  },
  {
   "cell_type": "code",
   "execution_count": 9,
   "id": "ff0a4b62-de48-479d-8079-66b87d7d1708",
   "metadata": {},
   "outputs": [
    {
     "data": {
      "text/plain": [
       "True"
      ]
     },
     "execution_count": 9,
     "metadata": {},
     "output_type": "execute_result"
    }
   ],
   "source": [
    "all((solution_checker(vrptw, sol) for sol in tabu_solutions))"
   ]
  },
  {
   "cell_type": "markdown",
   "id": "e9d4e717-ed19-4d00-9f33-089b029b8a61",
   "metadata": {},
   "source": [
    "### Recuit Simulé"
   ]
  },
  {
   "cell_type": "markdown",
   "id": "411ec6ae-fde6-4a1d-91c2-f8b93c326c1f",
   "metadata": {},
   "source": [
    "Importation du code"
   ]
  },
  {
   "cell_type": "code",
   "execution_count": 16,
   "id": "ca8c28b6-3455-4176-919d-d4ec08c04db7",
   "metadata": {},
   "outputs": [],
   "source": [
    "from recruit_simulee import simulated_annealing"
   ]
  },
  {
   "cell_type": "markdown",
   "id": "3ef770b4-8032-48c0-8aa5-48410f63192d",
   "metadata": {},
   "source": [
    "Application de la méthode de la liste tabou dans nos 10 solutions."
   ]
  },
  {
   "cell_type": "code",
   "execution_count": 18,
   "id": "31a0a504-9cb7-41b3-8f36-eec2a95a7b4a",
   "metadata": {
    "tags": []
   },
   "outputs": [
    {
     "name": "stdout",
     "output_type": "stream",
     "text": [
      "Working on solution 1/10\n",
      "Working on solution 2/10\n",
      "Working on solution 3/10\n",
      "Working on solution 4/10\n",
      "Working on solution 5/10\n",
      "Working on solution 6/10\n",
      "Working on solution 7/10\n",
      "Working on solution 8/10\n",
      "Working on solution 9/10\n",
      "Working on solution 10/10\n"
     ]
    }
   ],
   "source": [
    "rs_solutions = []\n",
    "for i, solution in enumerate(solutions):\n",
    "    print(f'Working on solution {i+1}/10')\n",
    "    rs_sol = simulated_annealing(vrptw, solution, T0=30)\n",
    "    rs_solutions.append(rs_sol)"
   ]
  },
  {
   "cell_type": "markdown",
   "id": "de77d1c2-add9-4f34-a048-b4710e6349a8",
   "metadata": {},
   "source": [
    "On verify q toutes les solutions crées avec la méthode Tabou sont en effet des solutions :"
   ]
  },
  {
   "cell_type": "code",
   "execution_count": 19,
   "id": "408d647e-04de-4619-8cf9-c155e2c5ea44",
   "metadata": {},
   "outputs": [
    {
     "data": {
      "text/plain": [
       "True"
      ]
     },
     "execution_count": 19,
     "metadata": {},
     "output_type": "execute_result"
    }
   ],
   "source": [
    "all((solution_checker(vrptw, sol) for sol in rs_solutions))"
   ]
  },
  {
   "cell_type": "markdown",
   "id": "807537bb-d5c1-4dd7-8f0d-5891df16ac3e",
   "metadata": {},
   "source": [
    "## Résultats"
   ]
  },
  {
   "cell_type": "code",
   "execution_count": 21,
   "id": "2110a0da-a069-4cd1-bf40-0036bc4fdd70",
   "metadata": {},
   "outputs": [
    {
     "data": {
      "text/html": [
       "<div>\n",
       "<style scoped>\n",
       "    .dataframe tbody tr th:only-of-type {\n",
       "        vertical-align: middle;\n",
       "    }\n",
       "\n",
       "    .dataframe tbody tr th {\n",
       "        vertical-align: top;\n",
       "    }\n",
       "\n",
       "    .dataframe thead th {\n",
       "        text-align: right;\n",
       "    }\n",
       "</style>\n",
       "<table border=\"1\" class=\"dataframe\">\n",
       "  <thead>\n",
       "    <tr style=\"text-align: right;\">\n",
       "      <th></th>\n",
       "      <th>Initial Solution</th>\n",
       "      <th>Solution after Tabou List</th>\n",
       "      <th>Solutions after RS</th>\n",
       "    </tr>\n",
       "  </thead>\n",
       "  <tbody>\n",
       "    <tr>\n",
       "      <th>0</th>\n",
       "      <td>4286.818543</td>\n",
       "      <td>2048.284271</td>\n",
       "      <td>2102.624055</td>\n",
       "    </tr>\n",
       "    <tr>\n",
       "      <th>1</th>\n",
       "      <td>4392.336364</td>\n",
       "      <td>2048.284271</td>\n",
       "      <td>2102.624055</td>\n",
       "    </tr>\n",
       "    <tr>\n",
       "      <th>2</th>\n",
       "      <td>4607.392856</td>\n",
       "      <td>2076.568542</td>\n",
       "      <td>2076.568542</td>\n",
       "    </tr>\n",
       "    <tr>\n",
       "      <th>3</th>\n",
       "      <td>4582.344072</td>\n",
       "      <td>2048.284271</td>\n",
       "      <td>2083.245553</td>\n",
       "    </tr>\n",
       "    <tr>\n",
       "      <th>4</th>\n",
       "      <td>4597.347202</td>\n",
       "      <td>2048.284271</td>\n",
       "      <td>2110.746384</td>\n",
       "    </tr>\n",
       "    <tr>\n",
       "      <th>5</th>\n",
       "      <td>3378.748804</td>\n",
       "      <td>2048.284271</td>\n",
       "      <td>2085.764912</td>\n",
       "    </tr>\n",
       "    <tr>\n",
       "      <th>6</th>\n",
       "      <td>4479.702076</td>\n",
       "      <td>2048.284271</td>\n",
       "      <td>2076.568542</td>\n",
       "    </tr>\n",
       "    <tr>\n",
       "      <th>7</th>\n",
       "      <td>3504.853611</td>\n",
       "      <td>2076.568542</td>\n",
       "      <td>2083.245553</td>\n",
       "    </tr>\n",
       "    <tr>\n",
       "      <th>8</th>\n",
       "      <td>2234.116310</td>\n",
       "      <td>2048.284271</td>\n",
       "      <td>2102.462113</td>\n",
       "    </tr>\n",
       "    <tr>\n",
       "      <th>9</th>\n",
       "      <td>5613.376299</td>\n",
       "      <td>2083.245553</td>\n",
       "      <td>2048.284271</td>\n",
       "    </tr>\n",
       "  </tbody>\n",
       "</table>\n",
       "</div>"
      ],
      "text/plain": [
       "   Initial Solution  Solution after Tabou List  Solutions after RS\n",
       "0       4286.818543                2048.284271         2102.624055\n",
       "1       4392.336364                2048.284271         2102.624055\n",
       "2       4607.392856                2076.568542         2076.568542\n",
       "3       4582.344072                2048.284271         2083.245553\n",
       "4       4597.347202                2048.284271         2110.746384\n",
       "5       3378.748804                2048.284271         2085.764912\n",
       "6       4479.702076                2048.284271         2076.568542\n",
       "7       3504.853611                2076.568542         2083.245553\n",
       "8       2234.116310                2048.284271         2102.462113\n",
       "9       5613.376299                2083.245553         2048.284271"
      ]
     },
     "execution_count": 21,
     "metadata": {},
     "output_type": "execute_result"
    }
   ],
   "source": [
    "df = pd.DataFrame({'Initial Solution': map(cost, solutions),\n",
    "                   'Solution after Tabou List': map(cost, tabu_solutions),\n",
    "                  'Solutions after RS': map(cost, rs_solutions)})\n",
    "df"
   ]
  },
  {
   "cell_type": "markdown",
   "id": "ae857848-dc86-4422-a430-6ec2bbcfe964",
   "metadata": {},
   "source": [
    "Nous pouvons voir comment, grâce aux méthodes heuristiques utilisées, un pool initial de solutions peut être considérablement amélioré."
   ]
  },
  {
   "cell_type": "code",
   "execution_count": 31,
   "id": "9b073cfe-a629-4478-a252-d1ca1696c062",
   "metadata": {},
   "outputs": [
    {
     "data": {
      "image/png": "[encoded data removed]",
      "text/plain": [
       "<Figure size 432x288 with 1 Axes>"
      ]
     },
     "metadata": {
      "needs_background": "light"
     },
     "output_type": "display_data"
    }
   ],
   "source": [
    "plt.scatter(x=list(range(10)), y=list(map(cost, solutions)), label='Initial Solution')\n",
    "plt.scatter(x=list(range(10)), y=list(map(cost, tabu_solutions)), label='Tabu List Solution')\n",
    "plt.scatter(x=list(range(10)), y=list(map(cost, rs_solutions)), label='RS Solution')\n",
    "plt.xlabel('# of solution')\n",
    "plt.ylabel('Cost of solution')\n",
    "plt.title('Scatter plot of 10 random solutions of a simple VRPTW instance, compared to 10 results obtained using TabuList and RS algorithms');"
   ]
  }
 ],
 "metadata": {
  "kernelspec": {
   "display_name": "Python 3",
   "language": "python",
   "name": "python3"
  },
  "language_info": {
   "codemirror_mode": {
    "name": "ipython",
    "version": 3
   },
   "file_extension": ".py",
   "mimetype": "text/x-python",
   "name": "python",
   "nbconvert_exporter": "python",
   "pygments_lexer": "ipython3",
   "version": "3.8.8"
  }
 },
 "nbformat": 4,
 "nbformat_minor": 5
}
