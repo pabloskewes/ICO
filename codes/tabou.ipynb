{
 "cells": [
  {
   "cell_type": "code",
   "execution_count": 1,
   "id": "eb3baea2-39f0-41e8-94a1-a1ff1dede7b4",
   "metadata": {},
   "outputs": [],
   "source": [
    "from neighborhood import Neighborhood\n",
    "from loading_models import load_solomon\n",
    "from classes_ico import Vehicle, Customer, VRPTW\n",
    "from solution import solution_checker, list_routes_to_sol, generate_cost_function, random_solution\n",
    "from tabu_list import tabu_method"
   ]
  },
  {
   "cell_type": "code",
   "execution_count": 3,
   "id": "33d68bdd-3253-4561-8580-c33506908106",
   "metadata": {},
   "outputs": [
    {
     "name": "stdout",
     "output_type": "stream",
     "text": [
      "The vehicle is getting to late (1042.2492235949962): customers' (4) time window's closed 1000\n",
      "Solution generated is not legitimate, a new one will be created.\n",
      "The vehicle is getting to late (741.5941170815568): customers' (8) time window's closed 500\n",
      "The vehicle is getting to late (999.0542058254744): customers' (8) time window's closed 500\n",
      "The vehicle gets there after the end of the time window (567.5941170815568 > 500)\n",
      "The vehicle is getting to late (1051.970562748477): customers' (3) time window's closed 500\n",
      "The vehicle is getting to late (1144.1659407099216): customers' (4) time window's closed 1000\n",
      "The vehicle is getting to late (857.2492235949962): customers' (7) time window's closed 400\n",
      "The vehicle is getting to late (1042.2492235949962): customers' (8) time window's closed 500\n",
      "The vehicle is getting to late (1148.85882786403): customers' (8) time window's closed 500\n",
      "The vehicle is getting to late (921.0): customers' (7) time window's closed 400\n",
      "The vehicle gets there after the end of the time window (1039.9857113690719 > 1000)\n",
      "The vehicle is getting to late (1036.9857113690719): customers' (9) time window's closed 1000\n",
      "The vehicle is getting to late (1131.0793984557954): customers' (5) time window's closed 500\n",
      "The vehicle is getting to late (1115.5607226837842): customers' (6) time window's closed 900\n",
      "The vehicle is getting to late (645.633307652784): customers' (8) time window's closed 500\n",
      "The vehicle is getting to late (1026.0): customers' (5) time window's closed 500\n",
      "The vehicle is getting to late (1042.2492235949962): customers' (8) time window's closed 500\n",
      "The vehicle is getting to late (1108.50120052595): customers' (3) time window's closed 500\n",
      "The vehicle is getting to late (480.94112549695427): customers' (7) time window's closed 400\n",
      "The vehicle is getting to late (872.3172667437573): customers' (5) time window's closed 500\n",
      "The vehicle is getting to late (636.0): customers' (7) time window's closed 400\n",
      "The vehicle is getting to late (743.310988842807): customers' (7) time window's closed 400\n",
      "The vehicle is getting to late (741.5941170815568): customers' (8) time window's closed 500\n",
      "The vehicle gets there after the end of the time window (567.5941170815568 > 500)\n",
      "The vehicle is getting to late (1131.633307652784): customers' (9) time window's closed 1000\n",
      "The vehicle is getting to late (673.477267507412): customers' (3) time window's closed 500\n",
      "The vehicle is getting to late (741.5941170815568): customers' (8) time window's closed 500\n",
      "The vehicle is getting to late (673.477267507412): customers' (3) time window's closed 500\n",
      "The vehicle is getting to late (1079.0748631445715): customers' (7) time window's closed 400\n",
      "[0, 7, 0, 1, 0, 5, 4, 2, 0, 3, 0, 8, 9, 6, 10]\n"
     ]
    }
   ],
   "source": [
    "vrptw = load_solomon('simple.csv', nb_cust=10, vehicle_speed=100)\n",
    "solutions = [random_solution(10, force_check_vrptw=vrptw, verbose=1)]\n",
    "sol_test = solutions[0]\n",
    "print(sol_test)"
   ]
  },
  {
   "cell_type": "code",
   "execution_count": 5,
   "id": "4b971595-36fd-41a9-8ae8-49635d5bb57e",
   "metadata": {},
   "outputs": [
    {
     "data": {
      "text/plain": [
       "True"
      ]
     },
     "execution_count": 5,
     "metadata": {},
     "output_type": "execute_result"
    }
   ],
   "source": [
    "all((solution_checker(vrptw, sol) for sol in solutions))"
   ]
  },
  {
   "cell_type": "code",
   "execution_count": 6,
   "id": "b10924cb-a2e8-4219-9143-7b0b50d07221",
   "metadata": {},
   "outputs": [],
   "source": [
    "new_sol = tabu_method(vrptw, sol_test)"
   ]
  },
  {
   "cell_type": "code",
   "execution_count": 7,
   "id": "43939562-fe77-4733-8dfc-b8e13860f76b",
   "metadata": {},
   "outputs": [
    {
     "name": "stdout",
     "output_type": "stream",
     "text": [
      "[0, 7, 0, 1, 0, 5, 2, 4, 0, 3, 0]\n"
     ]
    }
   ],
   "source": [
    "print(new_sol)"
   ]
  },
  {
   "cell_type": "code",
   "execution_count": 8,
   "id": "c3ea14ad-38da-49e9-92f6-e265fb4cdded",
   "metadata": {},
   "outputs": [
    {
     "name": "stdout",
     "output_type": "stream",
     "text": [
      "All customers are not visited.\n"
     ]
    },
    {
     "data": {
      "text/plain": [
       "False"
      ]
     },
     "execution_count": 8,
     "metadata": {},
     "output_type": "execute_result"
    }
   ],
   "source": [
    "solution_checker(vrptw, new_sol)"
   ]
  },
  {
   "cell_type": "code",
   "execution_count": 8,
   "id": "9449602c-4825-4a24-9caf-f69de47fedbe",
   "metadata": {},
   "outputs": [
    {
     "name": "stdout",
     "output_type": "stream",
     "text": [
      "9670.267129187581\n",
      "9670.267129187581\n"
     ]
    }
   ],
   "source": [
    "cost = generate_cost_function(vrptw, omega=1000, verbose=0)\n",
    "print(cost(sol_test))\n",
    "print(cost(new_sol))"
   ]
  }
 ],
 "metadata": {
  "kernelspec": {
   "display_name": "Python 3",
   "language": "python",
   "name": "python3"
  },
  "language_info": {
   "codemirror_mode": {
    "name": "ipython",
    "version": 3
   },
   "file_extension": ".py",
   "mimetype": "text/x-python",
   "name": "python",
   "nbconvert_exporter": "python",
   "pygments_lexer": "ipython3",
   "version": "3.8.8"
  }
 },
 "nbformat": 4,
 "nbformat_minor": 5
}
