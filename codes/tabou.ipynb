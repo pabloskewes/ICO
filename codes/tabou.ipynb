{
 "cells": [
  {
   "cell_type": "code",
   "execution_count": 7,
   "id": "eb3baea2-39f0-41e8-94a1-a1ff1dede7b4",
   "metadata": {},
   "outputs": [],
   "source": [
    "from neighborhood import Neighborhood\n",
    "from loading_models import load_solomon\n",
    "from classes_ico import Vehicle, Customer, VRPTW\n",
    "from solution import solution_checker, list_routes_to_sol, generate_cost_function, random_solution\n",
    "from tabu_list import tabu_method"
   ]
  },
  {
   "cell_type": "code",
   "execution_count": 3,
   "id": "33d68bdd-3253-4561-8580-c33506908106",
   "metadata": {},
   "outputs": [
    {
     "name": "stdout",
     "output_type": "stream",
     "text": [
      "[0, 9, 20, 1, 0, 11, 19, 10, 0, 14, 15, 13, 0, 12, 22, 4, 25, 0, 5, 16, 6, 0, 7, 8, 17, 0, 2, 21, 0, 18, 0, 23, 3, 24, 0]\n"
     ]
    }
   ],
   "source": [
    "vrptw = load_solomon('simple.csv', nb_cust=10, vehicle_speed=100)\n",
    "sol_pool = [random_solution(10, force_check_vrptw)]\n",
    "solutions = [list_routes_to_sol(sol) for sol in sol_pool]\n",
    "sol_test = solutions[0]\n",
    "print(sol_test)"
   ]
  },
  {
   "cell_type": "code",
   "execution_count": 4,
   "id": "b10924cb-a2e8-4219-9143-7b0b50d07221",
   "metadata": {},
   "outputs": [],
   "source": [
    "new_sol = tabu_method(vrptw, sol_test)"
   ]
  },
  {
   "cell_type": "code",
   "execution_count": 6,
   "id": "43939562-fe77-4733-8dfc-b8e13860f76b",
   "metadata": {},
   "outputs": [
    {
     "name": "stdout",
     "output_type": "stream",
     "text": [
      "[0, 9, 20, 1, 0, 11, 19, 10, 0, 14, 15, 13, 0, 12, 22, 4, 25, 0, 5, 16, 6, 0, 7, 8, 17, 0, 2, 21, 0, 18, 0, 23, 3, 24, 0]\n"
     ]
    }
   ],
   "source": [
    "print(new_sol)"
   ]
  },
  {
   "cell_type": "code",
   "execution_count": 8,
   "id": "9449602c-4825-4a24-9caf-f69de47fedbe",
   "metadata": {},
   "outputs": [
    {
     "name": "stdout",
     "output_type": "stream",
     "text": [
      "9670.267129187581\n",
      "9670.267129187581\n"
     ]
    }
   ],
   "source": [
    "cost = generate_cost_function(vrptw, omega=1000, verbose=0)\n",
    "print(cost(sol_test))\n",
    "print(cost(new_sol))"
   ]
  }
 ],
 "metadata": {
  "kernelspec": {
   "display_name": "Python 3",
   "language": "python",
   "name": "python3"
  },
  "language_info": {
   "codemirror_mode": {
    "name": "ipython",
    "version": 3
   },
   "file_extension": ".py",
   "mimetype": "text/x-python",
   "name": "python",
   "nbconvert_exporter": "python",
   "pygments_lexer": "ipython3",
   "version": "3.8.8"
  }
 },
 "nbformat": 4,
 "nbformat_minor": 5
}
