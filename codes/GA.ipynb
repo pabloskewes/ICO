{
 "cells": [
  {
   "cell_type": "code",
   "execution_count": 32,
   "metadata": {},
   "outputs": [
    {
     "name": "stdout",
     "output_type": "stream",
     "text": [
      "The autoreload extension is already loaded. To reload it, use:\n",
      "  %reload_ext autoreload\n"
     ]
    }
   ],
   "source": [
    "%load_ext autoreload\n",
    "%autoreload 3\n",
    "%aimport ga_process\n",
    "%aimport ga_model\n",
    "%aimport ga_load"
   ]
  },
  {
   "cell_type": "code",
   "execution_count": 35,
   "metadata": {},
   "outputs": [],
   "source": [
    "from statistics import median\n",
    "from ga_model import*\n",
    "from ga_process import*\n",
    "from ga_load import*\n",
    "\n",
    "def init_vrpga():\n",
    "    chromosome_modele=customers['CUSTOMER_CODE'].unique().tolist()\n",
    "    len_chromosome=len(chromosome_modele)\n",
    "\n",
    "    num_generation=20\n",
    "    population=[]\n",
    "    rate_mutation=0.05\n",
    "    num_parent=4\n",
    "    num_pop=20\n",
    "\n",
    "    penalty_wrong_chromosome=1000000\n",
    "    penalty_car_road=1000\n",
    "    penalty_late=100\n",
    "    penalty_volumn=10\n",
    "    penalty_weight=10\n",
    "    cost_per_car=500\n",
    "    cost_per_km=10\n",
    "\n",
    "    vrp=VRP(load_customers(customers),load_vehicle(vehicles,vehicles['VEHICLE_CODE'].unique()))\n",
    "    modele_genetic=Modele_genetic(chromosome_modele,len_chromosome,penalty_wrong_chromosome,penalty_car_road,penalty_late,penalty_volumn,penalty_weight,cost_per_car,cost_per_km)\n",
    "    vrp_ga=VRP_GA(modele_genetic,num_generation,population,rate_mutation,num_parent,num_pop,chromosome_modele,vrp)\n",
    "    vrp_ga.initialize_population(num_pop,chromosome_modele)\n",
    "\n",
    "    for i in range(num_generation):\n",
    "        vrp_ga.evolution(modele_genetic,num_parent,vrp_ga.population,rate_mutation,num_pop,chromosome_modele)\n",
    "\n",
    "    return vrp_ga\n",
    "\n",
    "def step(vrp_ga):\n",
    "    vrp_ga.evolution()\n"
   ]
  },
  {
   "cell_type": "code",
   "execution_count": 36,
   "metadata": {},
   "outputs": [],
   "source": [
    "MA={}\n",
    "MA[1,34]=31"
   ]
  },
  {
   "cell_type": "code",
   "execution_count": 37,
   "metadata": {},
   "outputs": [],
   "source": [
    "MA[34,1]=23"
   ]
  },
  {
   "cell_type": "code",
   "execution_count": 38,
   "metadata": {},
   "outputs": [
    {
     "data": {
      "text/plain": [
       "{(1, 34): 31, (34, 1): 23}"
      ]
     },
     "execution_count": 38,
     "metadata": {},
     "output_type": "execute_result"
    }
   ],
   "source": [
    "MA"
   ]
  },
  {
   "cell_type": "code",
   "execution_count": 40,
   "metadata": {},
   "outputs": [],
   "source": [
    "demand_id_list=[3,23,43,15]"
   ]
  },
  {
   "cell_type": "code",
   "execution_count": 41,
   "metadata": {},
   "outputs": [
    {
     "ename": "NameError",
     "evalue": "name 'depot' is not defined",
     "output_type": "error",
     "traceback": [
      "\u001b[1;31m---------------------------------------------------------------------------\u001b[0m",
      "\u001b[1;31mNameError\u001b[0m                                 Traceback (most recent call last)",
      "\u001b[1;32md:\\Git\\dir\\ICO\\codes\\GA.ipynb Cell 7'\u001b[0m in \u001b[0;36m<cell line: 1>\u001b[1;34m()\u001b[0m\n\u001b[1;32m----> <a href='vscode-notebook-cell:/d%3A/Git/dir/ICO/codes/GA.ipynb#ch0000016?line=0'>1</a>\u001b[0m Pred\u001b[39m=\u001b[39m{\u001b[39mid\u001b[39m:depot \u001b[39mfor\u001b[39;00m \u001b[39mid\u001b[39m \u001b[39min\u001b[39;00m demand_id_list}\n",
      "\u001b[1;32md:\\Git\\dir\\ICO\\codes\\GA.ipynb Cell 7'\u001b[0m in \u001b[0;36m<dictcomp>\u001b[1;34m(.0)\u001b[0m\n\u001b[1;32m----> <a href='vscode-notebook-cell:/d%3A/Git/dir/ICO/codes/GA.ipynb#ch0000016?line=0'>1</a>\u001b[0m Pred\u001b[39m=\u001b[39m{\u001b[39mid\u001b[39m:depot \u001b[39mfor\u001b[39;00m \u001b[39mid\u001b[39m \u001b[39min\u001b[39;00m demand_id_list}\n",
      "\u001b[1;31mNameError\u001b[0m: name 'depot' is not defined"
     ]
    }
   ],
   "source": [
    "Pred={id:depot for id in demand_id_list}"
   ]
  },
  {
   "cell_type": "code",
   "execution_count": null,
   "metadata": {},
   "outputs": [],
   "source": []
  }
 ],
 "metadata": {
  "kernelspec": {
   "display_name": "Python 3 (ipykernel)",
   "language": "python",
   "name": "python3"
  },
  "language_info": {
   "codemirror_mode": {
    "name": "ipython",
    "version": 3
   },
   "file_extension": ".py",
   "mimetype": "text/x-python",
   "name": "python",
   "nbconvert_exporter": "python",
   "pygments_lexer": "ipython3",
   "version": "3.10.2"
  }
 },
 "nbformat": 4,
 "nbformat_minor": 2
}
