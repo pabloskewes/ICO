{
 "cells": [
  {
   "cell_type": "code",
   "execution_count": null,
   "metadata": {},
   "outputs": [],
   "source": [
    "%load_ext autoreload\n",
    "%autoreload 1\n",
    "%aimport algorithme_genetique"
   ]
  },
  {
   "cell_type": "code",
   "execution_count": 168,
   "metadata": {},
   "outputs": [],
   "source": [
    "from statistics import median\n",
    "from algorithme_genetique import*"
   ]
  },
  {
   "cell_type": "code",
   "execution_count": 169,
   "metadata": {},
   "outputs": [],
   "source": [
    "import pandas as pd\n",
    "import numpy as np\n",
    "from math import sqrt"
   ]
  },
  {
   "cell_type": "code",
   "execution_count": 170,
   "metadata": {},
   "outputs": [],
   "source": [
    "vrptw = load_solomon('simple.csv', nb_cust=10, vehicle_speed=100)\n",
    "instance =init_vrpga(vrptw)\n",
    "best_solutions=[]"
   ]
  },
  {
   "cell_type": "code",
   "execution_count": 201,
   "metadata": {},
   "outputs": [
    {
     "name": "stdout",
     "output_type": "stream",
     "text": [
      "[0, 0, 7, 3, 5, 0, 6, 1, 0, 4, 0, 0, 2, 9, 0, 0, 10, 0, 0, 8, 0] -10675.518745117102\n",
      "[0, 3, 5, 1, 0, 0, 0, 9, 0, 2, 10, 0, 8, 0, 7, 4, 6, 0, 0] -8583.485527661414\n",
      "[0, 7, 0, 3, 1, 0, 2, 0, 0, 9, 4, 0, 0, 5, 10, 6, 0, 0, 8, 0] -9612.839774860448\n",
      "[0, 3, 0, 4, 0, 7, 8, 1, 0, 10, 0, 9, 2, 0, 5, 0, 6, 0, 0] -8682.595454055692\n",
      "[0, 0, 10, 6, 0, 3, 5, 8, 4, 9, 0, 2, 0, 7, 1, 0, 0] -6617.698158528985\n",
      "[0, 0, 7, 10, 1, 2, 0, 0, 0, 9, 8, 6, 0, 5, 3, 0, 0, 4, 0] -48577.624440239975\n",
      "[0, 3, 5, 9, 0, 8, 1, 2, 0, 7, 6, 10, 4, 0] -3604.968785058952\n",
      "[0, 0, 6, 0, 3, 1, 0, 7, 8, 0, 10, 0, 5, 0, 9, 0, 4, 2, 0] -8633.27810562844\n",
      "[0, 0, 10, 2, 0, 3, 5, 7, 0, 9, 0, 6, 0, 0, 8, 4, 0, 1, 0] -8654.968586679986\n"
     ]
    }
   ],
   "source": [
    "for i in range(10):\n",
    "    for i in range(1000):\n",
    "        instance.evolution()\n",
    "    print(instance.best_solution,instance.fitness(instance.best_solution))\n",
    "    best_solutions.append(instance.best_solution)"
   ]
  }
 ],
 "metadata": {
  "kernelspec": {
   "display_name": "Python 3 (ipykernel)",
   "language": "python",
   "name": "python3"
  },
  "language_info": {
   "codemirror_mode": {
    "name": "ipython",
    "version": 3
   },
   "file_extension": ".py",
   "mimetype": "text/x-python",
   "name": "python",
   "nbconvert_exporter": "python",
   "pygments_lexer": "ipython3",
   "version": "3.10.2"
  }
 },
 "nbformat": 4,
 "nbformat_minor": 2
}
